{
  "cells": [
    {
      "cell_type": "markdown",
      "metadata": {
        "id": "view-in-github",
        "colab_type": "text"
      },
      "source": [
        "<a href=\"https://colab.research.google.com/github/gayun99/dacon_competition/blob/main/%EC%9E%A1%EC%BC%80%EC%96%B4_lgb_%2B_xgb_%2B_cat%EC%A0%95%EB%A6%AC.ipynb\" target=\"_parent\"><img src=\"https://colab.research.google.com/assets/colab-badge.svg\" alt=\"Open In Colab\"/></a>"
      ]
    },
    {
      "cell_type": "code",
      "execution_count": null,
      "metadata": {
        "colab": {
          "base_uri": "https://localhost:8080/"
        },
        "id": "hgYmKUgGtW7s",
        "outputId": "659788be-029a-418c-946f-8a347798da89"
      },
      "outputs": [
        {
          "output_type": "stream",
          "name": "stdout",
          "text": [
            "Mounted at /content/drive\n"
          ]
        }
      ],
      "source": [
        "#드라이브 마운트\n",
        "from google.colab import drive\n",
        "drive.mount('/content/drive')"
      ]
    },
    {
      "cell_type": "code",
      "execution_count": null,
      "metadata": {
        "id": "ZyWA1ke6vyLY"
      },
      "outputs": [],
      "source": [
        "import numpy as np\n",
        "import pandas as pd\n",
        "import seaborn as sns\n",
        "import matplotlib.pyplot as plt\n",
        "import warnings\n",
        "\n",
        "from datetime import datetime"
      ]
    },
    {
      "cell_type": "code",
      "execution_count": null,
      "metadata": {
        "colab": {
          "base_uri": "https://localhost:8080/"
        },
        "id": "IQEVNXoawCMl",
        "outputId": "e229ecfe-09b2-43e1-f943-64265558e5ed"
      },
      "outputs": [
        {
          "output_type": "stream",
          "name": "stdout",
          "text": [
            "train_data.shape:  (501951, 35)\n",
            "test_data.shape:  (46404, 34)\n"
          ]
        }
      ],
      "source": [
        "train_data = pd.read_csv(\"/content/drive/MyDrive/jobcare/data/train.csv\")\n",
        "test_data = pd.read_csv(\"/content/drive/MyDrive/jobcare/data/test.csv\")\n",
        "\n",
        "d_code = pd.read_csv('/content/drive/MyDrive/jobcare/data/속성_D_코드.csv', index_col=0).T.to_dict()\n",
        "h_code = pd.read_csv('/content/drive/MyDrive/jobcare/data/속성_H_코드.csv', index_col=0).T.to_dict()\n",
        "l_code = pd.read_csv('/content/drive/MyDrive/jobcare/data/속성_L_코드.csv', index_col=0).T.to_dict()\n",
        "\n",
        "print(\"train_data.shape: \", train_data.shape)\n",
        "print(\"test_data.shape: \", test_data.shape)"
      ]
    },
    {
      "cell_type": "code",
      "execution_count": null,
      "metadata": {
        "id": "FidFOylPzR5l"
      },
      "outputs": [],
      "source": [
        "#train_data.head()"
      ]
    },
    {
      "cell_type": "markdown",
      "source": [
        "##전처리"
      ],
      "metadata": {
        "id": "0bFEzQS6oUcx"
      }
    },
    {
      "cell_type": "markdown",
      "source": [
        "HappyNewYear님의 **데이터 - 속성 코드 매칭 (데이터 오류 수정)** 코드공유를 참고하였습니다!"
      ],
      "metadata": {
        "id": "bwoxCpcInwV1"
      }
    },
    {
      "cell_type": "code",
      "execution_count": null,
      "metadata": {
        "colab": {
          "base_uri": "https://localhost:8080/"
        },
        "id": "3dHJPtFmzgyH",
        "outputId": "76ce012f-15f9-4f45-fe53-b4caa03aab0f"
      },
      "outputs": [
        {
          "output_type": "stream",
          "name": "stdout",
          "text": [
            "train_data.shape:  (501951, 63)\n",
            "test_data.shape:  (46404, 62)\n"
          ]
        }
      ],
      "source": [
        "from typing import Dict\n",
        "def add_code(\n",
        "    df: pd.DataFrame,\n",
        "    d_code: Dict[int, Dict[str, int]], \n",
        "    h_code: Dict[int, Dict[str, int]], \n",
        "    l_code: Dict[int, Dict[str, int]],\n",
        ") -> pd.DataFrame:\n",
        "    \n",
        "    # Copy input data\n",
        "    df = df.copy()   \n",
        "\n",
        "    # D Code\n",
        "    df['person_prefer_d_1_n'] = df['person_prefer_d_1'].apply(lambda x: d_code[x]['속성 D 세분류코드'])\n",
        "    df['person_prefer_d_1_s'] = df['person_prefer_d_1'].apply(lambda x: d_code[x]['속성 D 소분류코드'])\n",
        "    df['person_prefer_d_1_m'] = df['person_prefer_d_1'].apply(lambda x: d_code[x]['속성 D 중분류코드'])\n",
        "    df['person_prefer_d_1_l'] = df['person_prefer_d_1'].apply(lambda x: d_code[x]['속성 D 대분류코드'])\n",
        "\n",
        "    df['person_prefer_d_2_n'] = df['person_prefer_d_2'].apply(lambda x: d_code[x]['속성 D 세분류코드'])\n",
        "    df['person_prefer_d_2_s'] = df['person_prefer_d_2'].apply(lambda x: d_code[x]['속성 D 소분류코드'])\n",
        "    df['person_prefer_d_2_m'] = df['person_prefer_d_2'].apply(lambda x: d_code[x]['속성 D 중분류코드'])\n",
        "    df['person_prefer_d_2_l'] = df['person_prefer_d_2'].apply(lambda x: d_code[x]['속성 D 대분류코드'])\n",
        "\n",
        "    df['person_prefer_d_3_n'] = df['person_prefer_d_3'].apply(lambda x: d_code[x]['속성 D 세분류코드'])\n",
        "    df['person_prefer_d_3_s'] = df['person_prefer_d_3'].apply(lambda x: d_code[x]['속성 D 소분류코드'])\n",
        "    df['person_prefer_d_3_m'] = df['person_prefer_d_3'].apply(lambda x: d_code[x]['속성 D 중분류코드'])\n",
        "    df['person_prefer_d_3_l'] = df['person_prefer_d_3'].apply(lambda x: d_code[x]['속성 D 대분류코드'])\n",
        "\n",
        "    df['contents_attribute_d_n'] = df['contents_attribute_d'].apply(lambda x: d_code[x]['속성 D 세분류코드'])\n",
        "    df['contents_attribute_d_s'] = df['contents_attribute_d'].apply(lambda x: d_code[x]['속성 D 소분류코드'])\n",
        "    df['contents_attribute_d_m'] = df['contents_attribute_d'].apply(lambda x: d_code[x]['속성 D 중분류코드'])\n",
        "    df['contents_attribute_d_l'] = df['contents_attribute_d'].apply(lambda x: d_code[x]['속성 D 대분류코드'])\n",
        "\n",
        "    # H Code\n",
        "    df['person_prefer_h_1_l'] = df['person_prefer_h_1'].apply(lambda x: h_code[x]['속성 H 대분류코드'])\n",
        "    df['person_prefer_h_1_m'] = df['person_prefer_h_1'].apply(lambda x: h_code[x]['속성 H 중분류코드'])\n",
        "    \n",
        "    df['person_prefer_h_2_l'] = df['person_prefer_h_2'].apply(lambda x: h_code[x]['속성 H 대분류코드'])\n",
        "    df['person_prefer_h_2_m'] = df['person_prefer_h_2'].apply(lambda x: h_code[x]['속성 H 중분류코드'])\n",
        "    \n",
        "    df['person_prefer_h_3_l'] = df['person_prefer_h_3'].apply(lambda x: h_code[x]['속성 H 대분류코드'])\n",
        "    df['person_prefer_h_3_m'] = df['person_prefer_h_3'].apply(lambda x: h_code[x]['속성 H 중분류코드'])\n",
        "\n",
        "    df['contents_attribute_h_l'] = df['contents_attribute_h'].apply(lambda x: h_code[x]['속성 H 대분류코드'])\n",
        "    df['contents_attribute_h_m'] = df['contents_attribute_h'].apply(lambda x: h_code[x]['속성 H 중분류코드'])\n",
        "\n",
        "    # L Code\n",
        "    df['contents_attribute_l_n'] = df['contents_attribute_l'].apply(lambda x: l_code[x]['속성 L 세분류코드'])\n",
        "    df['contents_attribute_l_s'] = df['contents_attribute_l'].apply(lambda x: l_code[x]['속성 L 소분류코드'])\n",
        "    df['contents_attribute_l_m'] = df['contents_attribute_l'].apply(lambda x: l_code[x]['속성 L 중분류코드'])\n",
        "    df['contents_attribute_l_l'] = df['contents_attribute_l'].apply(lambda x: l_code[x]['속성 L 대분류코드'])\n",
        "    \n",
        "    return df\n",
        "\n",
        "train_data = add_code(train_data, d_code, h_code, l_code)\n",
        "test_data = add_code(test_data, d_code, h_code, l_code)\n",
        "print(\"train_data.shape: \", train_data.shape)\n",
        "print(\"test_data.shape: \", test_data.shape)"
      ]
    },
    {
      "cell_type": "code",
      "execution_count": null,
      "metadata": {
        "id": "SIMdlxtxCeD3"
      },
      "outputs": [],
      "source": [
        "train_data['dt']= pd.to_datetime(train_data['contents_open_dt'], format = \"%Y-%m-%d %H:%M:%S\")\n",
        "test_data['dt']= pd.to_datetime(test_data['contents_open_dt'], format = \"%Y-%m-%d %H:%M:%S\")"
      ]
    },
    {
      "cell_type": "code",
      "execution_count": null,
      "metadata": {
        "id": "zF3Q9E2JFpEH"
      },
      "outputs": [],
      "source": [
        "job_data = train_data.copy()\n",
        "job_data_test = test_data.copy()"
      ]
    },
    {
      "cell_type": "code",
      "execution_count": null,
      "metadata": {
        "colab": {
          "base_uri": "https://localhost:8080/"
        },
        "id": "6VxguJ4SFs73",
        "outputId": "6dd53487-6aff-449b-a335-04c49c638a05"
      },
      "outputs": [
        {
          "output_type": "execute_result",
          "data": {
            "text/plain": [
              "int64             56\n",
              "bool               6\n",
              "datetime64[ns]     1\n",
              "object             1\n",
              "dtype: int64"
            ]
          },
          "metadata": {},
          "execution_count": 17
        }
      ],
      "source": [
        "job_data.dtypes.value_counts()"
      ]
    },
    {
      "cell_type": "code",
      "execution_count": null,
      "metadata": {
        "colab": {
          "base_uri": "https://localhost:8080/"
        },
        "id": "Q1KT5WZMG3Q5",
        "outputId": "04e496db-6869-4eae-d570-90043955b4d2"
      },
      "outputs": [
        {
          "output_type": "execute_result",
          "data": {
            "text/plain": [
              "id                        501951\n",
              "person_attribute_a             2\n",
              "person_attribute_a_1           8\n",
              "person_attribute_b             6\n",
              "person_prefer_c                5\n",
              "person_prefer_d_1           1093\n",
              "person_prefer_d_2           1081\n",
              "person_prefer_d_3           1043\n",
              "person_prefer_e               12\n",
              "person_prefer_f                1\n",
              "person_prefer_g                1\n",
              "person_prefer_h_1            279\n",
              "person_prefer_h_2            279\n",
              "person_prefer_h_3            279\n",
              "contents_attribute_i           3\n",
              "contents_attribute_a           3\n",
              "contents_attribute_j_1         9\n",
              "contents_attribute_j           2\n",
              "contents_attribute_c           4\n",
              "contents_attribute_k           2\n",
              "contents_attribute_l        1752\n",
              "contents_attribute_d        1065\n",
              "contents_attribute_m           5\n",
              "contents_attribute_e          12\n",
              "contents_attribute_h         250\n",
              "person_rn                 300177\n",
              "contents_rn               283359\n",
              "target                         2\n",
              "person_prefer_d_1_n          443\n",
              "person_prefer_d_1_s          137\n",
              "person_prefer_d_1_m           36\n",
              "person_prefer_d_1_l           11\n",
              "person_prefer_d_2_n          435\n",
              "person_prefer_d_2_s          137\n",
              "person_prefer_d_2_m           36\n",
              "person_prefer_d_2_l           11\n",
              "person_prefer_d_3_n          420\n",
              "person_prefer_d_3_s          136\n",
              "person_prefer_d_3_m           36\n",
              "person_prefer_d_3_l           11\n",
              "contents_attribute_d_n       431\n",
              "contents_attribute_d_s       137\n",
              "contents_attribute_d_m        36\n",
              "contents_attribute_d_l        11\n",
              "person_prefer_h_1_l           19\n",
              "person_prefer_h_1_m          246\n",
              "person_prefer_h_2_l           19\n",
              "person_prefer_h_2_m          246\n",
              "person_prefer_h_3_l           19\n",
              "person_prefer_h_3_m          246\n",
              "contents_attribute_h_l        17\n",
              "contents_attribute_h_m       228\n",
              "contents_attribute_l_n       736\n",
              "contents_attribute_l_s       305\n",
              "contents_attribute_l_m        79\n",
              "contents_attribute_l_l        21\n",
              "dtype: int64"
            ]
          },
          "metadata": {},
          "execution_count": 19
        }
      ],
      "source": [
        "job_data.select_dtypes('int64').apply(pd.Series.nunique, axis=0)"
      ]
    },
    {
      "cell_type": "code",
      "execution_count": null,
      "metadata": {
        "id": "Y0J1-4nRk4E8"
      },
      "outputs": [],
      "source": [
        "drop = ['id','person_prefer_f', 'person_prefer_g', 'contents_open_dt', 'dt', 'person_rn', 'contents_rn' ]\n",
        "# contents_rn 때문에 메모리에러 나는거같아서 제외시켜봄"
      ]
    },
    {
      "cell_type": "code",
      "execution_count": null,
      "metadata": {
        "id": "-JFY3wOCodOD"
      },
      "outputs": [],
      "source": [
        "train = job_data.drop(drop,axis=1)\n",
        "test = job_data_test.drop(drop,axis=1)"
      ]
    },
    {
      "cell_type": "code",
      "execution_count": null,
      "metadata": {
        "id": "g7K3MqvcphKc"
      },
      "outputs": [],
      "source": [
        "traina = train.select_dtypes('bool')\n",
        "trainb = train.select_dtypes('int64')"
      ]
    },
    {
      "cell_type": "code",
      "execution_count": null,
      "metadata": {
        "id": "QwKLrS2-phKc",
        "colab": {
          "base_uri": "https://localhost:8080/"
        },
        "outputId": "05613d0b-3911-4be9-df41-14e1406f58e1"
      },
      "outputs": [
        {
          "output_type": "stream",
          "name": "stdout",
          "text": [
            "<class 'pandas.core.frame.DataFrame'>\n",
            "RangeIndex: 501951 entries, 0 to 501950\n",
            "Data columns (total 57 columns):\n",
            " #   Column                  Non-Null Count   Dtype\n",
            "---  ------                  --------------   -----\n",
            " 0   d_l_match_yn            501951 non-null  bool \n",
            " 1   d_m_match_yn            501951 non-null  bool \n",
            " 2   d_s_match_yn            501951 non-null  bool \n",
            " 3   h_l_match_yn            501951 non-null  bool \n",
            " 4   h_m_match_yn            501951 non-null  bool \n",
            " 5   h_s_match_yn            501951 non-null  bool \n",
            " 6   person_attribute_a      501951 non-null  int64\n",
            " 7   person_attribute_a_1    501951 non-null  int64\n",
            " 8   person_attribute_b      501951 non-null  int64\n",
            " 9   person_prefer_c         501951 non-null  int64\n",
            " 10  person_prefer_d_1       501951 non-null  int64\n",
            " 11  person_prefer_d_2       501951 non-null  int64\n",
            " 12  person_prefer_d_3       501951 non-null  int64\n",
            " 13  person_prefer_e         501951 non-null  int64\n",
            " 14  person_prefer_h_1       501951 non-null  int64\n",
            " 15  person_prefer_h_2       501951 non-null  int64\n",
            " 16  person_prefer_h_3       501951 non-null  int64\n",
            " 17  contents_attribute_i    501951 non-null  int64\n",
            " 18  contents_attribute_a    501951 non-null  int64\n",
            " 19  contents_attribute_j_1  501951 non-null  int64\n",
            " 20  contents_attribute_j    501951 non-null  int64\n",
            " 21  contents_attribute_c    501951 non-null  int64\n",
            " 22  contents_attribute_k    501951 non-null  int64\n",
            " 23  contents_attribute_l    501951 non-null  int64\n",
            " 24  contents_attribute_d    501951 non-null  int64\n",
            " 25  contents_attribute_m    501951 non-null  int64\n",
            " 26  contents_attribute_e    501951 non-null  int64\n",
            " 27  contents_attribute_h    501951 non-null  int64\n",
            " 28  target                  501951 non-null  int64\n",
            " 29  person_prefer_d_1_n     501951 non-null  int64\n",
            " 30  person_prefer_d_1_s     501951 non-null  int64\n",
            " 31  person_prefer_d_1_m     501951 non-null  int64\n",
            " 32  person_prefer_d_1_l     501951 non-null  int64\n",
            " 33  person_prefer_d_2_n     501951 non-null  int64\n",
            " 34  person_prefer_d_2_s     501951 non-null  int64\n",
            " 35  person_prefer_d_2_m     501951 non-null  int64\n",
            " 36  person_prefer_d_2_l     501951 non-null  int64\n",
            " 37  person_prefer_d_3_n     501951 non-null  int64\n",
            " 38  person_prefer_d_3_s     501951 non-null  int64\n",
            " 39  person_prefer_d_3_m     501951 non-null  int64\n",
            " 40  person_prefer_d_3_l     501951 non-null  int64\n",
            " 41  contents_attribute_d_n  501951 non-null  int64\n",
            " 42  contents_attribute_d_s  501951 non-null  int64\n",
            " 43  contents_attribute_d_m  501951 non-null  int64\n",
            " 44  contents_attribute_d_l  501951 non-null  int64\n",
            " 45  person_prefer_h_1_l     501951 non-null  int64\n",
            " 46  person_prefer_h_1_m     501951 non-null  int64\n",
            " 47  person_prefer_h_2_l     501951 non-null  int64\n",
            " 48  person_prefer_h_2_m     501951 non-null  int64\n",
            " 49  person_prefer_h_3_l     501951 non-null  int64\n",
            " 50  person_prefer_h_3_m     501951 non-null  int64\n",
            " 51  contents_attribute_h_l  501951 non-null  int64\n",
            " 52  contents_attribute_h_m  501951 non-null  int64\n",
            " 53  contents_attribute_l_n  501951 non-null  int64\n",
            " 54  contents_attribute_l_s  501951 non-null  int64\n",
            " 55  contents_attribute_l_m  501951 non-null  int64\n",
            " 56  contents_attribute_l_l  501951 non-null  int64\n",
            "dtypes: bool(6), int64(51)\n",
            "memory usage: 198.2 MB\n",
            "None\n"
          ]
        }
      ],
      "source": [
        "print(train.info())"
      ]
    },
    {
      "cell_type": "markdown",
      "source": [
        "categorical feature를 여러 방식으로 지정하고 시도해 보았으나 결국 catboost이외에선 사용하지 않았습니다"
      ],
      "metadata": {
        "id": "cUmo-tmloBD0"
      }
    },
    {
      "cell_type": "code",
      "execution_count": null,
      "metadata": {
        "colab": {
          "base_uri": "https://localhost:8080/"
        },
        "id": "LzYl1DaakdZP",
        "outputId": "d6d5cbf9-524a-4e29-e9b5-c367f9155146"
      },
      "outputs": [
        {
          "output_type": "stream",
          "name": "stdout",
          "text": [
            "['person_prefer_h_2_l', 'person_prefer_d_3_l', 'person_prefer_d_1_l', 'contents_attribute_a', 'contents_attribute_j_1', 'person_prefer_d_1_m', 'contents_attribute_d_m', 'person_prefer_d_2_m', 'person_prefer_h_1_l', 'contents_attribute_h_l', 'person_prefer_h_3_l', 'contents_attribute_d_l', 'person_prefer_c', 'person_attribute_a_1', 'person_prefer_e', 'contents_attribute_c', 'contents_attribute_m', 'contents_attribute_i', 'person_prefer_d_3_m', 'contents_attribute_l_l', 'person_attribute_b', 'person_attribute_a', 'contents_attribute_e', 'contents_attribute_k', 'person_prefer_d_2_l', 'contents_attribute_j'] 26\n"
          ]
        }
      ],
      "source": [
        "cat_features = trainb.columns[ (trainb.nunique() >= 2) & (trainb.nunique() < 50) ].tolist() #bool 제외한 trainb에서 categorical feature추출\n",
        "target = ['target']\n",
        "cat_features = list(set(cat_features) - set(target)) #target제외\n",
        "print(cat_features, len(cat_features))"
      ]
    },
    {
      "cell_type": "code",
      "execution_count": null,
      "metadata": {
        "colab": {
          "base_uri": "https://localhost:8080/"
        },
        "id": "Lk3vreFyphKe",
        "outputId": "7a04e195-6e24-428b-ac89-a476e0cbaa8b"
      },
      "outputs": [
        {
          "output_type": "stream",
          "name": "stdout",
          "text": [
            "['person_prefer_d_1', 'person_prefer_d_2', 'person_prefer_d_3', 'person_prefer_h_1', 'person_prefer_h_2', 'person_prefer_h_3', 'contents_attribute_l', 'contents_attribute_d', 'contents_attribute_h', 'person_prefer_d_1_n', 'person_prefer_d_1_s', 'person_prefer_d_2_n', 'person_prefer_d_2_s', 'person_prefer_d_3_n', 'person_prefer_d_3_s', 'contents_attribute_d_n', 'contents_attribute_d_s', 'person_prefer_h_1_m', 'person_prefer_h_2_m', 'person_prefer_h_3_m', 'contents_attribute_h_m', 'contents_attribute_l_n', 'contents_attribute_l_s', 'contents_attribute_l_m'] 24\n"
          ]
        }
      ],
      "source": [
        "high_cardinality_features = trainb.columns[ trainb.nunique() >= 50 ].tolist() # 50개 이상인건 high cardinality feature로 변경\n",
        "print(high_cardinality_features , len(high_cardinality_features))"
      ]
    },
    {
      "cell_type": "code",
      "execution_count": null,
      "metadata": {
        "id": "R2xh-86SphKe"
      },
      "outputs": [],
      "source": [
        "cate = list(set().union(cat_features, high_cardinality_features))"
      ]
    },
    {
      "cell_type": "code",
      "execution_count": null,
      "metadata": {
        "id": "8xRz43tekxSk"
      },
      "outputs": [],
      "source": [
        "# 순서형\n",
        "ordinal = ['person_attribute_a_1','person_attribute_b','person_prefer_e','contents_attribute_e']\n",
        "# 명목형\n",
        "nominal = list(set(cate) - set(ordinal))"
      ]
    },
    {
      "cell_type": "markdown",
      "source": [
        "##modeling, hyper parameter searching"
      ],
      "metadata": {
        "id": "sURpV7ZyoJDn"
      }
    },
    {
      "cell_type": "code",
      "execution_count": null,
      "metadata": {
        "id": "kiLpSPAMphKg"
      },
      "outputs": [],
      "source": [
        "from sklearn.model_selection import train_test_split\n",
        "\n",
        "X = train.copy()\n",
        "X = X.drop(['target'],axis=1)\n",
        "target = train['target']\n",
        "\n",
        "X_train,X_test,y_train,y_test = train_test_split(X,target,\n",
        "                                                 test_size=0.2,random_state=42, stratify = target) #train_test_split"
      ]
    },
    {
      "cell_type": "code",
      "source": [
        "pip install bayesian-optimization"
      ],
      "metadata": {
        "colab": {
          "base_uri": "https://localhost:8080/"
        },
        "id": "orBDQEwXVhEF",
        "outputId": "a8dec523-68ea-4f48-e04c-db7cf7872b83"
      },
      "execution_count": null,
      "outputs": [
        {
          "output_type": "stream",
          "name": "stdout",
          "text": [
            "Collecting bayesian-optimization\n",
            "  Downloading bayesian-optimization-1.2.0.tar.gz (14 kB)\n",
            "Requirement already satisfied: numpy>=1.9.0 in /usr/local/lib/python3.7/dist-packages (from bayesian-optimization) (1.19.5)\n",
            "Requirement already satisfied: scipy>=0.14.0 in /usr/local/lib/python3.7/dist-packages (from bayesian-optimization) (1.4.1)\n",
            "Requirement already satisfied: scikit-learn>=0.18.0 in /usr/local/lib/python3.7/dist-packages (from bayesian-optimization) (1.0.2)\n",
            "Requirement already satisfied: joblib>=0.11 in /usr/local/lib/python3.7/dist-packages (from scikit-learn>=0.18.0->bayesian-optimization) (1.1.0)\n",
            "Requirement already satisfied: threadpoolctl>=2.0.0 in /usr/local/lib/python3.7/dist-packages (from scikit-learn>=0.18.0->bayesian-optimization) (3.0.0)\n",
            "Building wheels for collected packages: bayesian-optimization\n",
            "  Building wheel for bayesian-optimization (setup.py) ... \u001b[?25l\u001b[?25hdone\n",
            "  Created wheel for bayesian-optimization: filename=bayesian_optimization-1.2.0-py3-none-any.whl size=11685 sha256=0c5daaf80c6f39b4ab0958d903f34c3c76e6e1fc837eea4023367218e31af31d\n",
            "  Stored in directory: /root/.cache/pip/wheels/fd/9b/71/f127d694e02eb40bcf18c7ae9613b88a6be4470f57a8528c5b\n",
            "Successfully built bayesian-optimization\n",
            "Installing collected packages: bayesian-optimization\n",
            "Successfully installed bayesian-optimization-1.2.0\n"
          ]
        }
      ]
    },
    {
      "cell_type": "code",
      "source": [
        "# lgbm / metric = f1-score \n",
        "\n",
        "import lightgbm as lgb\n",
        "from sklearn.metrics import f1_score\n",
        "from bayes_opt import BayesianOptimization\n",
        "n_folds=5\n",
        "d_train = lgb.Dataset(X_train, label=y_train, free_raw_data=False) #categorical feature 제외한 것이 결과가 더 좋았음 \n",
        "\n",
        "param_test ={'num_leaves': (6,45),\n",
        "             'min_child_weight': (1e-3, 1e3), #0.001 ~ 1000\n",
        "             'subsample': (0.5,1), \n",
        "             'colsample_bytree': (0.2,1), \n",
        "             'reg_alpha': (0, 100),\n",
        "             'reg_lambda': (0, 100),\n",
        "             'learning_rate': (0.01,0.2),\n",
        "             'max_depth': (3,8)} #파라미터 서칭 범위 설정\n",
        "\n",
        "def lgb_f1_score(y_hat, data):\n",
        "    y_true = data.get_label().astype(int)\n",
        "#    y_hat = (y_hat >= 0.5)\n",
        "    y_hat = np.round(y_hat).astype(int)\n",
        "    return 'f1', f1_score(y_true, y_hat), True #f1_score metric 만들어줌\n",
        "\n",
        "\n",
        "def lgb_cv(num_leaves,min_child_weight,subsample,colsample_bytree,reg_alpha,reg_lambda,max_depth,learning_rate):\n",
        "    params = {'num_iterations' : 5000, \n",
        "             'early_stopping_rounds':30,\n",
        "             'n_jobs':-1,\n",
        "              'metric' : 'custom', #metric custom으로 f1 score 지정\n",
        "             }\n",
        "    params['num_leaves'] = int(round(num_leaves))\n",
        "    params['min_child_weight'] = min_child_weight\n",
        "    params['subsample'] = subsample\n",
        "    params['colsample_bytree'] = colsample_bytree\n",
        "    params['reg_alpha'] = reg_alpha\n",
        "    params['reg_lambda'] = reg_lambda\n",
        "    params['learning_rate'] = learning_rate\n",
        "    params['max_depth']= int(round(max_depth)) #param_test의 파라미터 넣을 예정\n",
        "    lgbcv = lgb.cv(params, d_train, nfold=n_folds, seed=42, stratified=True, verbose_eval = 200,\n",
        "                   metrics=['None'], feval=lgb_f1_score)\n",
        "    \n",
        "    return max(lgbcv['f1-mean'])\n",
        "\n",
        "    \n",
        "lgbBO = BayesianOptimization(lgb_cv,param_test,random_state=42,verbose=2) #BayesianOptimization\n",
        "init_round=5\n",
        "opt_round = 10\n",
        "lgbBO.maximize(init_points=init_round, n_iter=opt_round)\n",
        "print(lgbBO.max)"
      ],
      "metadata": {
        "colab": {
          "base_uri": "https://localhost:8080/"
        },
        "id": "9VWQE83cCXnw",
        "outputId": "682e40c4-5fca-49b0-a900-b8af004d1b7c"
      },
      "execution_count": null,
      "outputs": [
        {
          "output_type": "stream",
          "name": "stdout",
          "text": [
            "|   iter    |  target   | colsam... | learni... | max_depth | min_ch... | num_le... | reg_alpha | reg_la... | subsample |\n",
            "-------------------------------------------------------------------------------------------------------------------------\n"
          ]
        },
        {
          "output_type": "stream",
          "name": "stderr",
          "text": [
            "/usr/local/lib/python3.7/dist-packages/lightgbm/engine.py:430: UserWarning: Found `num_iterations` in params. Will use it instead of argument\n",
            "  warnings.warn(\"Found `{}` in params. Will use it instead of argument\".format(alias))\n",
            "/usr/local/lib/python3.7/dist-packages/lightgbm/engine.py:435: UserWarning: Found `early_stopping_rounds` in params. Will use it instead of argument\n",
            "  warnings.warn(\"Found `{}` in params. Will use it instead of argument\".format(alias))\n"
          ]
        },
        {
          "output_type": "stream",
          "name": "stdout",
          "text": [
            "| \u001b[0m 1       \u001b[0m | \u001b[0m 0.6234  \u001b[0m | \u001b[0m 0.4996  \u001b[0m | \u001b[0m 0.1906  \u001b[0m | \u001b[0m 6.66    \u001b[0m | \u001b[0m 598.7   \u001b[0m | \u001b[0m 12.08   \u001b[0m | \u001b[0m 15.6    \u001b[0m | \u001b[0m 5.808   \u001b[0m | \u001b[0m 0.9331  \u001b[0m |\n"
          ]
        },
        {
          "output_type": "stream",
          "name": "stderr",
          "text": [
            "/usr/local/lib/python3.7/dist-packages/lightgbm/engine.py:430: UserWarning: Found `num_iterations` in params. Will use it instead of argument\n",
            "  warnings.warn(\"Found `{}` in params. Will use it instead of argument\".format(alias))\n",
            "/usr/local/lib/python3.7/dist-packages/lightgbm/engine.py:435: UserWarning: Found `early_stopping_rounds` in params. Will use it instead of argument\n",
            "  warnings.warn(\"Found `{}` in params. Will use it instead of argument\".format(alias))\n"
          ]
        },
        {
          "output_type": "stream",
          "name": "stdout",
          "text": [
            "| \u001b[0m 2       \u001b[0m | \u001b[0m 0.6136  \u001b[0m | \u001b[0m 0.6809  \u001b[0m | \u001b[0m 0.1445  \u001b[0m | \u001b[0m 3.103   \u001b[0m | \u001b[0m 969.9   \u001b[0m | \u001b[0m 38.47   \u001b[0m | \u001b[0m 21.23   \u001b[0m | \u001b[0m 18.18   \u001b[0m | \u001b[0m 0.5917  \u001b[0m |\n"
          ]
        },
        {
          "output_type": "stream",
          "name": "stderr",
          "text": [
            "/usr/local/lib/python3.7/dist-packages/lightgbm/engine.py:430: UserWarning: Found `num_iterations` in params. Will use it instead of argument\n",
            "  warnings.warn(\"Found `{}` in params. Will use it instead of argument\".format(alias))\n",
            "/usr/local/lib/python3.7/dist-packages/lightgbm/engine.py:435: UserWarning: Found `early_stopping_rounds` in params. Will use it instead of argument\n",
            "  warnings.warn(\"Found `{}` in params. Will use it instead of argument\".format(alias))\n"
          ]
        },
        {
          "output_type": "stream",
          "name": "stdout",
          "text": [
            "[200]\tcv_agg's f1: 0.633337 + 0.00225323\n",
            "[400]\tcv_agg's f1: 0.63919 + 0.00243163\n",
            "[600]\tcv_agg's f1: 0.641345 + 0.00157327\n",
            "| \u001b[95m 3       \u001b[0m | \u001b[95m 0.6416  \u001b[0m | \u001b[95m 0.4434  \u001b[0m | \u001b[95m 0.1097  \u001b[0m | \u001b[95m 5.16    \u001b[0m | \u001b[95m 291.2   \u001b[0m | \u001b[95m 29.86   \u001b[0m | \u001b[95m 13.95   \u001b[0m | \u001b[95m 29.21   \u001b[0m | \u001b[95m 0.6832  \u001b[0m |\n"
          ]
        },
        {
          "output_type": "stream",
          "name": "stderr",
          "text": [
            "/usr/local/lib/python3.7/dist-packages/lightgbm/engine.py:430: UserWarning: Found `num_iterations` in params. Will use it instead of argument\n",
            "  warnings.warn(\"Found `{}` in params. Will use it instead of argument\".format(alias))\n",
            "/usr/local/lib/python3.7/dist-packages/lightgbm/engine.py:435: UserWarning: Found `early_stopping_rounds` in params. Will use it instead of argument\n",
            "  warnings.warn(\"Found `{}` in params. Will use it instead of argument\".format(alias))\n"
          ]
        },
        {
          "output_type": "stream",
          "name": "stdout",
          "text": [
            "| \u001b[0m 4       \u001b[0m | \u001b[0m 0.6191  \u001b[0m | \u001b[0m 0.5649  \u001b[0m | \u001b[0m 0.1592  \u001b[0m | \u001b[0m 3.998   \u001b[0m | \u001b[0m 514.2   \u001b[0m | \u001b[0m 29.1    \u001b[0m | \u001b[0m 4.645   \u001b[0m | \u001b[0m 60.75   \u001b[0m | \u001b[0m 0.5853  \u001b[0m |\n"
          ]
        },
        {
          "output_type": "stream",
          "name": "stderr",
          "text": [
            "/usr/local/lib/python3.7/dist-packages/lightgbm/engine.py:430: UserWarning: Found `num_iterations` in params. Will use it instead of argument\n",
            "  warnings.warn(\"Found `{}` in params. Will use it instead of argument\".format(alias))\n",
            "/usr/local/lib/python3.7/dist-packages/lightgbm/engine.py:435: UserWarning: Found `early_stopping_rounds` in params. Will use it instead of argument\n",
            "  warnings.warn(\"Found `{}` in params. Will use it instead of argument\".format(alias))\n"
          ]
        },
        {
          "output_type": "stream",
          "name": "stdout",
          "text": [
            "[200]\tcv_agg's f1: 0.63727 + 0.00232325\n",
            "[400]\tcv_agg's f1: 0.640541 + 0.00219836\n",
            "| \u001b[0m 5       \u001b[0m | \u001b[0m 0.6414  \u001b[0m | \u001b[0m 0.252   \u001b[0m | \u001b[0m 0.1903  \u001b[0m | \u001b[0m 7.828   \u001b[0m | \u001b[0m 808.4   \u001b[0m | \u001b[0m 17.88   \u001b[0m | \u001b[0m 9.767   \u001b[0m | \u001b[0m 68.42   \u001b[0m | \u001b[0m 0.7201  \u001b[0m |\n"
          ]
        },
        {
          "output_type": "stream",
          "name": "stderr",
          "text": [
            "/usr/local/lib/python3.7/dist-packages/lightgbm/engine.py:430: UserWarning: Found `num_iterations` in params. Will use it instead of argument\n",
            "  warnings.warn(\"Found `{}` in params. Will use it instead of argument\".format(alias))\n",
            "/usr/local/lib/python3.7/dist-packages/lightgbm/engine.py:435: UserWarning: Found `early_stopping_rounds` in params. Will use it instead of argument\n",
            "  warnings.warn(\"Found `{}` in params. Will use it instead of argument\".format(alias))\n"
          ]
        },
        {
          "output_type": "stream",
          "name": "stdout",
          "text": [
            "[200]\tcv_agg's f1: 0.636159 + 0.00253188\n",
            "[400]\tcv_agg's f1: 0.64016 + 0.00263674\n",
            "| \u001b[0m 6       \u001b[0m | \u001b[0m 0.641   \u001b[0m | \u001b[0m 0.2918  \u001b[0m | \u001b[0m 0.1616  \u001b[0m | \u001b[0m 6.089   \u001b[0m | \u001b[0m 289.4   \u001b[0m | \u001b[0m 19.43   \u001b[0m | \u001b[0m 18.29   \u001b[0m | \u001b[0m 25.26   \u001b[0m | \u001b[0m 0.8586  \u001b[0m |\n"
          ]
        },
        {
          "output_type": "stream",
          "name": "stderr",
          "text": [
            "/usr/local/lib/python3.7/dist-packages/lightgbm/engine.py:430: UserWarning: Found `num_iterations` in params. Will use it instead of argument\n",
            "  warnings.warn(\"Found `{}` in params. Will use it instead of argument\".format(alias))\n",
            "/usr/local/lib/python3.7/dist-packages/lightgbm/engine.py:435: UserWarning: Found `early_stopping_rounds` in params. Will use it instead of argument\n",
            "  warnings.warn(\"Found `{}` in params. Will use it instead of argument\".format(alias))\n"
          ]
        },
        {
          "output_type": "stream",
          "name": "stdout",
          "text": [
            "[200]\tcv_agg's f1: 0.637989 + 0.00238652\n",
            "[400]\tcv_agg's f1: 0.641553 + 0.00218144\n",
            "[600]\tcv_agg's f1: 0.643594 + 0.0019831\n",
            "[800]\tcv_agg's f1: 0.644922 + 0.00187041\n",
            "| \u001b[95m 7       \u001b[0m | \u001b[95m 0.645   \u001b[0m | \u001b[95m 0.4221  \u001b[0m | \u001b[95m 0.1048  \u001b[0m | \u001b[95m 6.539   \u001b[0m | \u001b[95m 179.7   \u001b[0m | \u001b[95m 41.93   \u001b[0m | \u001b[95m 11.7    \u001b[0m | \u001b[95m 75.11   \u001b[0m | \u001b[95m 0.925   \u001b[0m |\n"
          ]
        },
        {
          "output_type": "stream",
          "name": "stderr",
          "text": [
            "/usr/local/lib/python3.7/dist-packages/lightgbm/engine.py:430: UserWarning: Found `num_iterations` in params. Will use it instead of argument\n",
            "  warnings.warn(\"Found `{}` in params. Will use it instead of argument\".format(alias))\n",
            "/usr/local/lib/python3.7/dist-packages/lightgbm/engine.py:435: UserWarning: Found `early_stopping_rounds` in params. Will use it instead of argument\n",
            "  warnings.warn(\"Found `{}` in params. Will use it instead of argument\".format(alias))\n"
          ]
        },
        {
          "output_type": "stream",
          "name": "stdout",
          "text": [
            "| \u001b[0m 8       \u001b[0m | \u001b[0m 0.6178  \u001b[0m | \u001b[0m 1.0     \u001b[0m | \u001b[0m 0.06745 \u001b[0m | \u001b[0m 3.0     \u001b[0m | \u001b[0m 81.46   \u001b[0m | \u001b[0m 45.0    \u001b[0m | \u001b[0m 100.0   \u001b[0m | \u001b[0m 0.0     \u001b[0m | \u001b[0m 0.5     \u001b[0m |\n"
          ]
        },
        {
          "output_type": "stream",
          "name": "stderr",
          "text": [
            "/usr/local/lib/python3.7/dist-packages/lightgbm/engine.py:430: UserWarning: Found `num_iterations` in params. Will use it instead of argument\n",
            "  warnings.warn(\"Found `{}` in params. Will use it instead of argument\".format(alias))\n",
            "/usr/local/lib/python3.7/dist-packages/lightgbm/engine.py:435: UserWarning: Found `early_stopping_rounds` in params. Will use it instead of argument\n",
            "  warnings.warn(\"Found `{}` in params. Will use it instead of argument\".format(alias))\n"
          ]
        },
        {
          "output_type": "stream",
          "name": "stdout",
          "text": [
            "| \u001b[0m 9       \u001b[0m | \u001b[0m 0.6184  \u001b[0m | \u001b[0m 1.0     \u001b[0m | \u001b[0m 0.01    \u001b[0m | \u001b[0m 3.0     \u001b[0m | \u001b[0m 253.6   \u001b[0m | \u001b[0m 45.0    \u001b[0m | \u001b[0m 82.68   \u001b[0m | \u001b[0m 100.0   \u001b[0m | \u001b[0m 0.5     \u001b[0m |\n"
          ]
        },
        {
          "output_type": "stream",
          "name": "stderr",
          "text": [
            "/usr/local/lib/python3.7/dist-packages/lightgbm/engine.py:430: UserWarning: Found `num_iterations` in params. Will use it instead of argument\n",
            "  warnings.warn(\"Found `{}` in params. Will use it instead of argument\".format(alias))\n",
            "/usr/local/lib/python3.7/dist-packages/lightgbm/engine.py:435: UserWarning: Found `early_stopping_rounds` in params. Will use it instead of argument\n",
            "  warnings.warn(\"Found `{}` in params. Will use it instead of argument\".format(alias))\n"
          ]
        },
        {
          "output_type": "stream",
          "name": "stdout",
          "text": [
            "| \u001b[0m 10      \u001b[0m | \u001b[0m 0.6255  \u001b[0m | \u001b[0m 0.788   \u001b[0m | \u001b[0m 0.0672  \u001b[0m | \u001b[0m 6.217   \u001b[0m | \u001b[0m 811.3   \u001b[0m | \u001b[0m 15.25   \u001b[0m | \u001b[0m 10.69   \u001b[0m | \u001b[0m 70.26   \u001b[0m | \u001b[0m 0.8161  \u001b[0m |\n"
          ]
        },
        {
          "output_type": "stream",
          "name": "stderr",
          "text": [
            "/usr/local/lib/python3.7/dist-packages/lightgbm/engine.py:430: UserWarning: Found `num_iterations` in params. Will use it instead of argument\n",
            "  warnings.warn(\"Found `{}` in params. Will use it instead of argument\".format(alias))\n",
            "/usr/local/lib/python3.7/dist-packages/lightgbm/engine.py:435: UserWarning: Found `early_stopping_rounds` in params. Will use it instead of argument\n",
            "  warnings.warn(\"Found `{}` in params. Will use it instead of argument\".format(alias))\n"
          ]
        },
        {
          "output_type": "stream",
          "name": "stdout",
          "text": [
            "[200]\tcv_agg's f1: 0.632536 + 0.00160892\n",
            "[400]\tcv_agg's f1: 0.637261 + 0.00201577\n",
            "| \u001b[0m 11      \u001b[0m | \u001b[0m 0.6388  \u001b[0m | \u001b[0m 0.7095  \u001b[0m | \u001b[0m 0.09491 \u001b[0m | \u001b[0m 6.337   \u001b[0m | \u001b[0m 703.5   \u001b[0m | \u001b[0m 39.32   \u001b[0m | \u001b[0m 64.05   \u001b[0m | \u001b[0m 73.95   \u001b[0m | \u001b[0m 0.7385  \u001b[0m |\n"
          ]
        },
        {
          "output_type": "stream",
          "name": "stderr",
          "text": [
            "/usr/local/lib/python3.7/dist-packages/lightgbm/engine.py:430: UserWarning: Found `num_iterations` in params. Will use it instead of argument\n",
            "  warnings.warn(\"Found `{}` in params. Will use it instead of argument\".format(alias))\n",
            "/usr/local/lib/python3.7/dist-packages/lightgbm/engine.py:435: UserWarning: Found `early_stopping_rounds` in params. Will use it instead of argument\n",
            "  warnings.warn(\"Found `{}` in params. Will use it instead of argument\".format(alias))\n"
          ]
        },
        {
          "output_type": "stream",
          "name": "stdout",
          "text": [
            "| \u001b[0m 12      \u001b[0m | \u001b[0m 0.621   \u001b[0m | \u001b[0m 0.7377  \u001b[0m | \u001b[0m 0.1574  \u001b[0m | \u001b[0m 3.813   \u001b[0m | \u001b[0m 129.1   \u001b[0m | \u001b[0m 19.45   \u001b[0m | \u001b[0m 2.849   \u001b[0m | \u001b[0m 11.91   \u001b[0m | \u001b[0m 0.9752  \u001b[0m |\n"
          ]
        },
        {
          "output_type": "stream",
          "name": "stderr",
          "text": [
            "/usr/local/lib/python3.7/dist-packages/lightgbm/engine.py:430: UserWarning: Found `num_iterations` in params. Will use it instead of argument\n",
            "  warnings.warn(\"Found `{}` in params. Will use it instead of argument\".format(alias))\n",
            "/usr/local/lib/python3.7/dist-packages/lightgbm/engine.py:435: UserWarning: Found `early_stopping_rounds` in params. Will use it instead of argument\n",
            "  warnings.warn(\"Found `{}` in params. Will use it instead of argument\".format(alias))\n"
          ]
        },
        {
          "output_type": "stream",
          "name": "stdout",
          "text": [
            "[200]\tcv_agg's f1: 0.637642 + 0.00207965\n",
            "| \u001b[0m 13      \u001b[0m | \u001b[0m 0.6387  \u001b[0m | \u001b[0m 0.8063  \u001b[0m | \u001b[0m 0.1939  \u001b[0m | \u001b[0m 7.85    \u001b[0m | \u001b[0m 739.2   \u001b[0m | \u001b[0m 37.36   \u001b[0m | \u001b[0m 73.08   \u001b[0m | \u001b[0m 67.68   \u001b[0m | \u001b[0m 0.9525  \u001b[0m |\n"
          ]
        },
        {
          "output_type": "stream",
          "name": "stderr",
          "text": [
            "/usr/local/lib/python3.7/dist-packages/lightgbm/engine.py:430: UserWarning: Found `num_iterations` in params. Will use it instead of argument\n",
            "  warnings.warn(\"Found `{}` in params. Will use it instead of argument\".format(alias))\n",
            "/usr/local/lib/python3.7/dist-packages/lightgbm/engine.py:435: UserWarning: Found `early_stopping_rounds` in params. Will use it instead of argument\n",
            "  warnings.warn(\"Found `{}` in params. Will use it instead of argument\".format(alias))\n"
          ]
        },
        {
          "output_type": "stream",
          "name": "stdout",
          "text": [
            "| \u001b[0m 14      \u001b[0m | \u001b[0m 0.6191  \u001b[0m | \u001b[0m 0.8892  \u001b[0m | \u001b[0m 0.1381  \u001b[0m | \u001b[0m 3.377   \u001b[0m | \u001b[0m 518.3   \u001b[0m | \u001b[0m 16.54   \u001b[0m | \u001b[0m 67.58   \u001b[0m | \u001b[0m 48.46   \u001b[0m | \u001b[0m 0.8102  \u001b[0m |\n"
          ]
        },
        {
          "output_type": "stream",
          "name": "stderr",
          "text": [
            "/usr/local/lib/python3.7/dist-packages/lightgbm/engine.py:430: UserWarning: Found `num_iterations` in params. Will use it instead of argument\n",
            "  warnings.warn(\"Found `{}` in params. Will use it instead of argument\".format(alias))\n",
            "/usr/local/lib/python3.7/dist-packages/lightgbm/engine.py:435: UserWarning: Found `early_stopping_rounds` in params. Will use it instead of argument\n",
            "  warnings.warn(\"Found `{}` in params. Will use it instead of argument\".format(alias))\n"
          ]
        },
        {
          "output_type": "stream",
          "name": "stdout",
          "text": [
            "| \u001b[0m 15      \u001b[0m | \u001b[0m 0.607   \u001b[0m | \u001b[0m 0.3081  \u001b[0m | \u001b[0m 0.01534 \u001b[0m | \u001b[0m 5.407   \u001b[0m | \u001b[0m 724.4   \u001b[0m | \u001b[0m 41.22   \u001b[0m | \u001b[0m 15.01   \u001b[0m | \u001b[0m 82.74   \u001b[0m | \u001b[0m 0.8302  \u001b[0m |\n",
            "=========================================================================================================================\n",
            "{'target': 0.6450417981300127, 'params': {'colsample_bytree': 0.42209521842301206, 'learning_rate': 0.10484245051198389, 'max_depth': 6.538959966526196, 'min_child_weight': 179.73587409486447, 'num_leaves': 41.93155561007692, 'reg_alpha': 11.703995378037979, 'reg_lambda': 75.10637375121931, 'subsample': 0.9249791467005761}}\n"
          ]
        }
      ]
    },
    {
      "cell_type": "code",
      "source": [
        "lgb_params = {'colsample_bytree': 0.422, \n",
        "              'learning_rate': 0.1048, \n",
        "              'max_depth': 7, \n",
        "              'min_child_weight': 179.736, \n",
        "              'num_leaves': 42, \n",
        "              'reg_alpha': 11.704, \n",
        "              'reg_lambda': 75.106, \n",
        "              'subsample': 0.925}"
      ],
      "metadata": {
        "id": "-oAt6mCPDpkw"
      },
      "execution_count": null,
      "outputs": []
    },
    {
      "cell_type": "code",
      "source": [
        "a = {'num_iterations' : 5000, \n",
        "     'early_stopping_rounds':100,\n",
        "     'n_jobs':-1,\n",
        "     'metric' : 'custom',\n",
        "     'verbose': 100, \n",
        "     'seed' : 42} #원래 있던 파라미터들 추가, early_stopping만 100으로 변경\n",
        "lgb_params.update(a)\n",
        "lgb2 = lgb.train(lgb_params, d_train, valid_sets= lgb.Dataset(X_test,y_test), feval=lgb_f1_score) #최적파라미터로 모델 예측\n",
        "\n",
        "#lgb_prob = lgb2.predict( X_test )"
      ],
      "metadata": {
        "id": "thr2B-JRIg0p",
        "colab": {
          "base_uri": "https://localhost:8080/"
        },
        "outputId": "a8576a7f-2bbb-462c-c718-3a1464398585"
      },
      "execution_count": null,
      "outputs": [
        {
          "output_type": "stream",
          "name": "stderr",
          "text": [
            "/usr/local/lib/python3.7/dist-packages/lightgbm/engine.py:118: UserWarning: Found `num_iterations` in params. Will use it instead of argument\n",
            "  warnings.warn(\"Found `{}` in params. Will use it instead of argument\".format(alias))\n",
            "/usr/local/lib/python3.7/dist-packages/lightgbm/engine.py:123: UserWarning: Found `early_stopping_rounds` in params. Will use it instead of argument\n",
            "  warnings.warn(\"Found `{}` in params. Will use it instead of argument\".format(alias))\n"
          ]
        },
        {
          "output_type": "stream",
          "name": "stdout",
          "text": [
            "[1]\tvalid_0's f1: 0.571561\n",
            "Training until validation scores don't improve for 100 rounds.\n",
            "[2]\tvalid_0's f1: 0.616071\n",
            "[3]\tvalid_0's f1: 0.615473\n",
            "[4]\tvalid_0's f1: 0.610438\n",
            "[5]\tvalid_0's f1: 0.603898\n",
            "[6]\tvalid_0's f1: 0.605951\n",
            "[7]\tvalid_0's f1: 0.599532\n",
            "[8]\tvalid_0's f1: 0.609857\n",
            "[9]\tvalid_0's f1: 0.610256\n",
            "[10]\tvalid_0's f1: 0.612791\n",
            "[11]\tvalid_0's f1: 0.61609\n",
            "[12]\tvalid_0's f1: 0.615517\n",
            "[13]\tvalid_0's f1: 0.61666\n",
            "[14]\tvalid_0's f1: 0.617322\n",
            "[15]\tvalid_0's f1: 0.618314\n",
            "[16]\tvalid_0's f1: 0.618931\n",
            "[17]\tvalid_0's f1: 0.617654\n",
            "[18]\tvalid_0's f1: 0.617614\n",
            "[19]\tvalid_0's f1: 0.619387\n",
            "[20]\tvalid_0's f1: 0.619114\n",
            "[21]\tvalid_0's f1: 0.619787\n",
            "[22]\tvalid_0's f1: 0.619757\n",
            "[23]\tvalid_0's f1: 0.619947\n",
            "[24]\tvalid_0's f1: 0.620223\n",
            "[25]\tvalid_0's f1: 0.62063\n",
            "[26]\tvalid_0's f1: 0.621051\n",
            "[27]\tvalid_0's f1: 0.621965\n",
            "[28]\tvalid_0's f1: 0.621336\n",
            "[29]\tvalid_0's f1: 0.621678\n",
            "[30]\tvalid_0's f1: 0.621763\n",
            "[31]\tvalid_0's f1: 0.622342\n",
            "[32]\tvalid_0's f1: 0.622611\n",
            "[33]\tvalid_0's f1: 0.623039\n",
            "[34]\tvalid_0's f1: 0.623456\n",
            "[35]\tvalid_0's f1: 0.623559\n",
            "[36]\tvalid_0's f1: 0.623645\n",
            "[37]\tvalid_0's f1: 0.62397\n",
            "[38]\tvalid_0's f1: 0.624079\n",
            "[39]\tvalid_0's f1: 0.624466\n",
            "[40]\tvalid_0's f1: 0.624203\n",
            "[41]\tvalid_0's f1: 0.62495\n",
            "[42]\tvalid_0's f1: 0.624714\n",
            "[43]\tvalid_0's f1: 0.624841\n",
            "[44]\tvalid_0's f1: 0.625415\n",
            "[45]\tvalid_0's f1: 0.625803\n",
            "[46]\tvalid_0's f1: 0.626108\n",
            "[47]\tvalid_0's f1: 0.626415\n",
            "[48]\tvalid_0's f1: 0.626304\n",
            "[49]\tvalid_0's f1: 0.626883\n",
            "[50]\tvalid_0's f1: 0.626772\n",
            "[51]\tvalid_0's f1: 0.62724\n",
            "[52]\tvalid_0's f1: 0.627484\n",
            "[53]\tvalid_0's f1: 0.627363\n",
            "[54]\tvalid_0's f1: 0.627289\n",
            "[55]\tvalid_0's f1: 0.627569\n",
            "[56]\tvalid_0's f1: 0.628369\n",
            "[57]\tvalid_0's f1: 0.628376\n",
            "[58]\tvalid_0's f1: 0.628728\n",
            "[59]\tvalid_0's f1: 0.629082\n",
            "[60]\tvalid_0's f1: 0.629131\n",
            "[61]\tvalid_0's f1: 0.629759\n",
            "[62]\tvalid_0's f1: 0.62966\n",
            "[63]\tvalid_0's f1: 0.629809\n",
            "[64]\tvalid_0's f1: 0.630157\n",
            "[65]\tvalid_0's f1: 0.630517\n",
            "[66]\tvalid_0's f1: 0.630466\n",
            "[67]\tvalid_0's f1: 0.630358\n",
            "[68]\tvalid_0's f1: 0.630397\n",
            "[69]\tvalid_0's f1: 0.630406\n",
            "[70]\tvalid_0's f1: 0.63066\n",
            "[71]\tvalid_0's f1: 0.630934\n",
            "[72]\tvalid_0's f1: 0.63069\n",
            "[73]\tvalid_0's f1: 0.631154\n",
            "[74]\tvalid_0's f1: 0.630861\n",
            "[75]\tvalid_0's f1: 0.631226\n",
            "[76]\tvalid_0's f1: 0.63125\n",
            "[77]\tvalid_0's f1: 0.631195\n",
            "[78]\tvalid_0's f1: 0.631516\n",
            "[79]\tvalid_0's f1: 0.631579\n",
            "[80]\tvalid_0's f1: 0.631902\n",
            "[81]\tvalid_0's f1: 0.632122\n",
            "[82]\tvalid_0's f1: 0.632308\n",
            "[83]\tvalid_0's f1: 0.632485\n",
            "[84]\tvalid_0's f1: 0.632585\n",
            "[85]\tvalid_0's f1: 0.633008\n",
            "[86]\tvalid_0's f1: 0.632998\n",
            "[87]\tvalid_0's f1: 0.633129\n",
            "[88]\tvalid_0's f1: 0.633287\n",
            "[89]\tvalid_0's f1: 0.633533\n",
            "[90]\tvalid_0's f1: 0.633595\n",
            "[91]\tvalid_0's f1: 0.633505\n",
            "[92]\tvalid_0's f1: 0.633386\n",
            "[93]\tvalid_0's f1: 0.633445\n",
            "[94]\tvalid_0's f1: 0.633463\n",
            "[95]\tvalid_0's f1: 0.63304\n",
            "[96]\tvalid_0's f1: 0.633462\n",
            "[97]\tvalid_0's f1: 0.633362\n",
            "[98]\tvalid_0's f1: 0.633674\n",
            "[99]\tvalid_0's f1: 0.633706\n",
            "[100]\tvalid_0's f1: 0.633898\n",
            "[101]\tvalid_0's f1: 0.633984\n",
            "[102]\tvalid_0's f1: 0.634178\n",
            "[103]\tvalid_0's f1: 0.634418\n",
            "[104]\tvalid_0's f1: 0.634707\n",
            "[105]\tvalid_0's f1: 0.634699\n",
            "[106]\tvalid_0's f1: 0.63476\n",
            "[107]\tvalid_0's f1: 0.634658\n",
            "[108]\tvalid_0's f1: 0.635062\n",
            "[109]\tvalid_0's f1: 0.634896\n",
            "[110]\tvalid_0's f1: 0.635077\n",
            "[111]\tvalid_0's f1: 0.635057\n",
            "[112]\tvalid_0's f1: 0.635537\n",
            "[113]\tvalid_0's f1: 0.635536\n",
            "[114]\tvalid_0's f1: 0.635818\n",
            "[115]\tvalid_0's f1: 0.635998\n",
            "[116]\tvalid_0's f1: 0.636194\n",
            "[117]\tvalid_0's f1: 0.63632\n",
            "[118]\tvalid_0's f1: 0.636311\n",
            "[119]\tvalid_0's f1: 0.636172\n",
            "[120]\tvalid_0's f1: 0.636331\n",
            "[121]\tvalid_0's f1: 0.636502\n",
            "[122]\tvalid_0's f1: 0.636149\n",
            "[123]\tvalid_0's f1: 0.636389\n",
            "[124]\tvalid_0's f1: 0.636324\n",
            "[125]\tvalid_0's f1: 0.636376\n",
            "[126]\tvalid_0's f1: 0.636632\n",
            "[127]\tvalid_0's f1: 0.636535\n",
            "[128]\tvalid_0's f1: 0.636565\n",
            "[129]\tvalid_0's f1: 0.63653\n",
            "[130]\tvalid_0's f1: 0.636555\n",
            "[131]\tvalid_0's f1: 0.636429\n",
            "[132]\tvalid_0's f1: 0.636339\n",
            "[133]\tvalid_0's f1: 0.63639\n",
            "[134]\tvalid_0's f1: 0.636624\n",
            "[135]\tvalid_0's f1: 0.636654\n",
            "[136]\tvalid_0's f1: 0.636902\n",
            "[137]\tvalid_0's f1: 0.637125\n",
            "[138]\tvalid_0's f1: 0.637132\n",
            "[139]\tvalid_0's f1: 0.637334\n",
            "[140]\tvalid_0's f1: 0.637241\n",
            "[141]\tvalid_0's f1: 0.637204\n",
            "[142]\tvalid_0's f1: 0.637297\n",
            "[143]\tvalid_0's f1: 0.637113\n",
            "[144]\tvalid_0's f1: 0.63732\n",
            "[145]\tvalid_0's f1: 0.637238\n",
            "[146]\tvalid_0's f1: 0.63756\n",
            "[147]\tvalid_0's f1: 0.637626\n",
            "[148]\tvalid_0's f1: 0.637837\n",
            "[149]\tvalid_0's f1: 0.637741\n",
            "[150]\tvalid_0's f1: 0.637649\n",
            "[151]\tvalid_0's f1: 0.637708\n",
            "[152]\tvalid_0's f1: 0.637627\n",
            "[153]\tvalid_0's f1: 0.637688\n",
            "[154]\tvalid_0's f1: 0.637506\n",
            "[155]\tvalid_0's f1: 0.637451\n",
            "[156]\tvalid_0's f1: 0.637307\n",
            "[157]\tvalid_0's f1: 0.637711\n",
            "[158]\tvalid_0's f1: 0.637617\n",
            "[159]\tvalid_0's f1: 0.637748\n",
            "[160]\tvalid_0's f1: 0.637447\n",
            "[161]\tvalid_0's f1: 0.637366\n",
            "[162]\tvalid_0's f1: 0.637433\n",
            "[163]\tvalid_0's f1: 0.637693\n",
            "[164]\tvalid_0's f1: 0.637589\n",
            "[165]\tvalid_0's f1: 0.637769\n",
            "[166]\tvalid_0's f1: 0.637743\n",
            "[167]\tvalid_0's f1: 0.637742\n",
            "[168]\tvalid_0's f1: 0.637916\n",
            "[169]\tvalid_0's f1: 0.63804\n",
            "[170]\tvalid_0's f1: 0.638173\n",
            "[171]\tvalid_0's f1: 0.638153\n",
            "[172]\tvalid_0's f1: 0.63817\n",
            "[173]\tvalid_0's f1: 0.638311\n",
            "[174]\tvalid_0's f1: 0.638336\n",
            "[175]\tvalid_0's f1: 0.638614\n",
            "[176]\tvalid_0's f1: 0.638803\n",
            "[177]\tvalid_0's f1: 0.638922\n",
            "[178]\tvalid_0's f1: 0.638674\n",
            "[179]\tvalid_0's f1: 0.638702\n",
            "[180]\tvalid_0's f1: 0.638649\n",
            "[181]\tvalid_0's f1: 0.638467\n",
            "[182]\tvalid_0's f1: 0.638685\n",
            "[183]\tvalid_0's f1: 0.638883\n",
            "[184]\tvalid_0's f1: 0.638892\n",
            "[185]\tvalid_0's f1: 0.63897\n",
            "[186]\tvalid_0's f1: 0.638715\n",
            "[187]\tvalid_0's f1: 0.638754\n",
            "[188]\tvalid_0's f1: 0.638766\n",
            "[189]\tvalid_0's f1: 0.638686\n",
            "[190]\tvalid_0's f1: 0.638739\n",
            "[191]\tvalid_0's f1: 0.638858\n",
            "[192]\tvalid_0's f1: 0.639061\n",
            "[193]\tvalid_0's f1: 0.639228\n",
            "[194]\tvalid_0's f1: 0.639105\n",
            "[195]\tvalid_0's f1: 0.638992\n",
            "[196]\tvalid_0's f1: 0.639054\n",
            "[197]\tvalid_0's f1: 0.639152\n",
            "[198]\tvalid_0's f1: 0.639183\n",
            "[199]\tvalid_0's f1: 0.639411\n",
            "[200]\tvalid_0's f1: 0.639375\n",
            "[201]\tvalid_0's f1: 0.639279\n",
            "[202]\tvalid_0's f1: 0.639318\n",
            "[203]\tvalid_0's f1: 0.639403\n",
            "[204]\tvalid_0's f1: 0.639588\n",
            "[205]\tvalid_0's f1: 0.639404\n",
            "[206]\tvalid_0's f1: 0.63955\n",
            "[207]\tvalid_0's f1: 0.639636\n",
            "[208]\tvalid_0's f1: 0.639665\n",
            "[209]\tvalid_0's f1: 0.639668\n",
            "[210]\tvalid_0's f1: 0.639842\n",
            "[211]\tvalid_0's f1: 0.639738\n",
            "[212]\tvalid_0's f1: 0.639905\n",
            "[213]\tvalid_0's f1: 0.639941\n",
            "[214]\tvalid_0's f1: 0.640057\n",
            "[215]\tvalid_0's f1: 0.640068\n",
            "[216]\tvalid_0's f1: 0.640203\n",
            "[217]\tvalid_0's f1: 0.640202\n",
            "[218]\tvalid_0's f1: 0.640187\n",
            "[219]\tvalid_0's f1: 0.640195\n",
            "[220]\tvalid_0's f1: 0.640164\n",
            "[221]\tvalid_0's f1: 0.640259\n",
            "[222]\tvalid_0's f1: 0.640269\n",
            "[223]\tvalid_0's f1: 0.640392\n",
            "[224]\tvalid_0's f1: 0.64038\n",
            "[225]\tvalid_0's f1: 0.640415\n",
            "[226]\tvalid_0's f1: 0.640539\n",
            "[227]\tvalid_0's f1: 0.64049\n",
            "[228]\tvalid_0's f1: 0.640405\n",
            "[229]\tvalid_0's f1: 0.640447\n",
            "[230]\tvalid_0's f1: 0.640474\n",
            "[231]\tvalid_0's f1: 0.64058\n",
            "[232]\tvalid_0's f1: 0.640824\n",
            "[233]\tvalid_0's f1: 0.641094\n",
            "[234]\tvalid_0's f1: 0.641021\n",
            "[235]\tvalid_0's f1: 0.641087\n",
            "[236]\tvalid_0's f1: 0.64106\n",
            "[237]\tvalid_0's f1: 0.640966\n",
            "[238]\tvalid_0's f1: 0.640794\n",
            "[239]\tvalid_0's f1: 0.640709\n",
            "[240]\tvalid_0's f1: 0.640651\n",
            "[241]\tvalid_0's f1: 0.640733\n",
            "[242]\tvalid_0's f1: 0.640853\n",
            "[243]\tvalid_0's f1: 0.64086\n",
            "[244]\tvalid_0's f1: 0.640838\n",
            "[245]\tvalid_0's f1: 0.640854\n",
            "[246]\tvalid_0's f1: 0.640877\n",
            "[247]\tvalid_0's f1: 0.640857\n",
            "[248]\tvalid_0's f1: 0.640974\n",
            "[249]\tvalid_0's f1: 0.6411\n",
            "[250]\tvalid_0's f1: 0.641209\n",
            "[251]\tvalid_0's f1: 0.641127\n",
            "[252]\tvalid_0's f1: 0.641093\n",
            "[253]\tvalid_0's f1: 0.641156\n",
            "[254]\tvalid_0's f1: 0.641112\n",
            "[255]\tvalid_0's f1: 0.641015\n",
            "[256]\tvalid_0's f1: 0.64093\n",
            "[257]\tvalid_0's f1: 0.640802\n",
            "[258]\tvalid_0's f1: 0.640674\n",
            "[259]\tvalid_0's f1: 0.64083\n",
            "[260]\tvalid_0's f1: 0.641139\n",
            "[261]\tvalid_0's f1: 0.641231\n",
            "[262]\tvalid_0's f1: 0.641275\n",
            "[263]\tvalid_0's f1: 0.641109\n",
            "[264]\tvalid_0's f1: 0.64116\n",
            "[265]\tvalid_0's f1: 0.641489\n",
            "[266]\tvalid_0's f1: 0.641502\n",
            "[267]\tvalid_0's f1: 0.641421\n",
            "[268]\tvalid_0's f1: 0.641446\n",
            "[269]\tvalid_0's f1: 0.641615\n",
            "[270]\tvalid_0's f1: 0.641731\n",
            "[271]\tvalid_0's f1: 0.641749\n",
            "[272]\tvalid_0's f1: 0.641709\n",
            "[273]\tvalid_0's f1: 0.64175\n",
            "[274]\tvalid_0's f1: 0.641693\n",
            "[275]\tvalid_0's f1: 0.641696\n",
            "[276]\tvalid_0's f1: 0.641917\n",
            "[277]\tvalid_0's f1: 0.641846\n",
            "[278]\tvalid_0's f1: 0.641753\n",
            "[279]\tvalid_0's f1: 0.641861\n",
            "[280]\tvalid_0's f1: 0.641932\n",
            "[281]\tvalid_0's f1: 0.641913\n",
            "[282]\tvalid_0's f1: 0.641844\n",
            "[283]\tvalid_0's f1: 0.641918\n",
            "[284]\tvalid_0's f1: 0.641974\n",
            "[285]\tvalid_0's f1: 0.641999\n",
            "[286]\tvalid_0's f1: 0.641955\n",
            "[287]\tvalid_0's f1: 0.642007\n",
            "[288]\tvalid_0's f1: 0.642147\n",
            "[289]\tvalid_0's f1: 0.642261\n",
            "[290]\tvalid_0's f1: 0.64213\n",
            "[291]\tvalid_0's f1: 0.642162\n",
            "[292]\tvalid_0's f1: 0.642128\n",
            "[293]\tvalid_0's f1: 0.642066\n",
            "[294]\tvalid_0's f1: 0.641849\n",
            "[295]\tvalid_0's f1: 0.641829\n",
            "[296]\tvalid_0's f1: 0.641758\n",
            "[297]\tvalid_0's f1: 0.641945\n",
            "[298]\tvalid_0's f1: 0.642024\n",
            "[299]\tvalid_0's f1: 0.642093\n",
            "[300]\tvalid_0's f1: 0.641934\n",
            "[301]\tvalid_0's f1: 0.642075\n",
            "[302]\tvalid_0's f1: 0.642034\n",
            "[303]\tvalid_0's f1: 0.641924\n",
            "[304]\tvalid_0's f1: 0.642028\n",
            "[305]\tvalid_0's f1: 0.642096\n",
            "[306]\tvalid_0's f1: 0.642201\n",
            "[307]\tvalid_0's f1: 0.641954\n",
            "[308]\tvalid_0's f1: 0.6421\n",
            "[309]\tvalid_0's f1: 0.642249\n",
            "[310]\tvalid_0's f1: 0.642374\n",
            "[311]\tvalid_0's f1: 0.642355\n",
            "[312]\tvalid_0's f1: 0.642351\n",
            "[313]\tvalid_0's f1: 0.642535\n",
            "[314]\tvalid_0's f1: 0.642483\n",
            "[315]\tvalid_0's f1: 0.642528\n",
            "[316]\tvalid_0's f1: 0.642381\n",
            "[317]\tvalid_0's f1: 0.642418\n",
            "[318]\tvalid_0's f1: 0.642331\n",
            "[319]\tvalid_0's f1: 0.642263\n",
            "[320]\tvalid_0's f1: 0.642268\n",
            "[321]\tvalid_0's f1: 0.642282\n",
            "[322]\tvalid_0's f1: 0.642239\n",
            "[323]\tvalid_0's f1: 0.642448\n",
            "[324]\tvalid_0's f1: 0.642569\n",
            "[325]\tvalid_0's f1: 0.642684\n",
            "[326]\tvalid_0's f1: 0.642616\n",
            "[327]\tvalid_0's f1: 0.642535\n",
            "[328]\tvalid_0's f1: 0.642778\n",
            "[329]\tvalid_0's f1: 0.642864\n",
            "[330]\tvalid_0's f1: 0.642852\n",
            "[331]\tvalid_0's f1: 0.642903\n",
            "[332]\tvalid_0's f1: 0.643051\n",
            "[333]\tvalid_0's f1: 0.643203\n",
            "[334]\tvalid_0's f1: 0.643332\n",
            "[335]\tvalid_0's f1: 0.643447\n",
            "[336]\tvalid_0's f1: 0.643502\n",
            "[337]\tvalid_0's f1: 0.643572\n",
            "[338]\tvalid_0's f1: 0.643671\n",
            "[339]\tvalid_0's f1: 0.643556\n",
            "[340]\tvalid_0's f1: 0.643555\n",
            "[341]\tvalid_0's f1: 0.643594\n",
            "[342]\tvalid_0's f1: 0.643542\n",
            "[343]\tvalid_0's f1: 0.643527\n",
            "[344]\tvalid_0's f1: 0.643583\n",
            "[345]\tvalid_0's f1: 0.64353\n",
            "[346]\tvalid_0's f1: 0.643437\n",
            "[347]\tvalid_0's f1: 0.643277\n",
            "[348]\tvalid_0's f1: 0.643234\n",
            "[349]\tvalid_0's f1: 0.6433\n",
            "[350]\tvalid_0's f1: 0.643228\n",
            "[351]\tvalid_0's f1: 0.643205\n",
            "[352]\tvalid_0's f1: 0.643267\n",
            "[353]\tvalid_0's f1: 0.64325\n",
            "[354]\tvalid_0's f1: 0.64347\n",
            "[355]\tvalid_0's f1: 0.643437\n",
            "[356]\tvalid_0's f1: 0.643718\n",
            "[357]\tvalid_0's f1: 0.643562\n",
            "[358]\tvalid_0's f1: 0.643717\n",
            "[359]\tvalid_0's f1: 0.643862\n",
            "[360]\tvalid_0's f1: 0.643739\n",
            "[361]\tvalid_0's f1: 0.643741\n",
            "[362]\tvalid_0's f1: 0.643801\n",
            "[363]\tvalid_0's f1: 0.643804\n",
            "[364]\tvalid_0's f1: 0.643885\n",
            "[365]\tvalid_0's f1: 0.643987\n",
            "[366]\tvalid_0's f1: 0.643981\n",
            "[367]\tvalid_0's f1: 0.644031\n",
            "[368]\tvalid_0's f1: 0.644071\n",
            "[369]\tvalid_0's f1: 0.644026\n",
            "[370]\tvalid_0's f1: 0.64427\n",
            "[371]\tvalid_0's f1: 0.644258\n",
            "[372]\tvalid_0's f1: 0.644318\n",
            "[373]\tvalid_0's f1: 0.644303\n",
            "[374]\tvalid_0's f1: 0.644111\n",
            "[375]\tvalid_0's f1: 0.644087\n",
            "[376]\tvalid_0's f1: 0.644124\n",
            "[377]\tvalid_0's f1: 0.643956\n",
            "[378]\tvalid_0's f1: 0.644114\n",
            "[379]\tvalid_0's f1: 0.644196\n",
            "[380]\tvalid_0's f1: 0.644093\n",
            "[381]\tvalid_0's f1: 0.644241\n",
            "[382]\tvalid_0's f1: 0.64424\n",
            "[383]\tvalid_0's f1: 0.644294\n",
            "[384]\tvalid_0's f1: 0.644468\n",
            "[385]\tvalid_0's f1: 0.644395\n",
            "[386]\tvalid_0's f1: 0.644382\n",
            "[387]\tvalid_0's f1: 0.644371\n",
            "[388]\tvalid_0's f1: 0.644482\n",
            "[389]\tvalid_0's f1: 0.644567\n",
            "[390]\tvalid_0's f1: 0.64457\n",
            "[391]\tvalid_0's f1: 0.644532\n",
            "[392]\tvalid_0's f1: 0.644701\n",
            "[393]\tvalid_0's f1: 0.64472\n",
            "[394]\tvalid_0's f1: 0.64482\n",
            "[395]\tvalid_0's f1: 0.644725\n",
            "[396]\tvalid_0's f1: 0.644617\n",
            "[397]\tvalid_0's f1: 0.644659\n",
            "[398]\tvalid_0's f1: 0.64476\n",
            "[399]\tvalid_0's f1: 0.644822\n",
            "[400]\tvalid_0's f1: 0.644717\n",
            "[401]\tvalid_0's f1: 0.64484\n",
            "[402]\tvalid_0's f1: 0.644844\n",
            "[403]\tvalid_0's f1: 0.644855\n",
            "[404]\tvalid_0's f1: 0.644884\n",
            "[405]\tvalid_0's f1: 0.644887\n",
            "[406]\tvalid_0's f1: 0.644648\n",
            "[407]\tvalid_0's f1: 0.644725\n",
            "[408]\tvalid_0's f1: 0.644629\n",
            "[409]\tvalid_0's f1: 0.64485\n",
            "[410]\tvalid_0's f1: 0.644779\n",
            "[411]\tvalid_0's f1: 0.644812\n",
            "[412]\tvalid_0's f1: 0.644872\n",
            "[413]\tvalid_0's f1: 0.644748\n",
            "[414]\tvalid_0's f1: 0.64487\n",
            "[415]\tvalid_0's f1: 0.64505\n",
            "[416]\tvalid_0's f1: 0.645053\n",
            "[417]\tvalid_0's f1: 0.644995\n",
            "[418]\tvalid_0's f1: 0.645143\n",
            "[419]\tvalid_0's f1: 0.645335\n",
            "[420]\tvalid_0's f1: 0.64548\n",
            "[421]\tvalid_0's f1: 0.645491\n",
            "[422]\tvalid_0's f1: 0.64532\n",
            "[423]\tvalid_0's f1: 0.645432\n",
            "[424]\tvalid_0's f1: 0.645527\n",
            "[425]\tvalid_0's f1: 0.645387\n",
            "[426]\tvalid_0's f1: 0.645405\n",
            "[427]\tvalid_0's f1: 0.645392\n",
            "[428]\tvalid_0's f1: 0.645341\n",
            "[429]\tvalid_0's f1: 0.645491\n",
            "[430]\tvalid_0's f1: 0.645453\n",
            "[431]\tvalid_0's f1: 0.645529\n",
            "[432]\tvalid_0's f1: 0.645418\n",
            "[433]\tvalid_0's f1: 0.645398\n",
            "[434]\tvalid_0's f1: 0.645405\n",
            "[435]\tvalid_0's f1: 0.645524\n",
            "[436]\tvalid_0's f1: 0.64551\n",
            "[437]\tvalid_0's f1: 0.645577\n",
            "[438]\tvalid_0's f1: 0.645537\n",
            "[439]\tvalid_0's f1: 0.645545\n",
            "[440]\tvalid_0's f1: 0.645588\n",
            "[441]\tvalid_0's f1: 0.645636\n",
            "[442]\tvalid_0's f1: 0.645467\n",
            "[443]\tvalid_0's f1: 0.645545\n",
            "[444]\tvalid_0's f1: 0.645384\n",
            "[445]\tvalid_0's f1: 0.645458\n",
            "[446]\tvalid_0's f1: 0.645515\n",
            "[447]\tvalid_0's f1: 0.645531\n",
            "[448]\tvalid_0's f1: 0.645734\n",
            "[449]\tvalid_0's f1: 0.645765\n",
            "[450]\tvalid_0's f1: 0.645735\n",
            "[451]\tvalid_0's f1: 0.645707\n",
            "[452]\tvalid_0's f1: 0.645555\n",
            "[453]\tvalid_0's f1: 0.645536\n",
            "[454]\tvalid_0's f1: 0.645458\n",
            "[455]\tvalid_0's f1: 0.645481\n",
            "[456]\tvalid_0's f1: 0.645483\n",
            "[457]\tvalid_0's f1: 0.645438\n",
            "[458]\tvalid_0's f1: 0.645454\n",
            "[459]\tvalid_0's f1: 0.645736\n",
            "[460]\tvalid_0's f1: 0.645792\n",
            "[461]\tvalid_0's f1: 0.64581\n",
            "[462]\tvalid_0's f1: 0.645797\n",
            "[463]\tvalid_0's f1: 0.645826\n",
            "[464]\tvalid_0's f1: 0.645858\n",
            "[465]\tvalid_0's f1: 0.645759\n",
            "[466]\tvalid_0's f1: 0.64578\n",
            "[467]\tvalid_0's f1: 0.64574\n",
            "[468]\tvalid_0's f1: 0.645864\n",
            "[469]\tvalid_0's f1: 0.645877\n",
            "[470]\tvalid_0's f1: 0.645734\n",
            "[471]\tvalid_0's f1: 0.6456\n",
            "[472]\tvalid_0's f1: 0.645515\n",
            "[473]\tvalid_0's f1: 0.645522\n",
            "[474]\tvalid_0's f1: 0.645566\n",
            "[475]\tvalid_0's f1: 0.645637\n",
            "[476]\tvalid_0's f1: 0.645729\n",
            "[477]\tvalid_0's f1: 0.645762\n",
            "[478]\tvalid_0's f1: 0.645702\n",
            "[479]\tvalid_0's f1: 0.645745\n",
            "[480]\tvalid_0's f1: 0.645692\n",
            "[481]\tvalid_0's f1: 0.645627\n",
            "[482]\tvalid_0's f1: 0.645639\n",
            "[483]\tvalid_0's f1: 0.645531\n",
            "[484]\tvalid_0's f1: 0.645488\n",
            "[485]\tvalid_0's f1: 0.645483\n",
            "[486]\tvalid_0's f1: 0.645435\n",
            "[487]\tvalid_0's f1: 0.645214\n",
            "[488]\tvalid_0's f1: 0.645222\n",
            "[489]\tvalid_0's f1: 0.64545\n",
            "[490]\tvalid_0's f1: 0.645553\n",
            "[491]\tvalid_0's f1: 0.645571\n",
            "[492]\tvalid_0's f1: 0.64564\n",
            "[493]\tvalid_0's f1: 0.645651\n",
            "[494]\tvalid_0's f1: 0.645429\n",
            "[495]\tvalid_0's f1: 0.645469\n",
            "[496]\tvalid_0's f1: 0.645542\n",
            "[497]\tvalid_0's f1: 0.645684\n",
            "[498]\tvalid_0's f1: 0.645431\n",
            "[499]\tvalid_0's f1: 0.645464\n",
            "[500]\tvalid_0's f1: 0.645502\n",
            "[501]\tvalid_0's f1: 0.645349\n",
            "[502]\tvalid_0's f1: 0.645257\n",
            "[503]\tvalid_0's f1: 0.645252\n",
            "[504]\tvalid_0's f1: 0.645281\n",
            "[505]\tvalid_0's f1: 0.645204\n",
            "[506]\tvalid_0's f1: 0.6452\n",
            "[507]\tvalid_0's f1: 0.645239\n",
            "[508]\tvalid_0's f1: 0.645091\n",
            "[509]\tvalid_0's f1: 0.645135\n",
            "[510]\tvalid_0's f1: 0.64514\n",
            "[511]\tvalid_0's f1: 0.645163\n",
            "[512]\tvalid_0's f1: 0.645238\n",
            "[513]\tvalid_0's f1: 0.64534\n",
            "[514]\tvalid_0's f1: 0.645513\n",
            "[515]\tvalid_0's f1: 0.645564\n",
            "[516]\tvalid_0's f1: 0.645591\n",
            "[517]\tvalid_0's f1: 0.645516\n",
            "[518]\tvalid_0's f1: 0.645768\n",
            "[519]\tvalid_0's f1: 0.645759\n",
            "[520]\tvalid_0's f1: 0.64583\n",
            "[521]\tvalid_0's f1: 0.645998\n",
            "[522]\tvalid_0's f1: 0.646105\n",
            "[523]\tvalid_0's f1: 0.646062\n",
            "[524]\tvalid_0's f1: 0.64615\n",
            "[525]\tvalid_0's f1: 0.646299\n",
            "[526]\tvalid_0's f1: 0.646287\n",
            "[527]\tvalid_0's f1: 0.646408\n",
            "[528]\tvalid_0's f1: 0.646444\n",
            "[529]\tvalid_0's f1: 0.646449\n",
            "[530]\tvalid_0's f1: 0.646494\n",
            "[531]\tvalid_0's f1: 0.646537\n",
            "[532]\tvalid_0's f1: 0.646602\n",
            "[533]\tvalid_0's f1: 0.646668\n",
            "[534]\tvalid_0's f1: 0.646649\n",
            "[535]\tvalid_0's f1: 0.646616\n",
            "[536]\tvalid_0's f1: 0.646617\n",
            "[537]\tvalid_0's f1: 0.646584\n",
            "[538]\tvalid_0's f1: 0.646611\n",
            "[539]\tvalid_0's f1: 0.646561\n",
            "[540]\tvalid_0's f1: 0.646485\n",
            "[541]\tvalid_0's f1: 0.64641\n",
            "[542]\tvalid_0's f1: 0.646487\n",
            "[543]\tvalid_0's f1: 0.646317\n",
            "[544]\tvalid_0's f1: 0.646235\n",
            "[545]\tvalid_0's f1: 0.646216\n",
            "[546]\tvalid_0's f1: 0.646105\n",
            "[547]\tvalid_0's f1: 0.646189\n",
            "[548]\tvalid_0's f1: 0.646307\n",
            "[549]\tvalid_0's f1: 0.64624\n",
            "[550]\tvalid_0's f1: 0.646332\n",
            "[551]\tvalid_0's f1: 0.64649\n",
            "[552]\tvalid_0's f1: 0.646309\n",
            "[553]\tvalid_0's f1: 0.6463\n",
            "[554]\tvalid_0's f1: 0.646344\n",
            "[555]\tvalid_0's f1: 0.646275\n",
            "[556]\tvalid_0's f1: 0.646256\n",
            "[557]\tvalid_0's f1: 0.64641\n",
            "[558]\tvalid_0's f1: 0.64636\n",
            "[559]\tvalid_0's f1: 0.646327\n",
            "[560]\tvalid_0's f1: 0.646429\n",
            "[561]\tvalid_0's f1: 0.646276\n",
            "[562]\tvalid_0's f1: 0.646229\n",
            "[563]\tvalid_0's f1: 0.646273\n",
            "[564]\tvalid_0's f1: 0.646305\n",
            "[565]\tvalid_0's f1: 0.646369\n",
            "[566]\tvalid_0's f1: 0.646335\n",
            "[567]\tvalid_0's f1: 0.646282\n",
            "[568]\tvalid_0's f1: 0.646192\n",
            "[569]\tvalid_0's f1: 0.646212\n",
            "[570]\tvalid_0's f1: 0.646028\n",
            "[571]\tvalid_0's f1: 0.646034\n",
            "[572]\tvalid_0's f1: 0.645979\n",
            "[573]\tvalid_0's f1: 0.64615\n",
            "[574]\tvalid_0's f1: 0.646253\n",
            "[575]\tvalid_0's f1: 0.646204\n",
            "[576]\tvalid_0's f1: 0.646159\n",
            "[577]\tvalid_0's f1: 0.646109\n",
            "[578]\tvalid_0's f1: 0.646101\n",
            "[579]\tvalid_0's f1: 0.646042\n",
            "[580]\tvalid_0's f1: 0.64602\n",
            "[581]\tvalid_0's f1: 0.646033\n",
            "[582]\tvalid_0's f1: 0.646154\n",
            "[583]\tvalid_0's f1: 0.646087\n",
            "[584]\tvalid_0's f1: 0.64621\n",
            "[585]\tvalid_0's f1: 0.646248\n",
            "[586]\tvalid_0's f1: 0.646115\n",
            "[587]\tvalid_0's f1: 0.646102\n",
            "[588]\tvalid_0's f1: 0.646074\n",
            "[589]\tvalid_0's f1: 0.646108\n",
            "[590]\tvalid_0's f1: 0.64612\n",
            "[591]\tvalid_0's f1: 0.646184\n",
            "[592]\tvalid_0's f1: 0.646176\n",
            "[593]\tvalid_0's f1: 0.646202\n",
            "[594]\tvalid_0's f1: 0.646222\n",
            "[595]\tvalid_0's f1: 0.646198\n",
            "[596]\tvalid_0's f1: 0.646403\n",
            "[597]\tvalid_0's f1: 0.646408\n",
            "[598]\tvalid_0's f1: 0.646434\n",
            "[599]\tvalid_0's f1: 0.646318\n",
            "[600]\tvalid_0's f1: 0.646267\n",
            "[601]\tvalid_0's f1: 0.646326\n",
            "[602]\tvalid_0's f1: 0.646407\n",
            "[603]\tvalid_0's f1: 0.646288\n",
            "[604]\tvalid_0's f1: 0.646295\n",
            "[605]\tvalid_0's f1: 0.646424\n",
            "[606]\tvalid_0's f1: 0.646419\n",
            "[607]\tvalid_0's f1: 0.646462\n",
            "[608]\tvalid_0's f1: 0.646437\n",
            "[609]\tvalid_0's f1: 0.646507\n",
            "[610]\tvalid_0's f1: 0.646571\n",
            "[611]\tvalid_0's f1: 0.646577\n",
            "[612]\tvalid_0's f1: 0.64662\n",
            "[613]\tvalid_0's f1: 0.646654\n",
            "[614]\tvalid_0's f1: 0.646762\n",
            "[615]\tvalid_0's f1: 0.646698\n",
            "[616]\tvalid_0's f1: 0.646731\n",
            "[617]\tvalid_0's f1: 0.646806\n",
            "[618]\tvalid_0's f1: 0.6468\n",
            "[619]\tvalid_0's f1: 0.646845\n",
            "[620]\tvalid_0's f1: 0.646918\n",
            "[621]\tvalid_0's f1: 0.646908\n",
            "[622]\tvalid_0's f1: 0.646973\n",
            "[623]\tvalid_0's f1: 0.647048\n",
            "[624]\tvalid_0's f1: 0.646914\n",
            "[625]\tvalid_0's f1: 0.646817\n",
            "[626]\tvalid_0's f1: 0.646924\n",
            "[627]\tvalid_0's f1: 0.646809\n",
            "[628]\tvalid_0's f1: 0.646861\n",
            "[629]\tvalid_0's f1: 0.646881\n",
            "[630]\tvalid_0's f1: 0.646812\n",
            "[631]\tvalid_0's f1: 0.647055\n",
            "[632]\tvalid_0's f1: 0.647017\n",
            "[633]\tvalid_0's f1: 0.64711\n",
            "[634]\tvalid_0's f1: 0.647142\n",
            "[635]\tvalid_0's f1: 0.647015\n",
            "[636]\tvalid_0's f1: 0.646982\n",
            "[637]\tvalid_0's f1: 0.647079\n",
            "[638]\tvalid_0's f1: 0.647097\n",
            "[639]\tvalid_0's f1: 0.647225\n",
            "[640]\tvalid_0's f1: 0.647373\n",
            "[641]\tvalid_0's f1: 0.647263\n",
            "[642]\tvalid_0's f1: 0.647321\n",
            "[643]\tvalid_0's f1: 0.647429\n",
            "[644]\tvalid_0's f1: 0.647309\n",
            "[645]\tvalid_0's f1: 0.647269\n",
            "[646]\tvalid_0's f1: 0.647182\n",
            "[647]\tvalid_0's f1: 0.647055\n",
            "[648]\tvalid_0's f1: 0.647006\n",
            "[649]\tvalid_0's f1: 0.646985\n",
            "[650]\tvalid_0's f1: 0.647023\n",
            "[651]\tvalid_0's f1: 0.646995\n",
            "[652]\tvalid_0's f1: 0.647054\n",
            "[653]\tvalid_0's f1: 0.647131\n",
            "[654]\tvalid_0's f1: 0.647145\n",
            "[655]\tvalid_0's f1: 0.647069\n",
            "[656]\tvalid_0's f1: 0.647163\n",
            "[657]\tvalid_0's f1: 0.646998\n",
            "[658]\tvalid_0's f1: 0.646957\n",
            "[659]\tvalid_0's f1: 0.646902\n",
            "[660]\tvalid_0's f1: 0.646844\n",
            "[661]\tvalid_0's f1: 0.646818\n",
            "[662]\tvalid_0's f1: 0.646945\n",
            "[663]\tvalid_0's f1: 0.646895\n",
            "[664]\tvalid_0's f1: 0.646804\n",
            "[665]\tvalid_0's f1: 0.646909\n",
            "[666]\tvalid_0's f1: 0.646837\n",
            "[667]\tvalid_0's f1: 0.646869\n",
            "[668]\tvalid_0's f1: 0.646875\n",
            "[669]\tvalid_0's f1: 0.64684\n",
            "[670]\tvalid_0's f1: 0.64681\n",
            "[671]\tvalid_0's f1: 0.646865\n",
            "[672]\tvalid_0's f1: 0.646836\n",
            "[673]\tvalid_0's f1: 0.646996\n",
            "[674]\tvalid_0's f1: 0.646983\n",
            "[675]\tvalid_0's f1: 0.646993\n",
            "[676]\tvalid_0's f1: 0.647071\n",
            "[677]\tvalid_0's f1: 0.647041\n",
            "[678]\tvalid_0's f1: 0.647071\n",
            "[679]\tvalid_0's f1: 0.647186\n",
            "[680]\tvalid_0's f1: 0.647181\n",
            "[681]\tvalid_0's f1: 0.647168\n",
            "[682]\tvalid_0's f1: 0.647213\n",
            "[683]\tvalid_0's f1: 0.64713\n",
            "[684]\tvalid_0's f1: 0.647175\n",
            "[685]\tvalid_0's f1: 0.647113\n",
            "[686]\tvalid_0's f1: 0.647044\n",
            "[687]\tvalid_0's f1: 0.647012\n",
            "[688]\tvalid_0's f1: 0.64696\n",
            "[689]\tvalid_0's f1: 0.646929\n",
            "[690]\tvalid_0's f1: 0.64696\n",
            "[691]\tvalid_0's f1: 0.646952\n",
            "[692]\tvalid_0's f1: 0.646976\n",
            "[693]\tvalid_0's f1: 0.646956\n",
            "[694]\tvalid_0's f1: 0.646858\n",
            "[695]\tvalid_0's f1: 0.646921\n",
            "[696]\tvalid_0's f1: 0.646984\n",
            "[697]\tvalid_0's f1: 0.64701\n",
            "[698]\tvalid_0's f1: 0.647044\n",
            "[699]\tvalid_0's f1: 0.647012\n",
            "[700]\tvalid_0's f1: 0.647051\n",
            "[701]\tvalid_0's f1: 0.646981\n",
            "[702]\tvalid_0's f1: 0.646951\n",
            "[703]\tvalid_0's f1: 0.646924\n",
            "[704]\tvalid_0's f1: 0.64692\n",
            "[705]\tvalid_0's f1: 0.646987\n",
            "[706]\tvalid_0's f1: 0.647017\n",
            "[707]\tvalid_0's f1: 0.646968\n",
            "[708]\tvalid_0's f1: 0.646993\n",
            "[709]\tvalid_0's f1: 0.646998\n",
            "[710]\tvalid_0's f1: 0.647043\n",
            "[711]\tvalid_0's f1: 0.647145\n",
            "[712]\tvalid_0's f1: 0.647316\n",
            "[713]\tvalid_0's f1: 0.647277\n",
            "[714]\tvalid_0's f1: 0.64735\n",
            "[715]\tvalid_0's f1: 0.64732\n",
            "[716]\tvalid_0's f1: 0.647307\n",
            "[717]\tvalid_0's f1: 0.647424\n",
            "[718]\tvalid_0's f1: 0.647261\n",
            "[719]\tvalid_0's f1: 0.647267\n",
            "[720]\tvalid_0's f1: 0.6473\n",
            "[721]\tvalid_0's f1: 0.647243\n",
            "[722]\tvalid_0's f1: 0.647121\n",
            "[723]\tvalid_0's f1: 0.64716\n",
            "[724]\tvalid_0's f1: 0.647081\n",
            "[725]\tvalid_0's f1: 0.64712\n",
            "[726]\tvalid_0's f1: 0.647103\n",
            "[727]\tvalid_0's f1: 0.647026\n",
            "[728]\tvalid_0's f1: 0.647091\n",
            "[729]\tvalid_0's f1: 0.647161\n",
            "[730]\tvalid_0's f1: 0.647117\n",
            "[731]\tvalid_0's f1: 0.647226\n",
            "[732]\tvalid_0's f1: 0.647213\n",
            "[733]\tvalid_0's f1: 0.647142\n",
            "[734]\tvalid_0's f1: 0.64718\n",
            "[735]\tvalid_0's f1: 0.647277\n",
            "[736]\tvalid_0's f1: 0.647245\n",
            "[737]\tvalid_0's f1: 0.647181\n",
            "[738]\tvalid_0's f1: 0.647162\n",
            "[739]\tvalid_0's f1: 0.647213\n",
            "[740]\tvalid_0's f1: 0.647237\n",
            "[741]\tvalid_0's f1: 0.647255\n",
            "[742]\tvalid_0's f1: 0.647244\n",
            "[743]\tvalid_0's f1: 0.647232\n",
            "Early stopping, best iteration is:\n",
            "[643]\tvalid_0's f1: 0.647429\n"
          ]
        }
      ]
    },
    {
      "cell_type": "code",
      "source": [
        "lgb_prob = lgb2.predict( test )\n",
        "ypred = np.around(lgb_prob).astype(int)\n",
        "#print(ypred)"
      ],
      "metadata": {
        "id": "RBnTGnZqH3kp"
      },
      "execution_count": null,
      "outputs": []
    },
    {
      "cell_type": "code",
      "source": [
        "# xgboost / metric = f1-score  #light gbm bayesian opt와 유사한 방식\n",
        "\n",
        "import xgboost as xgb\n",
        "from sklearn.metrics import f1_score\n",
        "from bayes_opt import BayesianOptimization\n",
        "n_folds=5\n",
        "d_train = xgb.DMatrix(X_train, y_train)\n",
        "d_val = xgb.DMatrix(X_test,y_test)\n",
        "\n",
        "param_test ={'num_leaves': (6,45),\n",
        "             'min_child_weight': (1e-3, 1e3), #0.001 ~ 1000\n",
        "             'subsample': (0.5,1), \n",
        "             'colsample_bytree': (0.2,1), \n",
        "             'reg_alpha': (0, 100),\n",
        "             'reg_lambda': (0, 100),\n",
        "             'learning_rate': (0.01,0.2),\n",
        "             'max_depth': (3,8)}\n",
        "\n",
        "def xgb_f1_score(y_hat, data):\n",
        "    y_true = data.get_label().astype(int)\n",
        "#    y_hat = (y_hat >= 0.5)\n",
        "    y_hat = np.round(y_hat).astype(int) # scikits f1 doesn't like probabilities\n",
        "    return 'f1', f1_score(y_true, y_hat)\n",
        "\n",
        "\n",
        "def xgb_cv(num_leaves,min_child_weight,subsample,colsample_bytree,reg_alpha,reg_lambda,max_depth,learning_rate):\n",
        "    params = {'nrounds' : 5000, #num_iteration\n",
        "             'early_stopping_rounds':30\n",
        "             'n_jobs':-1\n",
        "#              'metric' : 'custom', #xgb랑 lgb랑 다름\n",
        "             }\n",
        "    params['num_leaves'] = int(round(num_leaves))\n",
        "    params['min_child_weight'] = min_child_weight\n",
        "    params['subsample'] = subsample\n",
        "    params['colsample_bytree'] = colsample_bytree\n",
        "    params['reg_alpha'] = reg_alpha\n",
        "    params['reg_lambda'] = reg_lambda\n",
        "    params['learning_rate'] = learning_rate\n",
        "    params['max_depth']= int(round(max_depth))\n",
        "    xgbcv = xgb.cv(params, d_train, nfold=n_folds, seed=42, stratified=True, verbose_eval = 200,\n",
        "                    feval=xgb_f1_score)\n",
        "    \n",
        "    mean_f1 = xgbcv[\"test-f1-mean\"].values[-1]\n",
        "    \n",
        "    return mean_f1\n",
        "  \n",
        "lgbB1 = BayesianOptimization(xgb_cv,param_test,random_state=42,verbose=2)\n",
        "init_round=5\n",
        "opt_round = 10\n",
        "lgbB1.maximize(init_points=init_round, n_iter=opt_round)\n",
        "print(lgbB1.max)\n",
        "\n"
      ],
      "metadata": {
        "colab": {
          "base_uri": "https://localhost:8080/"
        },
        "id": "UUomRGkbtHCI",
        "outputId": "77ebe0e2-0eac-4007-f187-ed53782d06f3"
      },
      "execution_count": null,
      "outputs": [
        {
          "output_type": "stream",
          "name": "stdout",
          "text": [
            "|   iter    |  target   | colsam... | learni... | max_depth | min_ch... | num_le... | reg_alpha | reg_la... | subsample |\n",
            "-------------------------------------------------------------------------------------------------------------------------\n",
            "[0]\ttrain-f1:0.57716+0.0105127\ttrain-rmse:0.496479+3.68054e-05\ttest-f1:0.573663+0.00963472\ttest-rmse:0.496566+6.24083e-05\n",
            "[9]\ttrain-f1:0.620936+0.00273716\ttrain-rmse:0.483905+0.000186956\ttest-f1:0.617617+0.00093392\ttest-rmse:0.484807+0.000418999\n",
            "| \u001b[0m 1       \u001b[0m | \u001b[0m 0.6176  \u001b[0m | \u001b[0m 0.4996  \u001b[0m | \u001b[0m 0.1906  \u001b[0m | \u001b[0m 6.66    \u001b[0m | \u001b[0m 598.7   \u001b[0m | \u001b[0m 12.08   \u001b[0m | \u001b[0m 15.6    \u001b[0m | \u001b[0m 5.808   \u001b[0m | \u001b[0m 0.9331  \u001b[0m |\n",
            "[0]\ttrain-f1:0.581002+0.0223363\ttrain-rmse:0.498047+3.6291e-05\ttest-f1:0.580559+0.0217798\ttest-rmse:0.497929+2.89455e-05\n",
            "[9]\ttrain-f1:0.590581+0.00959754\ttrain-rmse:0.489812+5.84808e-05\ttest-f1:0.589697+0.00953366\ttest-rmse:0.489886+0.000203566\n",
            "| \u001b[0m 2       \u001b[0m | \u001b[0m 0.5897  \u001b[0m | \u001b[0m 0.6809  \u001b[0m | \u001b[0m 0.1445  \u001b[0m | \u001b[0m 3.103   \u001b[0m | \u001b[0m 969.9   \u001b[0m | \u001b[0m 38.47   \u001b[0m | \u001b[0m 21.23   \u001b[0m | \u001b[0m 18.18   \u001b[0m | \u001b[0m 0.5917  \u001b[0m |\n",
            "[0]\ttrain-f1:0.568271+0.00726511\ttrain-rmse:0.498207+3.18019e-05\ttest-f1:0.566345+0.00800986\ttest-rmse:0.498255+2.67806e-05\n",
            "[9]\ttrain-f1:0.606189+0.00720504\ttrain-rmse:0.488981+0.000187218\ttest-f1:0.605544+0.00626733\ttest-rmse:0.489191+0.000396842\n",
            "| \u001b[0m 3       \u001b[0m | \u001b[0m 0.6055  \u001b[0m | \u001b[0m 0.4434  \u001b[0m | \u001b[0m 0.1097  \u001b[0m | \u001b[0m 5.16    \u001b[0m | \u001b[0m 291.2   \u001b[0m | \u001b[0m 29.86   \u001b[0m | \u001b[0m 13.95   \u001b[0m | \u001b[0m 29.21   \u001b[0m | \u001b[0m 0.6832  \u001b[0m |\n",
            "[0]\ttrain-f1:0.609311+0.00417959\ttrain-rmse:0.497339+2.73744e-05\ttest-f1:0.608453+0.00513001\ttest-rmse:0.497391+3.65042e-05\n",
            "[9]\ttrain-f1:0.610017+0.00999835\ttrain-rmse:0.488012+0.000142475\ttest-f1:0.608848+0.00883971\ttest-rmse:0.488207+0.000301484\n",
            "| \u001b[0m 4       \u001b[0m | \u001b[0m 0.6088  \u001b[0m | \u001b[0m 0.5649  \u001b[0m | \u001b[0m 0.1592  \u001b[0m | \u001b[0m 3.998   \u001b[0m | \u001b[0m 514.2   \u001b[0m | \u001b[0m 29.1    \u001b[0m | \u001b[0m 4.645   \u001b[0m | \u001b[0m 60.75   \u001b[0m | \u001b[0m 0.5853  \u001b[0m |\n",
            "[0]\ttrain-f1:0.592864+0.0113291\ttrain-rmse:0.496499+8.49056e-05\ttest-f1:0.591182+0.0105348\ttest-rmse:0.496594+8.93367e-05\n",
            "[9]\ttrain-f1:0.620991+0.00405362\ttrain-rmse:0.484538+0.000172887\ttest-f1:0.617559+0.00410731\ttest-rmse:0.485395+0.000352826\n",
            "| \u001b[0m 5       \u001b[0m | \u001b[0m 0.6176  \u001b[0m | \u001b[0m 0.252   \u001b[0m | \u001b[0m 0.1903  \u001b[0m | \u001b[0m 7.828   \u001b[0m | \u001b[0m 808.4   \u001b[0m | \u001b[0m 17.88   \u001b[0m | \u001b[0m 9.767   \u001b[0m | \u001b[0m 68.42   \u001b[0m | \u001b[0m 0.7201  \u001b[0m |\n",
            "[0]\ttrain-f1:0.587388+0.0178981\ttrain-rmse:0.496753+5.33217e-05\ttest-f1:0.585452+0.0174433\ttest-rmse:0.496868+2.99172e-05\n",
            "[9]\ttrain-f1:0.621916+0.00199722\ttrain-rmse:0.485622+0.000115526\ttest-f1:0.619944+0.00336768\ttest-rmse:0.48615+0.000209369\n",
            "| \u001b[95m 6       \u001b[0m | \u001b[95m 0.6199  \u001b[0m | \u001b[95m 0.8056  \u001b[0m | \u001b[95m 0.1524  \u001b[0m | \u001b[95m 5.549   \u001b[0m | \u001b[95m 810.8   \u001b[0m | \u001b[95m 23.05   \u001b[0m | \u001b[95m 12.39   \u001b[0m | \u001b[95m 56.44   \u001b[0m | \u001b[95m 0.9762  \u001b[0m |\n",
            "[0]\ttrain-f1:0.540035+0.0166168\ttrain-rmse:0.499898+6.56049e-06\ttest-f1:0.539167+0.0145102\ttest-rmse:0.49989+4.27083e-06\n",
            "[9]\ttrain-f1:0.577674+0.00456839\ttrain-rmse:0.498673+9.94738e-05\ttest-f1:0.576788+0.00482646\ttest-rmse:0.498688+0.000117014\n",
            "| \u001b[0m 7       \u001b[0m | \u001b[0m 0.5768  \u001b[0m | \u001b[0m 0.2082  \u001b[0m | \u001b[0m 0.01068 \u001b[0m | \u001b[0m 3.891   \u001b[0m | \u001b[0m 762.5   \u001b[0m | \u001b[0m 38.56   \u001b[0m | \u001b[0m 22.48   \u001b[0m | \u001b[0m 7.87    \u001b[0m | \u001b[0m 0.7134  \u001b[0m |\n",
            "[0]\ttrain-f1:0.591993+0.0147644\ttrain-rmse:0.497252+4.06674e-05\ttest-f1:0.591734+0.0142909\ttest-rmse:0.497236+5.39058e-05\n",
            "[9]\ttrain-f1:0.608542+0.0055001\ttrain-rmse:0.487734+0.000113481\ttest-f1:0.607402+0.00497327\ttest-rmse:0.487915+0.000359754\n",
            "| \u001b[0m 8       \u001b[0m | \u001b[0m 0.6074  \u001b[0m | \u001b[0m 0.5882  \u001b[0m | \u001b[0m 0.1687  \u001b[0m | \u001b[0m 4.49    \u001b[0m | \u001b[0m 515.1   \u001b[0m | \u001b[0m 27.79   \u001b[0m | \u001b[0m 11.28   \u001b[0m | \u001b[0m 65.25   \u001b[0m | \u001b[0m 0.8915  \u001b[0m |\n",
            "[0]\ttrain-f1:0.567116+0.016036\ttrain-rmse:0.499481+1.03034e-05\ttest-f1:0.565322+0.0170722\ttest-rmse:0.499502+1.16859e-05\n",
            "[9]\ttrain-f1:0.603841+0.00466531\ttrain-rmse:0.495754+0.000151121\ttest-f1:0.60101+0.00325012\ttest-rmse:0.495852+0.000198846\n",
            "| \u001b[0m 9       \u001b[0m | \u001b[0m 0.601   \u001b[0m | \u001b[0m 0.2538  \u001b[0m | \u001b[0m 0.02701 \u001b[0m | \u001b[0m 7.434   \u001b[0m | \u001b[0m 856.0   \u001b[0m | \u001b[0m 27.31   \u001b[0m | \u001b[0m 12.2    \u001b[0m | \u001b[0m 59.68   \u001b[0m | \u001b[0m 0.7192  \u001b[0m |\n",
            "[0]\ttrain-f1:0.597093+0.0138225\ttrain-rmse:0.498544+9.55824e-06\ttest-f1:0.594653+0.013102\ttest-rmse:0.498574+2.0026e-05\n",
            "[9]\ttrain-f1:0.621557+0.00101296\ttrain-rmse:0.49024+3.97492e-05\ttest-f1:0.619504+0.000439519\ttest-rmse:0.490461+0.000139214\n",
            "| \u001b[0m 10      \u001b[0m | \u001b[0m 0.6195  \u001b[0m | \u001b[0m 0.788   \u001b[0m | \u001b[0m 0.0672  \u001b[0m | \u001b[0m 6.217   \u001b[0m | \u001b[0m 811.3   \u001b[0m | \u001b[0m 15.25   \u001b[0m | \u001b[0m 10.69   \u001b[0m | \u001b[0m 70.26   \u001b[0m | \u001b[0m 0.8161  \u001b[0m |\n",
            "[0]\ttrain-f1:0.616861+0.000441231\ttrain-rmse:0.499857+7.48331e-07\ttest-f1:0.61686+0.0017655\ttest-rmse:0.499833+2.72764e-06\n",
            "[9]\ttrain-f1:0.616861+0.000441231\ttrain-rmse:0.498428+4.981e-05\ttest-f1:0.61686+0.0017655\ttest-rmse:0.498443+1.75727e-05\n",
            "| \u001b[0m 11      \u001b[0m | \u001b[0m 0.6169  \u001b[0m | \u001b[0m 1.0     \u001b[0m | \u001b[0m 0.01    \u001b[0m | \u001b[0m 3.0     \u001b[0m | \u001b[0m 814.9   \u001b[0m | \u001b[0m 6.0     \u001b[0m | \u001b[0m 45.49   \u001b[0m | \u001b[0m 64.36   \u001b[0m | \u001b[0m 1.0     \u001b[0m |\n",
            "[0]\ttrain-f1:0.557162+0.00690951\ttrain-rmse:0.497902+2.54118e-05\ttest-f1:0.554812+0.00741428\ttest-rmse:0.49793+6.20967e-05\n",
            "[9]\ttrain-f1:0.610734+0.00298766\ttrain-rmse:0.487654+0.000173941\ttest-f1:0.608821+0.0024122\ttest-rmse:0.488+0.000350643\n",
            "| \u001b[0m 12      \u001b[0m | \u001b[0m 0.6088  \u001b[0m | \u001b[0m 0.4931  \u001b[0m | \u001b[0m 0.1208  \u001b[0m | \u001b[0m 6.075   \u001b[0m | \u001b[0m 558.1   \u001b[0m | \u001b[0m 35.69   \u001b[0m | \u001b[0m 21.33   \u001b[0m | \u001b[0m 2.833   \u001b[0m | \u001b[0m 0.6096  \u001b[0m |\n",
            "[0]\ttrain-f1:0.563563+0.00808019\ttrain-rmse:0.497402+6.6216e-05\ttest-f1:0.561754+0.00715351\ttest-rmse:0.497447+8.18814e-05\n",
            "[9]\ttrain-f1:0.610546+0.00562278\ttrain-rmse:0.486446+0.00011026\ttest-f1:0.608965+0.00553953\ttest-rmse:0.486923+0.000354382\n",
            "| \u001b[0m 13      \u001b[0m | \u001b[0m 0.609   \u001b[0m | \u001b[0m 0.4111  \u001b[0m | \u001b[0m 0.15    \u001b[0m | \u001b[0m 6.143   \u001b[0m | \u001b[0m 618.0   \u001b[0m | \u001b[0m 16.85   \u001b[0m | \u001b[0m 1.023   \u001b[0m | \u001b[0m 47.65   \u001b[0m | \u001b[0m 0.6218  \u001b[0m |\n",
            "[0]\ttrain-f1:0.55227+0.00956798\ttrain-rmse:0.499705+6.88186e-06\ttest-f1:0.552015+0.0096565\ttest-rmse:0.499696+1.17712e-05\n",
            "[9]\ttrain-f1:0.629871+0.0110284\ttrain-rmse:0.497241+7.37986e-05\ttest-f1:0.630131+0.0107171\ttest-rmse:0.497212+5.22326e-05\n",
            "| \u001b[95m 14      \u001b[0m | \u001b[95m 0.6301  \u001b[0m | \u001b[95m 0.9689  \u001b[0m | \u001b[95m 0.01936 \u001b[0m | \u001b[95m 3.126   \u001b[0m | \u001b[95m 618.6   \u001b[0m | \u001b[95m 14.18   \u001b[0m | \u001b[95m 58.55   \u001b[0m | \u001b[95m 0.2868  \u001b[0m | \u001b[95m 0.7281  \u001b[0m |\n",
            "[0]\ttrain-f1:0.595148+0.0156287\ttrain-rmse:0.498407+2.23553e-05\ttest-f1:0.594659+0.0164376\ttest-rmse:0.498414+2.71367e-05\n",
            "[9]\ttrain-f1:0.602855+0.00763155\ttrain-rmse:0.490483+8.94687e-05\ttest-f1:0.602031+0.00841945\ttest-rmse:0.490603+0.000171641\n",
            "| \u001b[0m 15      \u001b[0m | \u001b[0m 0.602   \u001b[0m | \u001b[0m 0.7197  \u001b[0m | \u001b[0m 0.09751 \u001b[0m | \u001b[0m 3.747   \u001b[0m | \u001b[0m 617.1   \u001b[0m | \u001b[0m 6.0     \u001b[0m | \u001b[0m 82.91   \u001b[0m | \u001b[0m 22.88   \u001b[0m | \u001b[0m 0.8087  \u001b[0m |\n",
            "=========================================================================================================================\n",
            "{'target': 0.6301308000000001, 'params': {'colsample_bytree': 0.9689078126295694, 'learning_rate': 0.01935685803243184, 'max_depth': 3.126342147264297, 'min_child_weight': 618.5671561342236, 'num_leaves': 14.178342258789213, 'reg_alpha': 58.55308504412573, 'reg_lambda': 0.28683971251045604, 'subsample': 0.7280841877833977}}\n"
          ]
        }
      ]
    },
    {
      "cell_type": "code",
      "source": [
        "xgb_params={'colsample_bytree': 0.9689,\n",
        "            'learning_rate': 0.01936,\n",
        "            'max_depth': 3, \n",
        "            'min_child_weight': 618.567,\n",
        "            'num_leaves': 14, \n",
        "            'reg_alpha': 58.5531, \n",
        "            'reg_lambda': 0.2868, \n",
        "            'subsample': 0.7281}"
      ],
      "metadata": {
        "id": "-6q7zP72DTm7"
      },
      "execution_count": null,
      "outputs": []
    },
    {
      "cell_type": "code",
      "source": [
        "a = {'num_iterations' : 5000, \n",
        "     'early_stopping_rounds':100,\n",
        "     'n_jobs':-1,\n",
        "     'metric' : 'custom',\n",
        "     'verbose': 100, \n",
        "     'seed' : 42} #원래 있던 파라미터들 추가, early_stopping만 100으로 변경\n",
        "xgb_params.update(a)\n",
        "d_train = xgb.DMatrix(X_train, y_train)\n",
        "d_test = xgb.DMatrix(X_test,y_test)\n",
        "watch_list = [(d_test, 'eval'), (d_train, 'train')]\n",
        "xgb2 = xgb.train(xgb_params, d_train, evals = watch_list, feval=xgb_f1_score) #xgb train"
      ],
      "metadata": {
        "colab": {
          "base_uri": "https://localhost:8080/"
        },
        "id": "0UTRMbnPD1qm",
        "outputId": "c3e4a3ae-a029-4c6f-818d-3311a314bcfc"
      },
      "execution_count": null,
      "outputs": [
        {
          "output_type": "stream",
          "name": "stdout",
          "text": [
            "[0]\teval-rmse:0.499661\ttrain-rmse:0.499677\teval-f1:0.642685\ttrain-f1:0.641215\n",
            "[1]\teval-rmse:0.49934\ttrain-rmse:0.499347\teval-f1:0.642678\ttrain-f1:0.641199\n",
            "[2]\teval-rmse:0.499057\ttrain-rmse:0.499071\teval-f1:0.642678\ttrain-f1:0.641199\n",
            "[3]\teval-rmse:0.49874\ttrain-rmse:0.498713\teval-f1:0.642678\ttrain-f1:0.641199\n",
            "[4]\teval-rmse:0.498468\ttrain-rmse:0.498439\teval-f1:0.642678\ttrain-f1:0.641199\n",
            "[5]\teval-rmse:0.498152\ttrain-rmse:0.498232\teval-f1:0.642678\ttrain-f1:0.641199\n",
            "[6]\teval-rmse:0.497941\ttrain-rmse:0.497899\teval-f1:0.642678\ttrain-f1:0.641199\n",
            "[7]\teval-rmse:0.497655\ttrain-rmse:0.497588\teval-f1:0.642678\ttrain-f1:0.641199\n",
            "[8]\teval-rmse:0.497402\ttrain-rmse:0.497304\teval-f1:0.642678\ttrain-f1:0.641199\n",
            "[9]\teval-rmse:0.497192\ttrain-rmse:0.497114\teval-f1:0.641011\ttrain-f1:0.639746\n"
          ]
        }
      ]
    },
    {
      "cell_type": "code",
      "source": [
        "#test데이타 예측\n",
        "dtest = xgb.DMatrix(test)\n",
        "xgb_prob = xgb2.predict( dtest )"
      ],
      "metadata": {
        "id": "ddLjsIsmSn8L"
      },
      "execution_count": null,
      "outputs": []
    },
    {
      "cell_type": "code",
      "source": [
        "xgb_prob # predict"
      ],
      "metadata": {
        "colab": {
          "base_uri": "https://localhost:8080/"
        },
        "id": "SeRjngoMGYrK",
        "outputId": "0252f3b6-c683-4c58-d0c8-9ff75451524c"
      },
      "execution_count": null,
      "outputs": [
        {
          "output_type": "execute_result",
          "data": {
            "text/plain": [
              "array([0.50657856, 0.48306903, 0.47263995, ..., 0.5199679 , 0.5199679 ,\n",
              "       0.5199679 ], dtype=float32)"
            ]
          },
          "metadata": {},
          "execution_count": 46
        }
      ]
    },
    {
      "cell_type": "code",
      "source": [
        "y_pred = np.around(xgb_prob).astype(int)"
      ],
      "metadata": {
        "id": "rKPE2gK6MwQ1"
      },
      "execution_count": null,
      "outputs": []
    },
    {
      "cell_type": "code",
      "source": [
        "print(y_pred)"
      ],
      "metadata": {
        "colab": {
          "base_uri": "https://localhost:8080/"
        },
        "id": "uLFigfRoNR7W",
        "outputId": "f3816069-9e14-4b6f-e87e-da765e1b0549"
      },
      "execution_count": null,
      "outputs": [
        {
          "output_type": "stream",
          "name": "stdout",
          "text": [
            "[1 0 0 ... 1 1 1]\n"
          ]
        }
      ]
    },
    {
      "cell_type": "code",
      "source": [
        "#catboost\n",
        "! pip install catboost"
      ],
      "metadata": {
        "colab": {
          "base_uri": "https://localhost:8080/"
        },
        "id": "4QpoVjNaVbjJ",
        "outputId": "b068b0ec-90dd-4aae-ccb2-e9e5cd5af2a8"
      },
      "execution_count": null,
      "outputs": [
        {
          "output_type": "stream",
          "name": "stdout",
          "text": [
            "Collecting catboost\n",
            "  Downloading catboost-1.0.4-cp37-none-manylinux1_x86_64.whl (76.1 MB)\n",
            "\u001b[K     |████████████████████████████████| 76.1 MB 1.3 MB/s \n",
            "\u001b[?25hRequirement already satisfied: plotly in /usr/local/lib/python3.7/dist-packages (from catboost) (5.5.0)\n",
            "Requirement already satisfied: matplotlib in /usr/local/lib/python3.7/dist-packages (from catboost) (3.2.2)\n",
            "Requirement already satisfied: scipy in /usr/local/lib/python3.7/dist-packages (from catboost) (1.4.1)\n",
            "Requirement already satisfied: numpy>=1.16.0 in /usr/local/lib/python3.7/dist-packages (from catboost) (1.19.5)\n",
            "Requirement already satisfied: six in /usr/local/lib/python3.7/dist-packages (from catboost) (1.15.0)\n",
            "Requirement already satisfied: graphviz in /usr/local/lib/python3.7/dist-packages (from catboost) (0.10.1)\n",
            "Requirement already satisfied: pandas>=0.24.0 in /usr/local/lib/python3.7/dist-packages (from catboost) (1.1.5)\n",
            "Requirement already satisfied: python-dateutil>=2.7.3 in /usr/local/lib/python3.7/dist-packages (from pandas>=0.24.0->catboost) (2.8.2)\n",
            "Requirement already satisfied: pytz>=2017.2 in /usr/local/lib/python3.7/dist-packages (from pandas>=0.24.0->catboost) (2018.9)\n",
            "Requirement already satisfied: kiwisolver>=1.0.1 in /usr/local/lib/python3.7/dist-packages (from matplotlib->catboost) (1.3.2)\n",
            "Requirement already satisfied: pyparsing!=2.0.4,!=2.1.2,!=2.1.6,>=2.0.1 in /usr/local/lib/python3.7/dist-packages (from matplotlib->catboost) (3.0.7)\n",
            "Requirement already satisfied: cycler>=0.10 in /usr/local/lib/python3.7/dist-packages (from matplotlib->catboost) (0.11.0)\n",
            "Requirement already satisfied: tenacity>=6.2.0 in /usr/local/lib/python3.7/dist-packages (from plotly->catboost) (8.0.1)\n",
            "Installing collected packages: catboost\n",
            "Successfully installed catboost-1.0.4\n"
          ]
        }
      ]
    },
    {
      "cell_type": "code",
      "source": [
        "# catboost 파라미터 서칭 과정은 생략. 팀원분이 grid search로 도움 주셨음\n",
        "from catboost import Pool, CatBoostClassifier\n",
        "import catboost as cb\n",
        "\n",
        "cb_model_final = CatBoostClassifier(iterations = 250,  #이터레이션은 고고익선\n",
        "                                    learning_rate = 0.05,\n",
        "                                    loss_function = 'CrossEntropy', #binary 타겟이므로\n",
        "                                    max_depth = 10,\n",
        "                                    random_state = 42,\n",
        "                                   eval_metric=\"F1\")\n",
        "\n",
        "cb_model_final.fit(X_train, y_train, cat_features= cate, plot = True, eval_set=(X_test, y_test))"
      ],
      "metadata": {
        "id": "ekDYugjNVuln",
        "colab": {
          "base_uri": "https://localhost:8080/",
          "height": 1000,
          "referenced_widgets": [
            "f97e5f947a8a4549b7ea3afd50710641"
          ]
        },
        "outputId": "d02655d9-08c2-4040-f181-c9e8a1a452b0"
      },
      "execution_count": null,
      "outputs": [
        {
          "output_type": "display_data",
          "data": {
            "application/vnd.jupyter.widget-view+json": {
              "model_id": "f97e5f947a8a4549b7ea3afd50710641",
              "version_minor": 0,
              "version_major": 2
            },
            "text/plain": [
              "MetricVisualizer(layout=Layout(align_self='stretch', height='500px'))"
            ]
          },
          "metadata": {}
        },
        {
          "output_type": "stream",
          "name": "stdout",
          "text": [
            "0:\tlearn: 0.6130599\ttest: 0.6100516\tbest: 0.6100516 (0)\ttotal: 10.3s\tremaining: 42m 32s\n",
            "1:\tlearn: 0.6302462\ttest: 0.6266609\tbest: 0.6266609 (1)\ttotal: 20.2s\tremaining: 41m 39s\n",
            "2:\tlearn: 0.6286758\ttest: 0.6250869\tbest: 0.6266609 (1)\ttotal: 29.7s\tremaining: 40m 47s\n",
            "3:\tlearn: 0.6305299\ttest: 0.6264252\tbest: 0.6266609 (1)\ttotal: 40.2s\tremaining: 41m 9s\n",
            "4:\tlearn: 0.6312120\ttest: 0.6291775\tbest: 0.6291775 (4)\ttotal: 50.6s\tremaining: 41m 20s\n",
            "5:\tlearn: 0.6320596\ttest: 0.6306132\tbest: 0.6306132 (5)\ttotal: 1m\tremaining: 41m 11s\n",
            "6:\tlearn: 0.6329210\ttest: 0.6321071\tbest: 0.6321071 (6)\ttotal: 1m 11s\tremaining: 41m 17s\n",
            "7:\tlearn: 0.6332812\ttest: 0.6322724\tbest: 0.6322724 (7)\ttotal: 1m 22s\tremaining: 41m 36s\n",
            "8:\tlearn: 0.6348664\ttest: 0.6345848\tbest: 0.6345848 (8)\ttotal: 1m 33s\tremaining: 41m 33s\n",
            "9:\tlearn: 0.6357747\ttest: 0.6353597\tbest: 0.6353597 (9)\ttotal: 1m 43s\tremaining: 41m 25s\n",
            "10:\tlearn: 0.6356481\ttest: 0.6351473\tbest: 0.6353597 (9)\ttotal: 1m 54s\tremaining: 41m 31s\n",
            "11:\tlearn: 0.6366198\ttest: 0.6362092\tbest: 0.6362092 (11)\ttotal: 2m 5s\tremaining: 41m 26s\n",
            "12:\tlearn: 0.6369623\ttest: 0.6365647\tbest: 0.6365647 (12)\ttotal: 2m 15s\tremaining: 41m 6s\n",
            "13:\tlearn: 0.6369433\ttest: 0.6361647\tbest: 0.6365647 (12)\ttotal: 2m 25s\tremaining: 40m 49s\n",
            "14:\tlearn: 0.6375680\ttest: 0.6375832\tbest: 0.6375832 (14)\ttotal: 2m 36s\tremaining: 40m 48s\n",
            "15:\tlearn: 0.6377021\ttest: 0.6373103\tbest: 0.6375832 (14)\ttotal: 2m 47s\tremaining: 40m 48s\n",
            "16:\tlearn: 0.6384724\ttest: 0.6379777\tbest: 0.6379777 (16)\ttotal: 2m 58s\tremaining: 40m 47s\n",
            "17:\tlearn: 0.6395665\ttest: 0.6400168\tbest: 0.6400168 (17)\ttotal: 3m 9s\tremaining: 40m 46s\n",
            "18:\tlearn: 0.6399235\ttest: 0.6404300\tbest: 0.6404300 (18)\ttotal: 3m 20s\tremaining: 40m 38s\n",
            "19:\tlearn: 0.6402207\ttest: 0.6413734\tbest: 0.6413734 (19)\ttotal: 3m 30s\tremaining: 40m 25s\n",
            "20:\tlearn: 0.6413840\ttest: 0.6431828\tbest: 0.6431828 (20)\ttotal: 3m 42s\tremaining: 40m 22s\n",
            "21:\tlearn: 0.6413264\ttest: 0.6425363\tbest: 0.6431828 (20)\ttotal: 3m 51s\tremaining: 40m 3s\n",
            "22:\tlearn: 0.6416295\ttest: 0.6420681\tbest: 0.6431828 (20)\ttotal: 4m 3s\tremaining: 39m 59s\n",
            "23:\tlearn: 0.6430742\ttest: 0.6458082\tbest: 0.6458082 (23)\ttotal: 4m 13s\tremaining: 39m 50s\n",
            "24:\tlearn: 0.6432773\ttest: 0.6464328\tbest: 0.6464328 (24)\ttotal: 4m 22s\tremaining: 39m 26s\n",
            "25:\tlearn: 0.6445851\ttest: 0.6492609\tbest: 0.6492609 (25)\ttotal: 4m 33s\tremaining: 39m 19s\n",
            "26:\tlearn: 0.6448055\ttest: 0.6492389\tbest: 0.6492609 (25)\ttotal: 4m 45s\tremaining: 39m 15s\n",
            "27:\tlearn: 0.6458185\ttest: 0.6514640\tbest: 0.6514640 (27)\ttotal: 4m 55s\tremaining: 39m 6s\n",
            "28:\tlearn: 0.6459451\ttest: 0.6510593\tbest: 0.6514640 (27)\ttotal: 5m 6s\tremaining: 38m 56s\n",
            "29:\tlearn: 0.6470087\ttest: 0.6536347\tbest: 0.6536347 (29)\ttotal: 5m 17s\tremaining: 38m 46s\n",
            "30:\tlearn: 0.6480888\ttest: 0.6553188\tbest: 0.6553188 (30)\ttotal: 5m 28s\tremaining: 38m 39s\n",
            "31:\tlearn: 0.6490055\ttest: 0.6559423\tbest: 0.6559423 (31)\ttotal: 5m 38s\tremaining: 38m 23s\n",
            "32:\tlearn: 0.6499907\ttest: 0.6579280\tbest: 0.6579280 (32)\ttotal: 5m 47s\tremaining: 38m 8s\n",
            "33:\tlearn: 0.6504807\ttest: 0.6597017\tbest: 0.6597017 (33)\ttotal: 5m 59s\tremaining: 38m 3s\n",
            "34:\tlearn: 0.6516126\ttest: 0.6607554\tbest: 0.6607554 (34)\ttotal: 6m 9s\tremaining: 37m 52s\n",
            "35:\tlearn: 0.6520013\ttest: 0.6620145\tbest: 0.6620145 (35)\ttotal: 6m 20s\tremaining: 37m 42s\n",
            "36:\tlearn: 0.6524372\ttest: 0.6630084\tbest: 0.6630084 (36)\ttotal: 6m 31s\tremaining: 37m 35s\n",
            "37:\tlearn: 0.6532494\ttest: 0.6631738\tbest: 0.6631738 (37)\ttotal: 6m 43s\tremaining: 37m 28s\n",
            "38:\tlearn: 0.6541774\ttest: 0.6644235\tbest: 0.6644235 (38)\ttotal: 6m 54s\tremaining: 37m 21s\n",
            "39:\tlearn: 0.6539885\ttest: 0.6644590\tbest: 0.6644590 (39)\ttotal: 7m 4s\tremaining: 37m 8s\n",
            "40:\tlearn: 0.6541821\ttest: 0.6656273\tbest: 0.6656273 (40)\ttotal: 7m 14s\tremaining: 36m 53s\n",
            "41:\tlearn: 0.6543429\ttest: 0.6666606\tbest: 0.6666606 (41)\ttotal: 7m 23s\tremaining: 36m 38s\n",
            "42:\tlearn: 0.6542572\ttest: 0.6667945\tbest: 0.6667945 (42)\ttotal: 7m 32s\tremaining: 36m 17s\n",
            "43:\tlearn: 0.6550776\ttest: 0.6672334\tbest: 0.6672334 (43)\ttotal: 7m 41s\tremaining: 36m 1s\n",
            "44:\tlearn: 0.6555924\ttest: 0.6673254\tbest: 0.6673254 (44)\ttotal: 7m 50s\tremaining: 35m 44s\n",
            "45:\tlearn: 0.6557824\ttest: 0.6677952\tbest: 0.6677952 (45)\ttotal: 8m 1s\tremaining: 35m 34s\n",
            "46:\tlearn: 0.6558198\ttest: 0.6678201\tbest: 0.6678201 (46)\ttotal: 8m 11s\tremaining: 35m 24s\n",
            "47:\tlearn: 0.6564712\ttest: 0.6679055\tbest: 0.6679055 (47)\ttotal: 8m 21s\tremaining: 35m 9s\n",
            "48:\tlearn: 0.6565337\ttest: 0.6690383\tbest: 0.6690383 (48)\ttotal: 8m 31s\tremaining: 35m\n",
            "49:\tlearn: 0.6567641\ttest: 0.6689801\tbest: 0.6690383 (48)\ttotal: 8m 43s\tremaining: 34m 52s\n",
            "50:\tlearn: 0.6568839\ttest: 0.6691574\tbest: 0.6691574 (50)\ttotal: 8m 51s\tremaining: 34m 34s\n",
            "51:\tlearn: 0.6573883\ttest: 0.6699143\tbest: 0.6699143 (51)\ttotal: 9m 1s\tremaining: 34m 20s\n",
            "52:\tlearn: 0.6575526\ttest: 0.6704010\tbest: 0.6704010 (52)\ttotal: 9m 11s\tremaining: 34m 8s\n",
            "53:\tlearn: 0.6579561\ttest: 0.6704442\tbest: 0.6704442 (53)\ttotal: 9m 19s\tremaining: 33m 52s\n",
            "54:\tlearn: 0.6578675\ttest: 0.6711256\tbest: 0.6711256 (54)\ttotal: 9m 31s\tremaining: 33m 44s\n",
            "55:\tlearn: 0.6581364\ttest: 0.6714913\tbest: 0.6714913 (55)\ttotal: 9m 42s\tremaining: 33m 39s\n",
            "56:\tlearn: 0.6585754\ttest: 0.6724855\tbest: 0.6724855 (56)\ttotal: 9m 51s\tremaining: 33m 22s\n",
            "57:\tlearn: 0.6584332\ttest: 0.6725207\tbest: 0.6725207 (57)\ttotal: 10m 3s\tremaining: 33m 17s\n",
            "58:\tlearn: 0.6583680\ttest: 0.6730321\tbest: 0.6730321 (58)\ttotal: 10m 12s\tremaining: 33m 4s\n",
            "59:\tlearn: 0.6589365\ttest: 0.6730593\tbest: 0.6730593 (59)\ttotal: 10m 22s\tremaining: 32m 50s\n",
            "60:\tlearn: 0.6591938\ttest: 0.6733622\tbest: 0.6733622 (60)\ttotal: 10m 30s\tremaining: 32m 34s\n",
            "61:\tlearn: 0.6597065\ttest: 0.6738199\tbest: 0.6738199 (61)\ttotal: 10m 39s\tremaining: 32m 20s\n",
            "62:\tlearn: 0.6597583\ttest: 0.6739972\tbest: 0.6739972 (62)\ttotal: 10m 52s\tremaining: 32m 16s\n",
            "63:\tlearn: 0.6598195\ttest: 0.6743915\tbest: 0.6743915 (63)\ttotal: 11m 2s\tremaining: 32m 6s\n",
            "64:\tlearn: 0.6600794\ttest: 0.6745321\tbest: 0.6745321 (64)\ttotal: 11m 11s\tremaining: 31m 49s\n",
            "65:\tlearn: 0.6606633\ttest: 0.6751792\tbest: 0.6751792 (65)\ttotal: 11m 19s\tremaining: 31m 34s\n",
            "66:\tlearn: 0.6612485\ttest: 0.6758122\tbest: 0.6758122 (66)\ttotal: 11m 27s\tremaining: 31m 19s\n",
            "67:\tlearn: 0.6612298\ttest: 0.6760370\tbest: 0.6760370 (67)\ttotal: 11m 38s\tremaining: 31m 9s\n",
            "68:\tlearn: 0.6611398\ttest: 0.6764183\tbest: 0.6764183 (68)\ttotal: 11m 49s\tremaining: 31m\n",
            "69:\tlearn: 0.6611196\ttest: 0.6761587\tbest: 0.6764183 (68)\ttotal: 12m\tremaining: 30m 52s\n",
            "70:\tlearn: 0.6615039\ttest: 0.6764161\tbest: 0.6764183 (68)\ttotal: 12m 9s\tremaining: 30m 39s\n",
            "71:\tlearn: 0.6615874\ttest: 0.6765909\tbest: 0.6765909 (71)\ttotal: 12m 19s\tremaining: 30m 27s\n",
            "72:\tlearn: 0.6619206\ttest: 0.6766961\tbest: 0.6766961 (72)\ttotal: 12m 30s\tremaining: 30m 20s\n",
            "73:\tlearn: 0.6619159\ttest: 0.6766847\tbest: 0.6766961 (72)\ttotal: 12m 41s\tremaining: 30m 10s\n",
            "74:\tlearn: 0.6621258\ttest: 0.6771658\tbest: 0.6771658 (74)\ttotal: 12m 50s\tremaining: 29m 58s\n",
            "75:\tlearn: 0.6622287\ttest: 0.6776310\tbest: 0.6776310 (75)\ttotal: 13m 1s\tremaining: 29m 49s\n",
            "76:\tlearn: 0.6621887\ttest: 0.6781701\tbest: 0.6781701 (76)\ttotal: 13m 11s\tremaining: 29m 38s\n",
            "77:\tlearn: 0.6624897\ttest: 0.6783463\tbest: 0.6783463 (77)\ttotal: 13m 20s\tremaining: 29m 24s\n",
            "78:\tlearn: 0.6626523\ttest: 0.6788919\tbest: 0.6788919 (78)\ttotal: 13m 31s\tremaining: 29m 16s\n",
            "79:\tlearn: 0.6629544\ttest: 0.6794907\tbest: 0.6794907 (79)\ttotal: 13m 40s\tremaining: 29m 4s\n",
            "80:\tlearn: 0.6635155\ttest: 0.6798383\tbest: 0.6798383 (80)\ttotal: 13m 50s\tremaining: 28m 53s\n",
            "81:\tlearn: 0.6637446\ttest: 0.6794588\tbest: 0.6798383 (80)\ttotal: 14m 1s\tremaining: 28m 43s\n",
            "82:\tlearn: 0.6640046\ttest: 0.6797267\tbest: 0.6798383 (80)\ttotal: 14m 11s\tremaining: 28m 33s\n",
            "83:\tlearn: 0.6642553\ttest: 0.6798364\tbest: 0.6798383 (80)\ttotal: 14m 23s\tremaining: 28m 25s\n",
            "84:\tlearn: 0.6645358\ttest: 0.6801893\tbest: 0.6801893 (84)\ttotal: 14m 33s\tremaining: 28m 15s\n",
            "85:\tlearn: 0.6646880\ttest: 0.6801317\tbest: 0.6801893 (84)\ttotal: 14m 43s\tremaining: 28m 4s\n",
            "86:\tlearn: 0.6648023\ttest: 0.6804532\tbest: 0.6804532 (86)\ttotal: 14m 54s\tremaining: 27m 54s\n",
            "87:\tlearn: 0.6648792\ttest: 0.6809434\tbest: 0.6809434 (87)\ttotal: 15m 5s\tremaining: 27m 46s\n",
            "88:\tlearn: 0.6651535\ttest: 0.6812380\tbest: 0.6812380 (88)\ttotal: 15m 16s\tremaining: 27m 37s\n",
            "89:\tlearn: 0.6654246\ttest: 0.6815379\tbest: 0.6815379 (89)\ttotal: 15m 25s\tremaining: 27m 25s\n",
            "90:\tlearn: 0.6656782\ttest: 0.6817507\tbest: 0.6817507 (90)\ttotal: 15m 34s\tremaining: 27m 12s\n",
            "91:\tlearn: 0.6659163\ttest: 0.6817886\tbest: 0.6817886 (91)\ttotal: 15m 43s\tremaining: 27m\n",
            "92:\tlearn: 0.6661243\ttest: 0.6818265\tbest: 0.6818265 (92)\ttotal: 15m 53s\tremaining: 26m 50s\n",
            "93:\tlearn: 0.6664159\ttest: 0.6815555\tbest: 0.6818265 (92)\ttotal: 16m 2s\tremaining: 26m 36s\n",
            "94:\tlearn: 0.6665752\ttest: 0.6817910\tbest: 0.6818265 (92)\ttotal: 16m 12s\tremaining: 26m 26s\n",
            "95:\tlearn: 0.6667108\ttest: 0.6817092\tbest: 0.6818265 (92)\ttotal: 16m 20s\tremaining: 26m 13s\n",
            "96:\tlearn: 0.6670753\ttest: 0.6818608\tbest: 0.6818608 (96)\ttotal: 16m 30s\tremaining: 26m 1s\n",
            "97:\tlearn: 0.6671448\ttest: 0.6819775\tbest: 0.6819775 (97)\ttotal: 16m 39s\tremaining: 25m 50s\n",
            "98:\tlearn: 0.6674304\ttest: 0.6821239\tbest: 0.6821239 (98)\ttotal: 16m 50s\tremaining: 25m 41s\n",
            "99:\tlearn: 0.6674982\ttest: 0.6825444\tbest: 0.6825444 (99)\ttotal: 17m\tremaining: 25m 31s\n",
            "100:\tlearn: 0.6675189\ttest: 0.6824732\tbest: 0.6825444 (99)\ttotal: 17m 11s\tremaining: 25m 22s\n",
            "101:\tlearn: 0.6676185\ttest: 0.6828533\tbest: 0.6828533 (101)\ttotal: 17m 20s\tremaining: 25m 10s\n",
            "102:\tlearn: 0.6678285\ttest: 0.6827583\tbest: 0.6828533 (101)\ttotal: 17m 31s\tremaining: 25m 1s\n",
            "103:\tlearn: 0.6680225\ttest: 0.6827207\tbest: 0.6828533 (101)\ttotal: 17m 42s\tremaining: 24m 51s\n",
            "104:\tlearn: 0.6682671\ttest: 0.6830385\tbest: 0.6830385 (104)\ttotal: 17m 52s\tremaining: 24m 40s\n",
            "105:\tlearn: 0.6685638\ttest: 0.6832088\tbest: 0.6832088 (105)\ttotal: 18m 2s\tremaining: 24m 30s\n",
            "106:\tlearn: 0.6687846\ttest: 0.6833684\tbest: 0.6833684 (106)\ttotal: 18m 11s\tremaining: 24m 19s\n",
            "107:\tlearn: 0.6691016\ttest: 0.6831741\tbest: 0.6833684 (106)\ttotal: 18m 22s\tremaining: 24m 9s\n",
            "108:\tlearn: 0.6693975\ttest: 0.6835448\tbest: 0.6835448 (108)\ttotal: 18m 32s\tremaining: 23m 59s\n",
            "109:\tlearn: 0.6695714\ttest: 0.6831153\tbest: 0.6835448 (108)\ttotal: 18m 41s\tremaining: 23m 46s\n",
            "110:\tlearn: 0.6699232\ttest: 0.6834013\tbest: 0.6835448 (108)\ttotal: 18m 50s\tremaining: 23m 35s\n",
            "111:\tlearn: 0.6700396\ttest: 0.6834781\tbest: 0.6835448 (108)\ttotal: 18m 59s\tremaining: 23m 24s\n",
            "112:\tlearn: 0.6702448\ttest: 0.6838610\tbest: 0.6838610 (112)\ttotal: 19m 9s\tremaining: 23m 14s\n",
            "113:\tlearn: 0.6703754\ttest: 0.6838659\tbest: 0.6838659 (113)\ttotal: 19m 20s\tremaining: 23m 4s\n",
            "114:\tlearn: 0.6705319\ttest: 0.6838997\tbest: 0.6838997 (114)\ttotal: 19m 30s\tremaining: 22m 54s\n",
            "115:\tlearn: 0.6706745\ttest: 0.6842817\tbest: 0.6842817 (115)\ttotal: 19m 40s\tremaining: 22m 43s\n",
            "116:\tlearn: 0.6707510\ttest: 0.6842788\tbest: 0.6842817 (115)\ttotal: 19m 50s\tremaining: 22m 32s\n",
            "117:\tlearn: 0.6709985\ttest: 0.6844323\tbest: 0.6844323 (117)\ttotal: 19m 59s\tremaining: 22m 21s\n",
            "118:\tlearn: 0.6711110\ttest: 0.6845935\tbest: 0.6845935 (118)\ttotal: 20m 9s\tremaining: 22m 11s\n",
            "119:\tlearn: 0.6712074\ttest: 0.6846414\tbest: 0.6846414 (119)\ttotal: 20m 18s\tremaining: 22m\n",
            "120:\tlearn: 0.6712033\ttest: 0.6849734\tbest: 0.6849734 (120)\ttotal: 20m 27s\tremaining: 21m 48s\n",
            "121:\tlearn: 0.6713418\ttest: 0.6848327\tbest: 0.6849734 (120)\ttotal: 20m 38s\tremaining: 21m 39s\n",
            "122:\tlearn: 0.6716509\ttest: 0.6848884\tbest: 0.6849734 (120)\ttotal: 20m 50s\tremaining: 21m 30s\n",
            "123:\tlearn: 0.6716841\ttest: 0.6852692\tbest: 0.6852692 (123)\ttotal: 21m\tremaining: 21m 20s\n",
            "124:\tlearn: 0.6716690\ttest: 0.6849305\tbest: 0.6852692 (123)\ttotal: 21m 9s\tremaining: 21m 9s\n",
            "125:\tlearn: 0.6718644\ttest: 0.6851323\tbest: 0.6852692 (123)\ttotal: 21m 19s\tremaining: 20m 58s\n",
            "126:\tlearn: 0.6720996\ttest: 0.6853296\tbest: 0.6853296 (126)\ttotal: 21m 29s\tremaining: 20m 48s\n",
            "127:\tlearn: 0.6722901\ttest: 0.6853802\tbest: 0.6853802 (127)\ttotal: 21m 39s\tremaining: 20m 39s\n",
            "128:\tlearn: 0.6723014\ttest: 0.6853265\tbest: 0.6853802 (127)\ttotal: 21m 50s\tremaining: 20m 29s\n",
            "129:\tlearn: 0.6723984\ttest: 0.6854344\tbest: 0.6854344 (129)\ttotal: 22m 1s\tremaining: 20m 19s\n",
            "130:\tlearn: 0.6726064\ttest: 0.6855653\tbest: 0.6855653 (130)\ttotal: 22m 10s\tremaining: 20m 8s\n",
            "131:\tlearn: 0.6727657\ttest: 0.6857743\tbest: 0.6857743 (131)\ttotal: 22m 20s\tremaining: 19m 58s\n",
            "132:\tlearn: 0.6730781\ttest: 0.6860463\tbest: 0.6860463 (132)\ttotal: 22m 31s\tremaining: 19m 48s\n",
            "133:\tlearn: 0.6731432\ttest: 0.6859916\tbest: 0.6860463 (132)\ttotal: 22m 41s\tremaining: 19m 38s\n",
            "134:\tlearn: 0.6733502\ttest: 0.6862247\tbest: 0.6862247 (134)\ttotal: 22m 52s\tremaining: 19m 29s\n",
            "135:\tlearn: 0.6733002\ttest: 0.6862357\tbest: 0.6862357 (135)\ttotal: 23m 3s\tremaining: 19m 19s\n",
            "136:\tlearn: 0.6734227\ttest: 0.6863655\tbest: 0.6863655 (136)\ttotal: 23m 12s\tremaining: 19m 8s\n",
            "137:\tlearn: 0.6736247\ttest: 0.6862814\tbest: 0.6863655 (136)\ttotal: 23m 23s\tremaining: 18m 59s\n",
            "138:\tlearn: 0.6737130\ttest: 0.6863390\tbest: 0.6863655 (136)\ttotal: 23m 33s\tremaining: 18m 49s\n",
            "139:\tlearn: 0.6739728\ttest: 0.6864084\tbest: 0.6864084 (139)\ttotal: 23m 44s\tremaining: 18m 39s\n",
            "140:\tlearn: 0.6740333\ttest: 0.6866227\tbest: 0.6866227 (140)\ttotal: 23m 53s\tremaining: 18m 28s\n",
            "141:\tlearn: 0.6742535\ttest: 0.6868635\tbest: 0.6868635 (141)\ttotal: 24m 5s\tremaining: 18m 19s\n",
            "142:\tlearn: 0.6742579\ttest: 0.6867763\tbest: 0.6868635 (141)\ttotal: 24m 17s\tremaining: 18m 10s\n",
            "143:\tlearn: 0.6744635\ttest: 0.6867719\tbest: 0.6868635 (141)\ttotal: 24m 27s\tremaining: 18m\n",
            "144:\tlearn: 0.6745790\ttest: 0.6866696\tbest: 0.6868635 (141)\ttotal: 24m 38s\tremaining: 17m 50s\n",
            "145:\tlearn: 0.6745380\ttest: 0.6869507\tbest: 0.6869507 (145)\ttotal: 24m 47s\tremaining: 17m 39s\n",
            "146:\tlearn: 0.6744656\ttest: 0.6870511\tbest: 0.6870511 (146)\ttotal: 24m 51s\tremaining: 17m 24s\n",
            "147:\tlearn: 0.6746133\ttest: 0.6867483\tbest: 0.6870511 (146)\ttotal: 25m 1s\tremaining: 17m 14s\n",
            "148:\tlearn: 0.6747271\ttest: 0.6866980\tbest: 0.6870511 (146)\ttotal: 25m 11s\tremaining: 17m 4s\n",
            "149:\tlearn: 0.6747868\ttest: 0.6867043\tbest: 0.6870511 (146)\ttotal: 25m 21s\tremaining: 16m 54s\n",
            "150:\tlearn: 0.6749901\ttest: 0.6867727\tbest: 0.6870511 (146)\ttotal: 25m 31s\tremaining: 16m 44s\n",
            "151:\tlearn: 0.6750038\ttest: 0.6868032\tbest: 0.6870511 (146)\ttotal: 25m 41s\tremaining: 16m 33s\n",
            "152:\tlearn: 0.6751736\ttest: 0.6869503\tbest: 0.6870511 (146)\ttotal: 25m 51s\tremaining: 16m 23s\n",
            "153:\tlearn: 0.6752838\ttest: 0.6868765\tbest: 0.6870511 (146)\ttotal: 26m 1s\tremaining: 16m 13s\n",
            "154:\tlearn: 0.6755187\ttest: 0.6869861\tbest: 0.6870511 (146)\ttotal: 26m 11s\tremaining: 16m 3s\n",
            "155:\tlearn: 0.6756208\ttest: 0.6870853\tbest: 0.6870853 (155)\ttotal: 26m 21s\tremaining: 15m 53s\n",
            "156:\tlearn: 0.6756841\ttest: 0.6871604\tbest: 0.6871604 (156)\ttotal: 26m 32s\tremaining: 15m 43s\n",
            "157:\tlearn: 0.6758359\ttest: 0.6871050\tbest: 0.6871604 (156)\ttotal: 26m 42s\tremaining: 15m 33s\n",
            "158:\tlearn: 0.6760385\ttest: 0.6871933\tbest: 0.6871933 (158)\ttotal: 26m 52s\tremaining: 15m 23s\n",
            "159:\tlearn: 0.6761335\ttest: 0.6873155\tbest: 0.6873155 (159)\ttotal: 27m 3s\tremaining: 15m 13s\n",
            "160:\tlearn: 0.6762238\ttest: 0.6876130\tbest: 0.6876130 (160)\ttotal: 27m 14s\tremaining: 15m 3s\n",
            "161:\tlearn: 0.6762925\ttest: 0.6874660\tbest: 0.6876130 (160)\ttotal: 27m 24s\tremaining: 14m 53s\n",
            "162:\tlearn: 0.6763762\ttest: 0.6875398\tbest: 0.6876130 (160)\ttotal: 27m 34s\tremaining: 14m 42s\n",
            "163:\tlearn: 0.6765639\ttest: 0.6877629\tbest: 0.6877629 (163)\ttotal: 27m 44s\tremaining: 14m 32s\n",
            "164:\tlearn: 0.6766750\ttest: 0.6877029\tbest: 0.6877629 (163)\ttotal: 27m 54s\tremaining: 14m 22s\n",
            "165:\tlearn: 0.6767947\ttest: 0.6881159\tbest: 0.6881159 (165)\ttotal: 28m 5s\tremaining: 14m 12s\n",
            "166:\tlearn: 0.6770210\ttest: 0.6879692\tbest: 0.6881159 (165)\ttotal: 28m 15s\tremaining: 14m 2s\n",
            "167:\tlearn: 0.6770512\ttest: 0.6881383\tbest: 0.6881383 (167)\ttotal: 28m 24s\tremaining: 13m 51s\n",
            "168:\tlearn: 0.6771109\ttest: 0.6881859\tbest: 0.6881859 (168)\ttotal: 28m 32s\tremaining: 13m 40s\n",
            "169:\tlearn: 0.6773501\ttest: 0.6882229\tbest: 0.6882229 (169)\ttotal: 28m 42s\tremaining: 13m 30s\n",
            "170:\tlearn: 0.6775862\ttest: 0.6880902\tbest: 0.6882229 (169)\ttotal: 28m 52s\tremaining: 13m 20s\n",
            "171:\tlearn: 0.6776826\ttest: 0.6881099\tbest: 0.6882229 (169)\ttotal: 29m 2s\tremaining: 13m 10s\n",
            "172:\tlearn: 0.6777825\ttest: 0.6880857\tbest: 0.6882229 (169)\ttotal: 29m 13s\tremaining: 13m\n",
            "173:\tlearn: 0.6778696\ttest: 0.6881434\tbest: 0.6882229 (169)\ttotal: 29m 23s\tremaining: 12m 50s\n",
            "174:\tlearn: 0.6779925\ttest: 0.6882467\tbest: 0.6882467 (174)\ttotal: 29m 34s\tremaining: 12m 40s\n",
            "175:\tlearn: 0.6781112\ttest: 0.6881401\tbest: 0.6882467 (174)\ttotal: 29m 44s\tremaining: 12m 30s\n",
            "176:\tlearn: 0.6782806\ttest: 0.6881915\tbest: 0.6882467 (174)\ttotal: 29m 55s\tremaining: 12m 20s\n",
            "177:\tlearn: 0.6784385\ttest: 0.6880628\tbest: 0.6882467 (174)\ttotal: 30m 6s\tremaining: 12m 10s\n",
            "178:\tlearn: 0.6786388\ttest: 0.6881891\tbest: 0.6882467 (174)\ttotal: 30m 17s\tremaining: 12m\n",
            "179:\tlearn: 0.6787572\ttest: 0.6880916\tbest: 0.6882467 (174)\ttotal: 30m 28s\tremaining: 11m 50s\n",
            "180:\tlearn: 0.6787315\ttest: 0.6881073\tbest: 0.6882467 (174)\ttotal: 30m 37s\tremaining: 11m 40s\n",
            "181:\tlearn: 0.6788928\ttest: 0.6882950\tbest: 0.6882950 (181)\ttotal: 30m 48s\tremaining: 11m 30s\n",
            "182:\tlearn: 0.6790857\ttest: 0.6882489\tbest: 0.6882950 (181)\ttotal: 30m 58s\tremaining: 11m 20s\n",
            "183:\tlearn: 0.6792174\ttest: 0.6881150\tbest: 0.6882950 (181)\ttotal: 31m 7s\tremaining: 11m 9s\n",
            "184:\tlearn: 0.6792072\ttest: 0.6882986\tbest: 0.6882986 (184)\ttotal: 31m 15s\tremaining: 10m 58s\n",
            "185:\tlearn: 0.6793229\ttest: 0.6884922\tbest: 0.6884922 (185)\ttotal: 31m 25s\tremaining: 10m 48s\n",
            "186:\tlearn: 0.6794734\ttest: 0.6884288\tbest: 0.6884922 (185)\ttotal: 31m 36s\tremaining: 10m 38s\n",
            "187:\tlearn: 0.6795779\ttest: 0.6886697\tbest: 0.6886697 (187)\ttotal: 31m 47s\tremaining: 10m 28s\n",
            "188:\tlearn: 0.6796486\ttest: 0.6884997\tbest: 0.6886697 (187)\ttotal: 31m 57s\tremaining: 10m 18s\n",
            "189:\tlearn: 0.6797556\ttest: 0.6885085\tbest: 0.6886697 (187)\ttotal: 32m 6s\tremaining: 10m 8s\n",
            "190:\tlearn: 0.6798879\ttest: 0.6884187\tbest: 0.6886697 (187)\ttotal: 32m 15s\tremaining: 9m 57s\n",
            "191:\tlearn: 0.6799415\ttest: 0.6881350\tbest: 0.6886697 (187)\ttotal: 32m 25s\tremaining: 9m 47s\n",
            "192:\tlearn: 0.6800826\ttest: 0.6883860\tbest: 0.6886697 (187)\ttotal: 32m 34s\tremaining: 9m 37s\n",
            "193:\tlearn: 0.6801026\ttest: 0.6882674\tbest: 0.6886697 (187)\ttotal: 32m 43s\tremaining: 9m 26s\n",
            "194:\tlearn: 0.6802048\ttest: 0.6883748\tbest: 0.6886697 (187)\ttotal: 32m 54s\tremaining: 9m 17s\n",
            "195:\tlearn: 0.6804368\ttest: 0.6884257\tbest: 0.6886697 (187)\ttotal: 33m 6s\tremaining: 9m 7s\n",
            "196:\tlearn: 0.6804833\ttest: 0.6883872\tbest: 0.6886697 (187)\ttotal: 33m 17s\tremaining: 8m 57s\n",
            "197:\tlearn: 0.6806137\ttest: 0.6885446\tbest: 0.6886697 (187)\ttotal: 33m 26s\tremaining: 8m 46s\n",
            "198:\tlearn: 0.6808122\ttest: 0.6884584\tbest: 0.6886697 (187)\ttotal: 33m 37s\tremaining: 8m 37s\n",
            "199:\tlearn: 0.6810682\ttest: 0.6884493\tbest: 0.6886697 (187)\ttotal: 33m 47s\tremaining: 8m 26s\n",
            "200:\tlearn: 0.6810819\ttest: 0.6883446\tbest: 0.6886697 (187)\ttotal: 33m 58s\tremaining: 8m 17s\n",
            "201:\tlearn: 0.6811869\ttest: 0.6884324\tbest: 0.6886697 (187)\ttotal: 34m 9s\tremaining: 8m 6s\n",
            "202:\tlearn: 0.6812347\ttest: 0.6886220\tbest: 0.6886697 (187)\ttotal: 34m 20s\tremaining: 7m 56s\n",
            "203:\tlearn: 0.6812993\ttest: 0.6885634\tbest: 0.6886697 (187)\ttotal: 34m 29s\tremaining: 7m 46s\n",
            "204:\tlearn: 0.6813581\ttest: 0.6885577\tbest: 0.6886697 (187)\ttotal: 34m 38s\tremaining: 7m 36s\n",
            "205:\tlearn: 0.6815154\ttest: 0.6884444\tbest: 0.6886697 (187)\ttotal: 34m 47s\tremaining: 7m 25s\n",
            "206:\tlearn: 0.6815444\ttest: 0.6884930\tbest: 0.6886697 (187)\ttotal: 34m 57s\tremaining: 7m 15s\n",
            "207:\tlearn: 0.6817331\ttest: 0.6884560\tbest: 0.6886697 (187)\ttotal: 35m 9s\tremaining: 7m 5s\n",
            "208:\tlearn: 0.6819311\ttest: 0.6883194\tbest: 0.6886697 (187)\ttotal: 35m 20s\tremaining: 6m 56s\n",
            "209:\tlearn: 0.6820486\ttest: 0.6884062\tbest: 0.6886697 (187)\ttotal: 35m 32s\tremaining: 6m 46s\n",
            "210:\tlearn: 0.6820460\ttest: 0.6884869\tbest: 0.6886697 (187)\ttotal: 35m 42s\tremaining: 6m 36s\n",
            "211:\tlearn: 0.6822068\ttest: 0.6883967\tbest: 0.6886697 (187)\ttotal: 35m 53s\tremaining: 6m 25s\n",
            "212:\tlearn: 0.6824798\ttest: 0.6883639\tbest: 0.6886697 (187)\ttotal: 36m 3s\tremaining: 6m 15s\n",
            "213:\tlearn: 0.6824915\ttest: 0.6883639\tbest: 0.6886697 (187)\ttotal: 36m 13s\tremaining: 6m 5s\n",
            "214:\tlearn: 0.6824963\ttest: 0.6884490\tbest: 0.6886697 (187)\ttotal: 36m 23s\tremaining: 5m 55s\n",
            "215:\tlearn: 0.6827099\ttest: 0.6887135\tbest: 0.6887135 (215)\ttotal: 36m 33s\tremaining: 5m 45s\n",
            "216:\tlearn: 0.6826846\ttest: 0.6886297\tbest: 0.6887135 (215)\ttotal: 36m 44s\tremaining: 5m 35s\n",
            "217:\tlearn: 0.6827288\ttest: 0.6886151\tbest: 0.6887135 (215)\ttotal: 36m 52s\tremaining: 5m 24s\n",
            "218:\tlearn: 0.6828651\ttest: 0.6888821\tbest: 0.6888821 (218)\ttotal: 37m 2s\tremaining: 5m 14s\n",
            "219:\tlearn: 0.6828644\ttest: 0.6890003\tbest: 0.6890003 (219)\ttotal: 37m 13s\tremaining: 5m 4s\n",
            "220:\tlearn: 0.6830285\ttest: 0.6888154\tbest: 0.6890003 (219)\ttotal: 37m 21s\tremaining: 4m 54s\n",
            "221:\tlearn: 0.6831625\ttest: 0.6888897\tbest: 0.6890003 (219)\ttotal: 37m 33s\tremaining: 4m 44s\n",
            "222:\tlearn: 0.6832257\ttest: 0.6889490\tbest: 0.6890003 (219)\ttotal: 37m 42s\tremaining: 4m 33s\n",
            "223:\tlearn: 0.6832980\ttest: 0.6887005\tbest: 0.6890003 (219)\ttotal: 37m 52s\tremaining: 4m 23s\n",
            "224:\tlearn: 0.6833301\ttest: 0.6887801\tbest: 0.6890003 (219)\ttotal: 38m 2s\tremaining: 4m 13s\n",
            "225:\tlearn: 0.6834244\ttest: 0.6889848\tbest: 0.6890003 (219)\ttotal: 38m 13s\tremaining: 4m 3s\n",
            "226:\tlearn: 0.6835724\ttest: 0.6890904\tbest: 0.6890904 (226)\ttotal: 38m 25s\tremaining: 3m 53s\n",
            "227:\tlearn: 0.6837519\ttest: 0.6891798\tbest: 0.6891798 (227)\ttotal: 38m 34s\tremaining: 3m 43s\n",
            "228:\tlearn: 0.6837805\ttest: 0.6891888\tbest: 0.6891888 (228)\ttotal: 38m 45s\tremaining: 3m 33s\n",
            "229:\tlearn: 0.6839823\ttest: 0.6890963\tbest: 0.6891888 (228)\ttotal: 38m 57s\tremaining: 3m 23s\n",
            "230:\tlearn: 0.6840090\ttest: 0.6890881\tbest: 0.6891888 (228)\ttotal: 39m 8s\tremaining: 3m 13s\n",
            "231:\tlearn: 0.6841055\ttest: 0.6891091\tbest: 0.6891888 (228)\ttotal: 39m 19s\tremaining: 3m 3s\n",
            "232:\tlearn: 0.6841949\ttest: 0.6893007\tbest: 0.6893007 (232)\ttotal: 39m 29s\tremaining: 2m 52s\n",
            "233:\tlearn: 0.6842377\ttest: 0.6892547\tbest: 0.6893007 (232)\ttotal: 39m 38s\tremaining: 2m 42s\n",
            "234:\tlearn: 0.6843410\ttest: 0.6892265\tbest: 0.6893007 (232)\ttotal: 39m 49s\tremaining: 2m 32s\n",
            "235:\tlearn: 0.6844664\ttest: 0.6895019\tbest: 0.6895019 (235)\ttotal: 39m 59s\tremaining: 2m 22s\n",
            "236:\tlearn: 0.6844943\ttest: 0.6897075\tbest: 0.6897075 (236)\ttotal: 40m 9s\tremaining: 2m 12s\n",
            "237:\tlearn: 0.6844795\ttest: 0.6897107\tbest: 0.6897107 (237)\ttotal: 40m 20s\tremaining: 2m 2s\n",
            "238:\tlearn: 0.6845590\ttest: 0.6896379\tbest: 0.6897107 (237)\ttotal: 40m 31s\tremaining: 1m 51s\n",
            "239:\tlearn: 0.6846122\ttest: 0.6896974\tbest: 0.6897107 (237)\ttotal: 40m 41s\tremaining: 1m 41s\n",
            "240:\tlearn: 0.6846789\ttest: 0.6895829\tbest: 0.6897107 (237)\ttotal: 40m 52s\tremaining: 1m 31s\n",
            "241:\tlearn: 0.6847871\ttest: 0.6894525\tbest: 0.6897107 (237)\ttotal: 41m\tremaining: 1m 21s\n",
            "242:\tlearn: 0.6849248\ttest: 0.6894167\tbest: 0.6897107 (237)\ttotal: 41m 11s\tremaining: 1m 11s\n",
            "243:\tlearn: 0.6851106\ttest: 0.6893789\tbest: 0.6897107 (237)\ttotal: 41m 21s\tremaining: 1m 1s\n",
            "244:\tlearn: 0.6851876\ttest: 0.6894339\tbest: 0.6897107 (237)\ttotal: 41m 32s\tremaining: 50.9s\n",
            "245:\tlearn: 0.6853042\ttest: 0.6896066\tbest: 0.6897107 (237)\ttotal: 41m 41s\tremaining: 40.7s\n",
            "246:\tlearn: 0.6854795\ttest: 0.6897217\tbest: 0.6897217 (246)\ttotal: 41m 52s\tremaining: 30.5s\n",
            "247:\tlearn: 0.6854835\ttest: 0.6898054\tbest: 0.6898054 (247)\ttotal: 42m 2s\tremaining: 20.3s\n",
            "248:\tlearn: 0.6855945\ttest: 0.6897824\tbest: 0.6898054 (247)\ttotal: 42m 12s\tremaining: 10.2s\n",
            "249:\tlearn: 0.6857856\ttest: 0.6898252\tbest: 0.6898252 (249)\ttotal: 42m 19s\tremaining: 0us\n",
            "\n",
            "bestTest = 0.6898252445\n",
            "bestIteration = 249\n",
            "\n"
          ]
        },
        {
          "output_type": "execute_result",
          "data": {
            "text/plain": [
              "<catboost.core.CatBoostClassifier at 0x7fea00de13d0>"
            ]
          },
          "metadata": {},
          "execution_count": 65
        }
      ]
    },
    {
      "cell_type": "code",
      "source": [
        "cat_prob = cb_model_final.predict_proba( test )\n",
        "cat_prob"
      ],
      "metadata": {
        "colab": {
          "base_uri": "https://localhost:8080/"
        },
        "id": "arY0ETB0b9bY",
        "outputId": "9ad15ce7-3709-4adc-fa08-39e67452252c"
      },
      "execution_count": null,
      "outputs": [
        {
          "output_type": "execute_result",
          "data": {
            "text/plain": [
              "array([[0.55733634, 0.44266366],\n",
              "       [0.68055735, 0.31944265],\n",
              "       [0.62395227, 0.37604773],\n",
              "       ...,\n",
              "       [0.31068615, 0.68931385],\n",
              "       [0.28644304, 0.71355696],\n",
              "       [0.30056912, 0.69943088]])"
            ]
          },
          "metadata": {},
          "execution_count": 67
        }
      ]
    },
    {
      "cell_type": "code",
      "source": [
        "pred = cb_model_final.predict(test)\n",
        "pred"
      ],
      "metadata": {
        "colab": {
          "base_uri": "https://localhost:8080/"
        },
        "id": "N1Cxp6DdcPgL",
        "outputId": "951c720a-b947-496c-f7f2-d6469fe992d3"
      },
      "execution_count": null,
      "outputs": [
        {
          "output_type": "execute_result",
          "data": {
            "text/plain": [
              "array([0, 0, 0, ..., 1, 1, 1])"
            ]
          },
          "metadata": {},
          "execution_count": 68
        }
      ]
    },
    {
      "cell_type": "code",
      "source": [
        "prob=pd.DataFrame(ypred)\n",
        "prob[1] = pd.DataFrame(y_pred)\n",
        "prob[2] = pd.DataFrame(pred)\n",
        "prob['avg'] = np.round(prob.mean(axis=1)).astype(int) #lgb xgb cat 산술평균\n",
        "prob.head(5)"
      ],
      "metadata": {
        "colab": {
          "base_uri": "https://localhost:8080/",
          "height": 206
        },
        "id": "veSlnHI5eYJi",
        "outputId": "9df07a09-cedf-44ca-ff46-729907bf9930"
      },
      "execution_count": null,
      "outputs": [
        {
          "output_type": "execute_result",
          "data": {
            "text/html": [
              "\n",
              "  <div id=\"df-6aa0c8f8-b915-4075-9ead-e63af21531da\">\n",
              "    <div class=\"colab-df-container\">\n",
              "      <div>\n",
              "<style scoped>\n",
              "    .dataframe tbody tr th:only-of-type {\n",
              "        vertical-align: middle;\n",
              "    }\n",
              "\n",
              "    .dataframe tbody tr th {\n",
              "        vertical-align: top;\n",
              "    }\n",
              "\n",
              "    .dataframe thead th {\n",
              "        text-align: right;\n",
              "    }\n",
              "</style>\n",
              "<table border=\"1\" class=\"dataframe\">\n",
              "  <thead>\n",
              "    <tr style=\"text-align: right;\">\n",
              "      <th></th>\n",
              "      <th>0</th>\n",
              "      <th>1</th>\n",
              "      <th>2</th>\n",
              "      <th>avg</th>\n",
              "    </tr>\n",
              "  </thead>\n",
              "  <tbody>\n",
              "    <tr>\n",
              "      <th>0</th>\n",
              "      <td>1</td>\n",
              "      <td>1</td>\n",
              "      <td>0</td>\n",
              "      <td>1</td>\n",
              "    </tr>\n",
              "    <tr>\n",
              "      <th>1</th>\n",
              "      <td>0</td>\n",
              "      <td>0</td>\n",
              "      <td>0</td>\n",
              "      <td>0</td>\n",
              "    </tr>\n",
              "    <tr>\n",
              "      <th>2</th>\n",
              "      <td>0</td>\n",
              "      <td>0</td>\n",
              "      <td>0</td>\n",
              "      <td>0</td>\n",
              "    </tr>\n",
              "    <tr>\n",
              "      <th>3</th>\n",
              "      <td>0</td>\n",
              "      <td>1</td>\n",
              "      <td>0</td>\n",
              "      <td>0</td>\n",
              "    </tr>\n",
              "    <tr>\n",
              "      <th>4</th>\n",
              "      <td>1</td>\n",
              "      <td>1</td>\n",
              "      <td>0</td>\n",
              "      <td>1</td>\n",
              "    </tr>\n",
              "  </tbody>\n",
              "</table>\n",
              "</div>\n",
              "      <button class=\"colab-df-convert\" onclick=\"convertToInteractive('df-6aa0c8f8-b915-4075-9ead-e63af21531da')\"\n",
              "              title=\"Convert this dataframe to an interactive table.\"\n",
              "              style=\"display:none;\">\n",
              "        \n",
              "  <svg xmlns=\"http://www.w3.org/2000/svg\" height=\"24px\"viewBox=\"0 0 24 24\"\n",
              "       width=\"24px\">\n",
              "    <path d=\"M0 0h24v24H0V0z\" fill=\"none\"/>\n",
              "    <path d=\"M18.56 5.44l.94 2.06.94-2.06 2.06-.94-2.06-.94-.94-2.06-.94 2.06-2.06.94zm-11 1L8.5 8.5l.94-2.06 2.06-.94-2.06-.94L8.5 2.5l-.94 2.06-2.06.94zm10 10l.94 2.06.94-2.06 2.06-.94-2.06-.94-.94-2.06-.94 2.06-2.06.94z\"/><path d=\"M17.41 7.96l-1.37-1.37c-.4-.4-.92-.59-1.43-.59-.52 0-1.04.2-1.43.59L10.3 9.45l-7.72 7.72c-.78.78-.78 2.05 0 2.83L4 21.41c.39.39.9.59 1.41.59.51 0 1.02-.2 1.41-.59l7.78-7.78 2.81-2.81c.8-.78.8-2.07 0-2.86zM5.41 20L4 18.59l7.72-7.72 1.47 1.35L5.41 20z\"/>\n",
              "  </svg>\n",
              "      </button>\n",
              "      \n",
              "  <style>\n",
              "    .colab-df-container {\n",
              "      display:flex;\n",
              "      flex-wrap:wrap;\n",
              "      gap: 12px;\n",
              "    }\n",
              "\n",
              "    .colab-df-convert {\n",
              "      background-color: #E8F0FE;\n",
              "      border: none;\n",
              "      border-radius: 50%;\n",
              "      cursor: pointer;\n",
              "      display: none;\n",
              "      fill: #1967D2;\n",
              "      height: 32px;\n",
              "      padding: 0 0 0 0;\n",
              "      width: 32px;\n",
              "    }\n",
              "\n",
              "    .colab-df-convert:hover {\n",
              "      background-color: #E2EBFA;\n",
              "      box-shadow: 0px 1px 2px rgba(60, 64, 67, 0.3), 0px 1px 3px 1px rgba(60, 64, 67, 0.15);\n",
              "      fill: #174EA6;\n",
              "    }\n",
              "\n",
              "    [theme=dark] .colab-df-convert {\n",
              "      background-color: #3B4455;\n",
              "      fill: #D2E3FC;\n",
              "    }\n",
              "\n",
              "    [theme=dark] .colab-df-convert:hover {\n",
              "      background-color: #434B5C;\n",
              "      box-shadow: 0px 1px 3px 1px rgba(0, 0, 0, 0.15);\n",
              "      filter: drop-shadow(0px 1px 2px rgba(0, 0, 0, 0.3));\n",
              "      fill: #FFFFFF;\n",
              "    }\n",
              "  </style>\n",
              "\n",
              "      <script>\n",
              "        const buttonEl =\n",
              "          document.querySelector('#df-6aa0c8f8-b915-4075-9ead-e63af21531da button.colab-df-convert');\n",
              "        buttonEl.style.display =\n",
              "          google.colab.kernel.accessAllowed ? 'block' : 'none';\n",
              "\n",
              "        async function convertToInteractive(key) {\n",
              "          const element = document.querySelector('#df-6aa0c8f8-b915-4075-9ead-e63af21531da');\n",
              "          const dataTable =\n",
              "            await google.colab.kernel.invokeFunction('convertToInteractive',\n",
              "                                                     [key], {});\n",
              "          if (!dataTable) return;\n",
              "\n",
              "          const docLinkHtml = 'Like what you see? Visit the ' +\n",
              "            '<a target=\"_blank\" href=https://colab.research.google.com/notebooks/data_table.ipynb>data table notebook</a>'\n",
              "            + ' to learn more about interactive tables.';\n",
              "          element.innerHTML = '';\n",
              "          dataTable['output_type'] = 'display_data';\n",
              "          await google.colab.output.renderOutput(dataTable, element);\n",
              "          const docLink = document.createElement('div');\n",
              "          docLink.innerHTML = docLinkHtml;\n",
              "          element.appendChild(docLink);\n",
              "        }\n",
              "      </script>\n",
              "    </div>\n",
              "  </div>\n",
              "  "
            ],
            "text/plain": [
              "   0  1  2  avg\n",
              "0  1  1  0    1\n",
              "1  0  0  0    0\n",
              "2  0  0  0    0\n",
              "3  0  1  0    0\n",
              "4  1  1  0    1"
            ]
          },
          "metadata": {},
          "execution_count": 73
        }
      ]
    },
    {
      "cell_type": "code",
      "source": [
        "submission = pd.read_csv(\"/content/drive/MyDrive/jobcare/data/sample_submission.csv\")\n",
        "submission.head()"
      ],
      "metadata": {
        "colab": {
          "base_uri": "https://localhost:8080/",
          "height": 206
        },
        "id": "NoeflNc1UEEf",
        "outputId": "2f9d4945-7440-44f5-9150-1cbca3c16e2c"
      },
      "execution_count": null,
      "outputs": [
        {
          "output_type": "execute_result",
          "data": {
            "text/html": [
              "\n",
              "  <div id=\"df-ffb80359-6a1d-4b44-b2cd-d76eaf268e8d\">\n",
              "    <div class=\"colab-df-container\">\n",
              "      <div>\n",
              "<style scoped>\n",
              "    .dataframe tbody tr th:only-of-type {\n",
              "        vertical-align: middle;\n",
              "    }\n",
              "\n",
              "    .dataframe tbody tr th {\n",
              "        vertical-align: top;\n",
              "    }\n",
              "\n",
              "    .dataframe thead th {\n",
              "        text-align: right;\n",
              "    }\n",
              "</style>\n",
              "<table border=\"1\" class=\"dataframe\">\n",
              "  <thead>\n",
              "    <tr style=\"text-align: right;\">\n",
              "      <th></th>\n",
              "      <th>id</th>\n",
              "      <th>target</th>\n",
              "    </tr>\n",
              "  </thead>\n",
              "  <tbody>\n",
              "    <tr>\n",
              "      <th>0</th>\n",
              "      <td>0</td>\n",
              "      <td>0</td>\n",
              "    </tr>\n",
              "    <tr>\n",
              "      <th>1</th>\n",
              "      <td>1</td>\n",
              "      <td>0</td>\n",
              "    </tr>\n",
              "    <tr>\n",
              "      <th>2</th>\n",
              "      <td>2</td>\n",
              "      <td>0</td>\n",
              "    </tr>\n",
              "    <tr>\n",
              "      <th>3</th>\n",
              "      <td>3</td>\n",
              "      <td>0</td>\n",
              "    </tr>\n",
              "    <tr>\n",
              "      <th>4</th>\n",
              "      <td>4</td>\n",
              "      <td>0</td>\n",
              "    </tr>\n",
              "  </tbody>\n",
              "</table>\n",
              "</div>\n",
              "      <button class=\"colab-df-convert\" onclick=\"convertToInteractive('df-ffb80359-6a1d-4b44-b2cd-d76eaf268e8d')\"\n",
              "              title=\"Convert this dataframe to an interactive table.\"\n",
              "              style=\"display:none;\">\n",
              "        \n",
              "  <svg xmlns=\"http://www.w3.org/2000/svg\" height=\"24px\"viewBox=\"0 0 24 24\"\n",
              "       width=\"24px\">\n",
              "    <path d=\"M0 0h24v24H0V0z\" fill=\"none\"/>\n",
              "    <path d=\"M18.56 5.44l.94 2.06.94-2.06 2.06-.94-2.06-.94-.94-2.06-.94 2.06-2.06.94zm-11 1L8.5 8.5l.94-2.06 2.06-.94-2.06-.94L8.5 2.5l-.94 2.06-2.06.94zm10 10l.94 2.06.94-2.06 2.06-.94-2.06-.94-.94-2.06-.94 2.06-2.06.94z\"/><path d=\"M17.41 7.96l-1.37-1.37c-.4-.4-.92-.59-1.43-.59-.52 0-1.04.2-1.43.59L10.3 9.45l-7.72 7.72c-.78.78-.78 2.05 0 2.83L4 21.41c.39.39.9.59 1.41.59.51 0 1.02-.2 1.41-.59l7.78-7.78 2.81-2.81c.8-.78.8-2.07 0-2.86zM5.41 20L4 18.59l7.72-7.72 1.47 1.35L5.41 20z\"/>\n",
              "  </svg>\n",
              "      </button>\n",
              "      \n",
              "  <style>\n",
              "    .colab-df-container {\n",
              "      display:flex;\n",
              "      flex-wrap:wrap;\n",
              "      gap: 12px;\n",
              "    }\n",
              "\n",
              "    .colab-df-convert {\n",
              "      background-color: #E8F0FE;\n",
              "      border: none;\n",
              "      border-radius: 50%;\n",
              "      cursor: pointer;\n",
              "      display: none;\n",
              "      fill: #1967D2;\n",
              "      height: 32px;\n",
              "      padding: 0 0 0 0;\n",
              "      width: 32px;\n",
              "    }\n",
              "\n",
              "    .colab-df-convert:hover {\n",
              "      background-color: #E2EBFA;\n",
              "      box-shadow: 0px 1px 2px rgba(60, 64, 67, 0.3), 0px 1px 3px 1px rgba(60, 64, 67, 0.15);\n",
              "      fill: #174EA6;\n",
              "    }\n",
              "\n",
              "    [theme=dark] .colab-df-convert {\n",
              "      background-color: #3B4455;\n",
              "      fill: #D2E3FC;\n",
              "    }\n",
              "\n",
              "    [theme=dark] .colab-df-convert:hover {\n",
              "      background-color: #434B5C;\n",
              "      box-shadow: 0px 1px 3px 1px rgba(0, 0, 0, 0.15);\n",
              "      filter: drop-shadow(0px 1px 2px rgba(0, 0, 0, 0.3));\n",
              "      fill: #FFFFFF;\n",
              "    }\n",
              "  </style>\n",
              "\n",
              "      <script>\n",
              "        const buttonEl =\n",
              "          document.querySelector('#df-ffb80359-6a1d-4b44-b2cd-d76eaf268e8d button.colab-df-convert');\n",
              "        buttonEl.style.display =\n",
              "          google.colab.kernel.accessAllowed ? 'block' : 'none';\n",
              "\n",
              "        async function convertToInteractive(key) {\n",
              "          const element = document.querySelector('#df-ffb80359-6a1d-4b44-b2cd-d76eaf268e8d');\n",
              "          const dataTable =\n",
              "            await google.colab.kernel.invokeFunction('convertToInteractive',\n",
              "                                                     [key], {});\n",
              "          if (!dataTable) return;\n",
              "\n",
              "          const docLinkHtml = 'Like what you see? Visit the ' +\n",
              "            '<a target=\"_blank\" href=https://colab.research.google.com/notebooks/data_table.ipynb>data table notebook</a>'\n",
              "            + ' to learn more about interactive tables.';\n",
              "          element.innerHTML = '';\n",
              "          dataTable['output_type'] = 'display_data';\n",
              "          await google.colab.output.renderOutput(dataTable, element);\n",
              "          const docLink = document.createElement('div');\n",
              "          docLink.innerHTML = docLinkHtml;\n",
              "          element.appendChild(docLink);\n",
              "        }\n",
              "      </script>\n",
              "    </div>\n",
              "  </div>\n",
              "  "
            ],
            "text/plain": [
              "   id  target\n",
              "0   0       0\n",
              "1   1       0\n",
              "2   2       0\n",
              "3   3       0\n",
              "4   4       0"
            ]
          },
          "metadata": {},
          "execution_count": 70
        }
      ]
    },
    {
      "cell_type": "code",
      "source": [
        "submission['target'] = prob['avg']\n",
        "submission.head()"
      ],
      "metadata": {
        "colab": {
          "base_uri": "https://localhost:8080/",
          "height": 206
        },
        "id": "UQeMS0pjUM_2",
        "outputId": "b5ad0525-4fbc-43f0-c68f-d0759defa7e2"
      },
      "execution_count": null,
      "outputs": [
        {
          "output_type": "execute_result",
          "data": {
            "text/html": [
              "\n",
              "  <div id=\"df-15eb99a0-7b1d-45f8-9987-5325aaf527fd\">\n",
              "    <div class=\"colab-df-container\">\n",
              "      <div>\n",
              "<style scoped>\n",
              "    .dataframe tbody tr th:only-of-type {\n",
              "        vertical-align: middle;\n",
              "    }\n",
              "\n",
              "    .dataframe tbody tr th {\n",
              "        vertical-align: top;\n",
              "    }\n",
              "\n",
              "    .dataframe thead th {\n",
              "        text-align: right;\n",
              "    }\n",
              "</style>\n",
              "<table border=\"1\" class=\"dataframe\">\n",
              "  <thead>\n",
              "    <tr style=\"text-align: right;\">\n",
              "      <th></th>\n",
              "      <th>id</th>\n",
              "      <th>target</th>\n",
              "    </tr>\n",
              "  </thead>\n",
              "  <tbody>\n",
              "    <tr>\n",
              "      <th>0</th>\n",
              "      <td>0</td>\n",
              "      <td>1</td>\n",
              "    </tr>\n",
              "    <tr>\n",
              "      <th>1</th>\n",
              "      <td>1</td>\n",
              "      <td>0</td>\n",
              "    </tr>\n",
              "    <tr>\n",
              "      <th>2</th>\n",
              "      <td>2</td>\n",
              "      <td>0</td>\n",
              "    </tr>\n",
              "    <tr>\n",
              "      <th>3</th>\n",
              "      <td>3</td>\n",
              "      <td>0</td>\n",
              "    </tr>\n",
              "    <tr>\n",
              "      <th>4</th>\n",
              "      <td>4</td>\n",
              "      <td>1</td>\n",
              "    </tr>\n",
              "  </tbody>\n",
              "</table>\n",
              "</div>\n",
              "      <button class=\"colab-df-convert\" onclick=\"convertToInteractive('df-15eb99a0-7b1d-45f8-9987-5325aaf527fd')\"\n",
              "              title=\"Convert this dataframe to an interactive table.\"\n",
              "              style=\"display:none;\">\n",
              "        \n",
              "  <svg xmlns=\"http://www.w3.org/2000/svg\" height=\"24px\"viewBox=\"0 0 24 24\"\n",
              "       width=\"24px\">\n",
              "    <path d=\"M0 0h24v24H0V0z\" fill=\"none\"/>\n",
              "    <path d=\"M18.56 5.44l.94 2.06.94-2.06 2.06-.94-2.06-.94-.94-2.06-.94 2.06-2.06.94zm-11 1L8.5 8.5l.94-2.06 2.06-.94-2.06-.94L8.5 2.5l-.94 2.06-2.06.94zm10 10l.94 2.06.94-2.06 2.06-.94-2.06-.94-.94-2.06-.94 2.06-2.06.94z\"/><path d=\"M17.41 7.96l-1.37-1.37c-.4-.4-.92-.59-1.43-.59-.52 0-1.04.2-1.43.59L10.3 9.45l-7.72 7.72c-.78.78-.78 2.05 0 2.83L4 21.41c.39.39.9.59 1.41.59.51 0 1.02-.2 1.41-.59l7.78-7.78 2.81-2.81c.8-.78.8-2.07 0-2.86zM5.41 20L4 18.59l7.72-7.72 1.47 1.35L5.41 20z\"/>\n",
              "  </svg>\n",
              "      </button>\n",
              "      \n",
              "  <style>\n",
              "    .colab-df-container {\n",
              "      display:flex;\n",
              "      flex-wrap:wrap;\n",
              "      gap: 12px;\n",
              "    }\n",
              "\n",
              "    .colab-df-convert {\n",
              "      background-color: #E8F0FE;\n",
              "      border: none;\n",
              "      border-radius: 50%;\n",
              "      cursor: pointer;\n",
              "      display: none;\n",
              "      fill: #1967D2;\n",
              "      height: 32px;\n",
              "      padding: 0 0 0 0;\n",
              "      width: 32px;\n",
              "    }\n",
              "\n",
              "    .colab-df-convert:hover {\n",
              "      background-color: #E2EBFA;\n",
              "      box-shadow: 0px 1px 2px rgba(60, 64, 67, 0.3), 0px 1px 3px 1px rgba(60, 64, 67, 0.15);\n",
              "      fill: #174EA6;\n",
              "    }\n",
              "\n",
              "    [theme=dark] .colab-df-convert {\n",
              "      background-color: #3B4455;\n",
              "      fill: #D2E3FC;\n",
              "    }\n",
              "\n",
              "    [theme=dark] .colab-df-convert:hover {\n",
              "      background-color: #434B5C;\n",
              "      box-shadow: 0px 1px 3px 1px rgba(0, 0, 0, 0.15);\n",
              "      filter: drop-shadow(0px 1px 2px rgba(0, 0, 0, 0.3));\n",
              "      fill: #FFFFFF;\n",
              "    }\n",
              "  </style>\n",
              "\n",
              "      <script>\n",
              "        const buttonEl =\n",
              "          document.querySelector('#df-15eb99a0-7b1d-45f8-9987-5325aaf527fd button.colab-df-convert');\n",
              "        buttonEl.style.display =\n",
              "          google.colab.kernel.accessAllowed ? 'block' : 'none';\n",
              "\n",
              "        async function convertToInteractive(key) {\n",
              "          const element = document.querySelector('#df-15eb99a0-7b1d-45f8-9987-5325aaf527fd');\n",
              "          const dataTable =\n",
              "            await google.colab.kernel.invokeFunction('convertToInteractive',\n",
              "                                                     [key], {});\n",
              "          if (!dataTable) return;\n",
              "\n",
              "          const docLinkHtml = 'Like what you see? Visit the ' +\n",
              "            '<a target=\"_blank\" href=https://colab.research.google.com/notebooks/data_table.ipynb>data table notebook</a>'\n",
              "            + ' to learn more about interactive tables.';\n",
              "          element.innerHTML = '';\n",
              "          dataTable['output_type'] = 'display_data';\n",
              "          await google.colab.output.renderOutput(dataTable, element);\n",
              "          const docLink = document.createElement('div');\n",
              "          docLink.innerHTML = docLinkHtml;\n",
              "          element.appendChild(docLink);\n",
              "        }\n",
              "      </script>\n",
              "    </div>\n",
              "  </div>\n",
              "  "
            ],
            "text/plain": [
              "   id  target\n",
              "0   0       1\n",
              "1   1       0\n",
              "2   2       0\n",
              "3   3       0\n",
              "4   4       1"
            ]
          },
          "metadata": {},
          "execution_count": 71
        }
      ]
    },
    {
      "cell_type": "code",
      "source": [
        "submission.to_csv(\"lgb+xgb+cat_mean_catfinal.csv\",index=False)"
      ],
      "metadata": {
        "id": "FcOU3sj3VCsL"
      },
      "execution_count": null,
      "outputs": []
    }
  ],
  "metadata": {
    "colab": {
      "collapsed_sections": [],
      "name": "잡케어_lgb + xgb + cat정리",
      "provenance": [],
      "include_colab_link": true
    },
    "kernelspec": {
      "display_name": "Python 3",
      "language": "python",
      "name": "python3"
    },
    "language_info": {
      "codemirror_mode": {
        "name": "ipython",
        "version": 3
      },
      "file_extension": ".py",
      "mimetype": "text/x-python",
      "name": "python",
      "nbconvert_exporter": "python",
      "pygments_lexer": "ipython3",
      "version": "3.7.9"
    },
    "widgets": {
      "application/vnd.jupyter.widget-state+json": {
        "f97e5f947a8a4549b7ea3afd50710641": {
          "model_module": "catboost-widget",
          "model_name": "CatboostWidgetModel",
          "model_module_version": "^1.0.0",
          "state": {
            "_view_name": "CatboostWidgetView",
            "_dom_classes": [],
            "_model_name": "CatboostWidgetModel",
            "data": {
              "catboost_info": {
                "content": {
                  "data": {
                    "meta": {
                      "name": "experiment",
                      "parameters": "",
                      "test_metrics": [
                        {
                          "best_value": "Max",
                          "name": "F1"
                        },
                        {
                          "best_value": "Min",
                          "name": "CrossEntropy"
                        }
                      ],
                      "learn_sets": [
                        "learn"
                      ],
                      "launch_mode": "Train",
                      "learn_metrics": [
                        {
                          "best_value": "Max",
                          "name": "F1"
                        },
                        {
                          "best_value": "Min",
                          "name": "CrossEntropy"
                        }
                      ],
                      "iteration_count": 250,
                      "test_sets": [
                        "test"
                      ]
                    },
                    "iterations": [
                      {
                        "test": [
                          0.6100516299,
                          0.6901837113
                        ],
                        "passed_time": 10.25053767,
                        "iteration": 0,
                        "remaining_time": 2552.383881,
                        "learn": [
                          0.6130599489,
                          0.6901986235
                        ]
                      },
                      {
                        "test": [
                          0.6266608963,
                          0.6873769225
                        ],
                        "passed_time": 20.15375148,
                        "iteration": 1,
                        "remaining_time": 2499.065184,
                        "learn": [
                          0.6302461524,
                          0.6873911414
                        ]
                      },
                      {
                        "test": [
                          0.6250869078,
                          0.6848407242
                        ],
                        "passed_time": 29.73091495,
                        "iteration": 2,
                        "remaining_time": 2447.845331,
                        "learn": [
                          0.6286758016,
                          0.684817032
                        ]
                      },
                      {
                        "test": [
                          0.6264252056,
                          0.6824188244
                        ],
                        "passed_time": 40.15239516,
                        "iteration": 3,
                        "remaining_time": 2469.372302,
                        "learn": [
                          0.6305299068,
                          0.6823784608
                        ]
                      },
                      {
                        "test": [
                          0.6291774844,
                          0.6803049469
                        ],
                        "passed_time": 50.6197089,
                        "iteration": 4,
                        "remaining_time": 2480.365736,
                        "learn": [
                          0.6312119812,
                          0.6802747447
                        ]
                      },
                      {
                        "test": [
                          0.6306132392,
                          0.6784111305
                        ],
                        "passed_time": 60.7817843,
                        "iteration": 5,
                        "remaining_time": 2471.792561,
                        "learn": [
                          0.6320595944,
                          0.6783310814
                        ]
                      },
                      {
                        "test": [
                          0.6321071461,
                          0.6766401035
                        ],
                        "passed_time": 71.36905437,
                        "iteration": 6,
                        "remaining_time": 2477.525745,
                        "learn": [
                          0.6329209796,
                          0.6765179159
                        ]
                      },
                      {
                        "test": [
                          0.6322723895,
                          0.6750362081
                        ],
                        "passed_time": 82.51762098,
                        "iteration": 7,
                        "remaining_time": 2496.158035,
                        "learn": [
                          0.633281226,
                          0.6749184295
                        ]
                      },
                      {
                        "test": [
                          0.6345848178,
                          0.6734626885
                        ],
                        "passed_time": 93.12525416,
                        "iteration": 8,
                        "remaining_time": 2493.687362,
                        "learn": [
                          0.6348663866,
                          0.6733639172
                        ]
                      },
                      {
                        "test": [
                          0.6353597221,
                          0.6720730593
                        ],
                        "passed_time": 103.57071,
                        "iteration": 9,
                        "remaining_time": 2485.697039,
                        "learn": [
                          0.6357747266,
                          0.6719743067
                        ]
                      },
                      {
                        "test": [
                          0.6351472553,
                          0.6707087421
                        ],
                        "passed_time": 114.6720586,
                        "iteration": 10,
                        "remaining_time": 2491.511092,
                        "learn": [
                          0.6356481057,
                          0.6705972688
                        ]
                      },
                      {
                        "test": [
                          0.6362091647,
                          0.6695143877
                        ],
                        "passed_time": 125.3629335,
                        "iteration": 11,
                        "remaining_time": 2486.364847,
                        "learn": [
                          0.6366198344,
                          0.6693529892
                        ]
                      },
                      {
                        "test": [
                          0.6365647222,
                          0.668182023
                        ],
                        "passed_time": 135.3167336,
                        "iteration": 12,
                        "remaining_time": 2466.928143,
                        "learn": [
                          0.6369622597,
                          0.6680323944
                        ]
                      },
                      {
                        "test": [
                          0.6361647397,
                          0.6671424213
                        ],
                        "passed_time": 145.3081359,
                        "iteration": 13,
                        "remaining_time": 2449.480006,
                        "learn": [
                          0.6369432892,
                          0.6669457984
                        ]
                      },
                      {
                        "test": [
                          0.6375832184,
                          0.6660950109
                        ],
                        "passed_time": 156.2671471,
                        "iteration": 14,
                        "remaining_time": 2448.185305,
                        "learn": [
                          0.6375679706,
                          0.6658335189
                        ]
                      },
                      {
                        "test": [
                          0.6373103461,
                          0.6650915804
                        ],
                        "passed_time": 167.3914559,
                        "iteration": 15,
                        "remaining_time": 2448.100043,
                        "learn": [
                          0.6377020739,
                          0.6648547888
                        ]
                      },
                      {
                        "test": [
                          0.637977742,
                          0.6641793279
                        ],
                        "passed_time": 178.5697214,
                        "iteration": 16,
                        "remaining_time": 2447.455594,
                        "learn": [
                          0.6384724089,
                          0.6638827485
                        ]
                      },
                      {
                        "test": [
                          0.6400167778,
                          0.6630005757
                        ],
                        "passed_time": 189.841099,
                        "iteration": 17,
                        "remaining_time": 2446.840831,
                        "learn": [
                          0.6395665077,
                          0.6627280637
                        ]
                      },
                      {
                        "test": [
                          0.6404299584,
                          0.6621959438
                        ],
                        "passed_time": 200.5580148,
                        "iteration": 18,
                        "remaining_time": 2438.363232,
                        "learn": [
                          0.6399235034,
                          0.6618952607
                        ]
                      },
                      {
                        "test": [
                          0.6413733937,
                          0.6613955792
                        ],
                        "passed_time": 210.9275363,
                        "iteration": 19,
                        "remaining_time": 2425.666668,
                        "learn": [
                          0.640220677,
                          0.6610456092
                        ]
                      },
                      {
                        "test": [
                          0.643182813,
                          0.660282354
                        ],
                        "passed_time": 222.1252526,
                        "iteration": 20,
                        "remaining_time": 2422.222993,
                        "learn": [
                          0.6413839539,
                          0.6600187317
                        ]
                      },
                      {
                        "test": [
                          0.6425363324,
                          0.6596235216
                        ],
                        "passed_time": 231.8743394,
                        "iteration": 21,
                        "remaining_time": 2403.061336,
                        "learn": [
                          0.6413264192,
                          0.6593480306
                        ]
                      },
                      {
                        "test": [
                          0.6420681078,
                          0.6589502713
                        ],
                        "passed_time": 243.1399661,
                        "iteration": 22,
                        "remaining_time": 2399.685752,
                        "learn": [
                          0.6416294591,
                          0.6586293329
                        ]
                      },
                      {
                        "test": [
                          0.6458082412,
                          0.6572926842
                        ],
                        "passed_time": 253.8113773,
                        "iteration": 23,
                        "remaining_time": 2390.057136,
                        "learn": [
                          0.643074245,
                          0.6573174401
                        ]
                      },
                      {
                        "test": [
                          0.6464327731,
                          0.6568167811
                        ],
                        "passed_time": 262.9719819,
                        "iteration": 24,
                        "remaining_time": 2366.747837,
                        "learn": [
                          0.6432772771,
                          0.6567904335
                        ]
                      },
                      {
                        "test": [
                          0.6492609401,
                          0.6553064404
                        ],
                        "passed_time": 273.8133041,
                        "iteration": 25,
                        "remaining_time": 2359.006928,
                        "learn": [
                          0.6445851232,
                          0.6555496634
                        ]
                      },
                      {
                        "test": [
                          0.6492389026,
                          0.654837469
                        ],
                        "passed_time": 285.1802684,
                        "iteration": 26,
                        "remaining_time": 2355.377773,
                        "learn": [
                          0.64480549,
                          0.655020352
                        ]
                      },
                      {
                        "test": [
                          0.6514639588,
                          0.6532867264
                        ],
                        "passed_time": 295.9876708,
                        "iteration": 27,
                        "remaining_time": 2346.75939,
                        "learn": [
                          0.645818464,
                          0.6537592613
                        ]
                      },
                      {
                        "test": [
                          0.6510593298,
                          0.6528240408
                        ],
                        "passed_time": 306.549566,
                        "iteration": 28,
                        "remaining_time": 2336.119106,
                        "learn": [
                          0.6459451026,
                          0.6532548986
                        ]
                      },
                      {
                        "test": [
                          0.6536347421,
                          0.6515149106
                        ],
                        "passed_time": 317.3175723,
                        "iteration": 29,
                        "remaining_time": 2326.99553,
                        "learn": [
                          0.6470087408,
                          0.652179251
                        ]
                      },
                      {
                        "test": [
                          0.6553188394,
                          0.6501628891
                        ],
                        "passed_time": 328.2710373,
                        "iteration": 30,
                        "remaining_time": 2319.076038,
                        "learn": [
                          0.6480887702,
                          0.6511505239
                        ]
                      },
                      {
                        "test": [
                          0.6559422851,
                          0.6493332955
                        ],
                        "passed_time": 338.0748763,
                        "iteration": 31,
                        "remaining_time": 2303.135095,
                        "learn": [
                          0.6490054874,
                          0.6504097337
                        ]
                      },
                      {
                        "test": [
                          0.6579280337,
                          0.6482486532
                        ],
                        "passed_time": 347.9809965,
                        "iteration": 32,
                        "remaining_time": 2288.238674,
                        "learn": [
                          0.6499907236,
                          0.6495361814
                        ]
                      },
                      {
                        "test": [
                          0.6597016827,
                          0.647070877
                        ],
                        "passed_time": 359.4260375,
                        "iteration": 33,
                        "remaining_time": 2283.412473,
                        "learn": [
                          0.6504807022,
                          0.6485978138
                        ]
                      },
                      {
                        "test": [
                          0.6607554143,
                          0.6463294012
                        ],
                        "passed_time": 369.9334747,
                        "iteration": 34,
                        "remaining_time": 2272.448488,
                        "learn": [
                          0.6516126337,
                          0.647942021
                        ]
                      },
                      {
                        "test": [
                          0.6620145024,
                          0.6454514216
                        ],
                        "passed_time": 380.6056845,
                        "iteration": 35,
                        "remaining_time": 2262.489347,
                        "learn": [
                          0.6520012732,
                          0.6472262713
                        ]
                      },
                      {
                        "test": [
                          0.6630083631,
                          0.6445481678
                        ],
                        "passed_time": 391.7981141,
                        "iteration": 36,
                        "remaining_time": 2255.48644,
                        "learn": [
                          0.6524371945,
                          0.6464583884
                        ]
                      },
                      {
                        "test": [
                          0.6631738164,
                          0.6439618392
                        ],
                        "passed_time": 403.0521423,
                        "iteration": 37,
                        "remaining_time": 2248.606689,
                        "learn": [
                          0.6532494271,
                          0.6459176668
                        ]
                      },
                      {
                        "test": [
                          0.6644235328,
                          0.6428193567
                        ],
                        "passed_time": 414.3435687,
                        "iteration": 38,
                        "remaining_time": 2241.704948,
                        "learn": [
                          0.6541773661,
                          0.6449946666
                        ]
                      },
                      {
                        "test": [
                          0.6644590403,
                          0.6425478783
                        ],
                        "passed_time": 424.5027123,
                        "iteration": 39,
                        "remaining_time": 2228.639239,
                        "learn": [
                          0.6539885161,
                          0.6446864984
                        ]
                      },
                      {
                        "test": [
                          0.6656272794,
                          0.641890851
                        ],
                        "passed_time": 434.1540553,
                        "iteration": 40,
                        "remaining_time": 2213.126769,
                        "learn": [
                          0.6541820684,
                          0.644121365
                        ]
                      },
                      {
                        "test": [
                          0.6666605851,
                          0.641157735
                        ],
                        "passed_time": 443.913889,
                        "iteration": 41,
                        "remaining_time": 2198.430688,
                        "learn": [
                          0.6543429189,
                          0.6435584488
                        ]
                      },
                      {
                        "test": [
                          0.666794482,
                          0.6409440127
                        ],
                        "passed_time": 452.4054975,
                        "iteration": 42,
                        "remaining_time": 2177.859023,
                        "learn": [
                          0.6542571704,
                          0.6432670336
                        ]
                      },
                      {
                        "test": [
                          0.6672333736,
                          0.6401426025
                        ],
                        "passed_time": 461.6847445,
                        "iteration": 43,
                        "remaining_time": 2161.524031,
                        "learn": [
                          0.6550776393,
                          0.642636198
                        ]
                      },
                      {
                        "test": [
                          0.667325374,
                          0.6396510656
                        ],
                        "passed_time": 470.6899964,
                        "iteration": 44,
                        "remaining_time": 2144.254428,
                        "learn": [
                          0.6555923505,
                          0.6422255302
                        ]
                      },
                      {
                        "test": [
                          0.6677951834,
                          0.6393955704
                        ],
                        "passed_time": 481.2061909,
                        "iteration": 45,
                        "remaining_time": 2134.044846,
                        "learn": [
                          0.6557823956,
                          0.6419047454
                        ]
                      },
                      {
                        "test": [
                          0.6678200692,
                          0.638846883
                        ],
                        "passed_time": 491.9149637,
                        "iteration": 46,
                        "remaining_time": 2124.653992,
                        "learn": [
                          0.6558197981,
                          0.6414512721
                        ]
                      },
                      {
                        "test": [
                          0.6679055291,
                          0.6385486924
                        ],
                        "passed_time": 501.3135428,
                        "iteration": 47,
                        "remaining_time": 2109.694493,
                        "learn": [
                          0.6564711605,
                          0.641125373
                        ]
                      },
                      {
                        "test": [
                          0.6690382997,
                          0.6379957989
                        ],
                        "passed_time": 511.998781,
                        "iteration": 48,
                        "remaining_time": 2100.239898,
                        "learn": [
                          0.6565337452,
                          0.6406945867
                        ]
                      },
                      {
                        "test": [
                          0.6689801038,
                          0.6373943739
                        ],
                        "passed_time": 523.2067979,
                        "iteration": 49,
                        "remaining_time": 2092.827192,
                        "learn": [
                          0.6567640922,
                          0.6402075814
                        ]
                      },
                      {
                        "test": [
                          0.6691573723,
                          0.6372448981
                        ],
                        "passed_time": 531.5351212,
                        "iteration": 50,
                        "remaining_time": 2074.029199,
                        "learn": [
                          0.6568838713,
                          0.6399900677
                        ]
                      },
                      {
                        "test": [
                          0.669914292,
                          0.6367728123
                        ],
                        "passed_time": 541.0653367,
                        "iteration": 51,
                        "remaining_time": 2060.210321,
                        "learn": [
                          0.6573883475,
                          0.6395524955
                        ]
                      },
                      {
                        "test": [
                          0.6704009812,
                          0.6362148256
                        ],
                        "passed_time": 551.1257198,
                        "iteration": 52,
                        "remaining_time": 2048.523902,
                        "learn": [
                          0.657552605,
                          0.6391014025
                        ]
                      },
                      {
                        "test": [
                          0.6704442471,
                          0.6358907336
                        ],
                        "passed_time": 559.8861911,
                        "iteration": 53,
                        "remaining_time": 2032.179508,
                        "learn": [
                          0.6579560816,
                          0.6386852542
                        ]
                      },
                      {
                        "test": [
                          0.6711255879,
                          0.6354480497
                        ],
                        "passed_time": 571.1410054,
                        "iteration": 54,
                        "remaining_time": 2024.954474,
                        "learn": [
                          0.6578675349,
                          0.6383151497
                        ]
                      },
                      {
                        "test": [
                          0.6714913083,
                          0.6348692175
                        ],
                        "passed_time": 582.8457016,
                        "iteration": 55,
                        "remaining_time": 2019.144038,
                        "learn": [
                          0.6581363552,
                          0.6378766184
                        ]
                      },
                      {
                        "test": [
                          0.6724854835,
                          0.6341342653
                        ],
                        "passed_time": 591.2691483,
                        "iteration": 56,
                        "remaining_time": 2002.01659,
                        "learn": [
                          0.6585754406,
                          0.6373478443
                        ]
                      },
                      {
                        "test": [
                          0.6725206706,
                          0.633756842
                        ],
                        "passed_time": 603.5467206,
                        "iteration": 57,
                        "remaining_time": 1997.947765,
                        "learn": [
                          0.6584332187,
                          0.6370157937
                        ]
                      },
                      {
                        "test": [
                          0.673032074,
                          0.6331941127
                        ],
                        "passed_time": 612.9261073,
                        "iteration": 58,
                        "remaining_time": 1984.218415,
                        "learn": [
                          0.6583679895,
                          0.6365630312
                        ]
                      },
                      {
                        "test": [
                          0.6730593105,
                          0.6327990675
                        ],
                        "passed_time": 622.1536963,
                        "iteration": 59,
                        "remaining_time": 1970.153372,
                        "learn": [
                          0.6589365213,
                          0.6361889369
                        ]
                      },
                      {
                        "test": [
                          0.6733622293,
                          0.6326063453
                        ],
                        "passed_time": 630.8647452,
                        "iteration": 60,
                        "remaining_time": 1954.646506,
                        "learn": [
                          0.6591938475,
                          0.6359280624
                        ]
                      },
                      {
                        "test": [
                          0.6738199393,
                          0.6317615102
                        ],
                        "passed_time": 639.8779394,
                        "iteration": 61,
                        "remaining_time": 1940.275042,
                        "learn": [
                          0.6597064773,
                          0.6353422779
                        ]
                      },
                      {
                        "test": [
                          0.6739972464,
                          0.6313149525
                        ],
                        "passed_time": 652.2742954,
                        "iteration": 62,
                        "remaining_time": 1936.115766,
                        "learn": [
                          0.6597583339,
                          0.634958116
                        ]
                      },
                      {
                        "test": [
                          0.6743915082,
                          0.6308957243
                        ],
                        "passed_time": 662.8759243,
                        "iteration": 63,
                        "remaining_time": 1926.483155,
                        "learn": [
                          0.6598195083,
                          0.6346097684
                        ]
                      },
                      {
                        "test": [
                          0.6745321101,
                          0.6307273253
                        ],
                        "passed_time": 671.0026539,
                        "iteration": 64,
                        "remaining_time": 1909.776784,
                        "learn": [
                          0.6600794425,
                          0.6343749478
                        ]
                      },
                      {
                        "test": [
                          0.675179232,
                          0.6301137063
                        ],
                        "passed_time": 679.4538538,
                        "iteration": 65,
                        "remaining_time": 1894.234986,
                        "learn": [
                          0.6606633351,
                          0.6338791981
                        ]
                      },
                      {
                        "test": [
                          0.6758121683,
                          0.6296527019
                        ],
                        "passed_time": 687.9570783,
                        "iteration": 66,
                        "remaining_time": 1879.046945,
                        "learn": [
                          0.6612484633,
                          0.6334829052
                        ]
                      },
                      {
                        "test": [
                          0.6760369551,
                          0.6293135102
                        ],
                        "passed_time": 698.5551986,
                        "iteration": 67,
                        "remaining_time": 1869.662443,
                        "learn": [
                          0.6612297588,
                          0.6331672121
                        ]
                      },
                      {
                        "test": [
                          0.6764182609,
                          0.6289307894
                        ],
                        "passed_time": 709.071661,
                        "iteration": 68,
                        "remaining_time": 1860.02856,
                        "learn": [
                          0.6611398426,
                          0.6328948322
                        ]
                      },
                      {
                        "test": [
                          0.6761586731,
                          0.6285935977
                        ],
                        "passed_time": 720.3855795,
                        "iteration": 69,
                        "remaining_time": 1852.420062,
                        "learn": [
                          0.6611196015,
                          0.6326185987
                        ]
                      },
                      {
                        "test": [
                          0.676416081,
                          0.6283494902
                        ],
                        "passed_time": 729.4506024,
                        "iteration": 70,
                        "remaining_time": 1839.037434,
                        "learn": [
                          0.6615038874,
                          0.6323086991
                        ]
                      },
                      {
                        "test": [
                          0.6765909049,
                          0.6279156114
                        ],
                        "passed_time": 739.3360622,
                        "iteration": 71,
                        "remaining_time": 1827.803043,
                        "learn": [
                          0.6615874154,
                          0.6319729299
                        ]
                      },
                      {
                        "test": [
                          0.6766961435,
                          0.6277825554
                        ],
                        "passed_time": 750.9396308,
                        "iteration": 72,
                        "remaining_time": 1820.771434,
                        "learn": [
                          0.6619206001,
                          0.6317660376
                        ]
                      },
                      {
                        "test": [
                          0.6766846893,
                          0.6276094543
                        ],
                        "passed_time": 761.1763409,
                        "iteration": 73,
                        "remaining_time": 1810.365351,
                        "learn": [
                          0.6619159309,
                          0.6315429785
                        ]
                      },
                      {
                        "test": [
                          0.6771657877,
                          0.6272609449
                        ],
                        "passed_time": 770.8436109,
                        "iteration": 74,
                        "remaining_time": 1798.635092,
                        "learn": [
                          0.6621257715,
                          0.6312552684
                        ]
                      },
                      {
                        "test": [
                          0.6776309762,
                          0.6268578813
                        ],
                        "passed_time": 781.4917608,
                        "iteration": 75,
                        "remaining_time": 1789.204821,
                        "learn": [
                          0.6622287061,
                          0.6309408064
                        ]
                      },
                      {
                        "test": [
                          0.6781700783,
                          0.6264599544
                        ],
                        "passed_time": 791.5276789,
                        "iteration": 76,
                        "remaining_time": 1778.367382,
                        "learn": [
                          0.6621887163,
                          0.6306408916
                        ]
                      },
                      {
                        "test": [
                          0.6783462835,
                          0.6261697999
                        ],
                        "passed_time": 800.1911003,
                        "iteration": 77,
                        "remaining_time": 1764.523965,
                        "learn": [
                          0.6624897269,
                          0.6303711853
                        ]
                      },
                      {
                        "test": [
                          0.6788918592,
                          0.6257612546
                        ],
                        "passed_time": 811.6583865,
                        "iteration": 78,
                        "remaining_time": 1756.880811,
                        "learn": [
                          0.6626522817,
                          0.6300504106
                        ]
                      },
                      {
                        "test": [
                          0.6794907026,
                          0.6252942876
                        ],
                        "passed_time": 820.9743928,
                        "iteration": 79,
                        "remaining_time": 1744.570585,
                        "learn": [
                          0.6629544493,
                          0.6296703622
                        ]
                      },
                      {
                        "test": [
                          0.6798383476,
                          0.6248629678
                        ],
                        "passed_time": 830.7623698,
                        "iteration": 80,
                        "remaining_time": 1733.319018,
                        "learn": [
                          0.6635154608,
                          0.629301521
                        ]
                      },
                      {
                        "test": [
                          0.6794588397,
                          0.6246165379
                        ],
                        "passed_time": 841.4322381,
                        "iteration": 81,
                        "remaining_time": 1723.909951,
                        "learn": [
                          0.6637446245,
                          0.6290284418
                        ]
                      },
                      {
                        "test": [
                          0.6797266933,
                          0.6244946956
                        ],
                        "passed_time": 851.7966801,
                        "iteration": 82,
                        "remaining_time": 1713.855971,
                        "learn": [
                          0.6640046499,
                          0.6288430534
                        ]
                      },
                      {
                        "test": [
                          0.6798363873,
                          0.6243411573
                        ],
                        "passed_time": 863.2100811,
                        "iteration": 83,
                        "remaining_time": 1705.867541,
                        "learn": [
                          0.6642553051,
                          0.6286271356
                        ]
                      },
                      {
                        "test": [
                          0.6801892675,
                          0.6242187095
                        ],
                        "passed_time": 873.2019871,
                        "iteration": 84,
                        "remaining_time": 1695.039152,
                        "learn": [
                          0.6645358053,
                          0.628380205
                        ]
                      },
                      {
                        "test": [
                          0.6801317153,
                          0.62412338
                        ],
                        "passed_time": 883.0732787,
                        "iteration": 85,
                        "remaining_time": 1684.000206,
                        "learn": [
                          0.6646880346,
                          0.6281967943
                        ]
                      },
                      {
                        "test": [
                          0.6804531955,
                          0.623812728
                        ],
                        "passed_time": 894.0057024,
                        "iteration": 86,
                        "remaining_time": 1674.976201,
                        "learn": [
                          0.6648023299,
                          0.6279479652
                        ]
                      },
                      {
                        "test": [
                          0.6809434394,
                          0.6235153676
                        ],
                        "passed_time": 905.3399554,
                        "iteration": 87,
                        "remaining_time": 1666.648554,
                        "learn": [
                          0.6648791537,
                          0.6277006201
                        ]
                      },
                      {
                        "test": [
                          0.6812379819,
                          0.6233865484
                        ],
                        "passed_time": 916.4240168,
                        "iteration": 88,
                        "remaining_time": 1657.800749,
                        "learn": [
                          0.6651534711,
                          0.6274952178
                        ]
                      },
                      {
                        "test": [
                          0.6815379401,
                          0.6232181724
                        ],
                        "passed_time": 925.8473339,
                        "iteration": 89,
                        "remaining_time": 1645.950816,
                        "learn": [
                          0.6654246264,
                          0.6272910944
                        ]
                      },
                      {
                        "test": [
                          0.6817506738,
                          0.6227930865
                        ],
                        "passed_time": 934.2097668,
                        "iteration": 90,
                        "remaining_time": 1632.300581,
                        "learn": [
                          0.6656781715,
                          0.6269769174
                        ]
                      },
                      {
                        "test": [
                          0.6817885925,
                          0.6226683172
                        ],
                        "passed_time": 943.5669902,
                        "iteration": 91,
                        "remaining_time": 1620.473744,
                        "learn": [
                          0.6659162657,
                          0.6267452936
                        ]
                      },
                      {
                        "test": [
                          0.6818265242,
                          0.6223334643
                        ],
                        "passed_time": 953.9401384,
                        "iteration": 92,
                        "remaining_time": 1610.415072,
                        "learn": [
                          0.6661242754,
                          0.6264738505
                        ]
                      },
                      {
                        "test": [
                          0.6815555208,
                          0.6219935019
                        ],
                        "passed_time": 962.0220825,
                        "iteration": 93,
                        "remaining_time": 1596.547286,
                        "learn": [
                          0.6664158996,
                          0.6261661526
                        ]
                      },
                      {
                        "test": [
                          0.6817910448,
                          0.6217430907
                        ],
                        "passed_time": 972.4301377,
                        "iteration": 94,
                        "remaining_time": 1586.59654,
                        "learn": [
                          0.6665751707,
                          0.6259236031
                        ]
                      },
                      {
                        "test": [
                          0.6817091881,
                          0.6216243015
                        ],
                        "passed_time": 980.7886274,
                        "iteration": 95,
                        "remaining_time": 1573.348423,
                        "learn": [
                          0.6667108405,
                          0.6257427633
                        ]
                      },
                      {
                        "test": [
                          0.68186079,
                          0.6213373025
                        ],
                        "passed_time": 990.0399073,
                        "iteration": 96,
                        "remaining_time": 1561.609338,
                        "learn": [
                          0.6670753268,
                          0.625439925
                        ]
                      },
                      {
                        "test": [
                          0.6819774661,
                          0.6210808253
                        ],
                        "passed_time": 999.9146511,
                        "iteration": 97,
                        "remaining_time": 1550.88803,
                        "learn": [
                          0.6671447675,
                          0.6252164375
                        ]
                      },
                      {
                        "test": [
                          0.6821238971,
                          0.6209270246
                        ],
                        "passed_time": 1010.978947,
                        "iteration": 98,
                        "remaining_time": 1541.998192,
                        "learn": [
                          0.6674304109,
                          0.6250262411
                        ]
                      },
                      {
                        "test": [
                          0.6825443515,
                          0.6206455447
                        ],
                        "passed_time": 1020.741959,
                        "iteration": 99,
                        "remaining_time": 1531.112938,
                        "learn": [
                          0.6674981658,
                          0.6247887182
                        ]
                      },
                      {
                        "test": [
                          0.6824731657,
                          0.6205322401
                        ],
                        "passed_time": 1031.720454,
                        "iteration": 100,
                        "remaining_time": 1522.043046,
                        "learn": [
                          0.6675189394,
                          0.6246665026
                        ]
                      },
                      {
                        "test": [
                          0.682853337,
                          0.6202652072
                        ],
                        "passed_time": 1040.792463,
                        "iteration": 101,
                        "remaining_time": 1510.169456,
                        "learn": [
                          0.6676185402,
                          0.6244134959
                        ]
                      },
                      {
                        "test": [
                          0.6827583039,
                          0.6202228104
                        ],
                        "passed_time": 1051.921308,
                        "iteration": 102,
                        "remaining_time": 1501.28575,
                        "learn": [
                          0.6678285331,
                          0.6242985581
                        ]
                      },
                      {
                        "test": [
                          0.6827206659,
                          0.620112716
                        ],
                        "passed_time": 1062.161736,
                        "iteration": 103,
                        "remaining_time": 1491.111668,
                        "learn": [
                          0.6680225496,
                          0.6240940897
                        ]
                      },
                      {
                        "test": [
                          0.6830384633,
                          0.6198356099
                        ],
                        "passed_time": 1072.326431,
                        "iteration": 104,
                        "remaining_time": 1480.831739,
                        "learn": [
                          0.6682670796,
                          0.6238252812
                        ]
                      },
                      {
                        "test": [
                          0.6832088078,
                          0.6197425364
                        ],
                        "passed_time": 1082.663192,
                        "iteration": 105,
                        "remaining_time": 1470.787732,
                        "learn": [
                          0.6685637716,
                          0.62361598
                        ]
                      },
                      {
                        "test": [
                          0.6833684094,
                          0.6196562947
                        ],
                        "passed_time": 1091.769562,
                        "iteration": 106,
                        "remaining_time": 1459.093901,
                        "learn": [
                          0.668784637,
                          0.6234371155
                        ]
                      },
                      {
                        "test": [
                          0.6831740542,
                          0.6193758753
                        ],
                        "passed_time": 1102.778129,
                        "iteration": 107,
                        "remaining_time": 1449.949021,
                        "learn": [
                          0.6691016343,
                          0.6231344638
                        ]
                      },
                      {
                        "test": [
                          0.6835447693,
                          0.619289
                        ],
                        "passed_time": 1112.668095,
                        "iteration": 108,
                        "remaining_time": 1439.322948,
                        "learn": [
                          0.6693975299,
                          0.6229265532
                        ]
                      },
                      {
                        "test": [
                          0.6831153061,
                          0.6189844888
                        ],
                        "passed_time": 1121.00121,
                        "iteration": 109,
                        "remaining_time": 1426.728813,
                        "learn": [
                          0.6695714326,
                          0.6226948737
                        ]
                      },
                      {
                        "test": [
                          0.6834012717,
                          0.6187605864
                        ],
                        "passed_time": 1130.615373,
                        "iteration": 110,
                        "remaining_time": 1415.815647,
                        "learn": [
                          0.6699232016,
                          0.6224774368
                        ]
                      },
                      {
                        "test": [
                          0.6834781328,
                          0.6186455456
                        ],
                        "passed_time": 1139.684019,
                        "iteration": 111,
                        "remaining_time": 1404.253524,
                        "learn": [
                          0.6700395661,
                          0.6223093998
                        ]
                      },
                      {
                        "test": [
                          0.6838609982,
                          0.6184673925
                        ],
                        "passed_time": 1149.868099,
                        "iteration": 112,
                        "remaining_time": 1394.087873,
                        "learn": [
                          0.6702448398,
                          0.6221070867
                        ]
                      },
                      {
                        "test": [
                          0.6838658647,
                          0.6183933008
                        ],
                        "passed_time": 1160.364942,
                        "iteration": 113,
                        "remaining_time": 1384.295019,
                        "learn": [
                          0.670375436,
                          0.6219593161
                        ]
                      },
                      {
                        "test": [
                          0.6838996927,
                          0.6183224068
                        ],
                        "passed_time": 1170.955558,
                        "iteration": 114,
                        "remaining_time": 1374.600002,
                        "learn": [
                          0.6705318857,
                          0.621828642
                        ]
                      },
                      {
                        "test": [
                          0.6842817057,
                          0.6182488396
                        ],
                        "passed_time": 1180.299392,
                        "iteration": 115,
                        "remaining_time": 1363.449297,
                        "learn": [
                          0.6706744708,
                          0.6216360891
                        ]
                      },
                      {
                        "test": [
                          0.6842787891,
                          0.6180263784
                        ],
                        "passed_time": 1190.06224,
                        "iteration": 116,
                        "remaining_time": 1352.805794,
                        "learn": [
                          0.6707510499,
                          0.6214693086
                        ]
                      },
                      {
                        "test": [
                          0.6844322614,
                          0.6179654408
                        ],
                        "passed_time": 1199.530491,
                        "iteration": 117,
                        "remaining_time": 1341.847668,
                        "learn": [
                          0.6709984992,
                          0.6213460073
                        ]
                      },
                      {
                        "test": [
                          0.684593518,
                          0.6178930442
                        ],
                        "passed_time": 1209.817671,
                        "iteration": 118,
                        "remaining_time": 1331.816092,
                        "learn": [
                          0.6711109743,
                          0.6211873666
                        ]
                      },
                      {
                        "test": [
                          0.6846414247,
                          0.6178463563
                        ],
                        "passed_time": 1218.730306,
                        "iteration": 119,
                        "remaining_time": 1320.291165,
                        "learn": [
                          0.6712073541,
                          0.6210811972
                        ]
                      },
                      {
                        "test": [
                          0.684973359,
                          0.6176384598
                        ],
                        "passed_time": 1227.630758,
                        "iteration": 120,
                        "remaining_time": 1308.796428,
                        "learn": [
                          0.6712033281,
                          0.6209080692
                        ]
                      },
                      {
                        "test": [
                          0.6848327062,
                          0.6174992764
                        ],
                        "passed_time": 1238.774982,
                        "iteration": 121,
                        "remaining_time": 1299.698342,
                        "learn": [
                          0.6713417883,
                          0.6207152567
                        ]
                      },
                      {
                        "test": [
                          0.6848884064,
                          0.6174313656
                        ],
                        "passed_time": 1250.055346,
                        "iteration": 122,
                        "remaining_time": 1290.707553,
                        "learn": [
                          0.6716508749,
                          0.6205755691
                        ]
                      },
                      {
                        "test": [
                          0.6852691505,
                          0.6172531776
                        ],
                        "passed_time": 1260.468795,
                        "iteration": 123,
                        "remaining_time": 1280.798937,
                        "learn": [
                          0.671684114,
                          0.6203980838
                        ]
                      },
                      {
                        "test": [
                          0.6849304987,
                          0.6171823619
                        ],
                        "passed_time": 1269.899173,
                        "iteration": 124,
                        "remaining_time": 1269.899173,
                        "learn": [
                          0.6716690202,
                          0.6202880587
                        ]
                      },
                      {
                        "test": [
                          0.6851323229,
                          0.6168579904
                        ],
                        "passed_time": 1279.153178,
                        "iteration": 125,
                        "remaining_time": 1258.849159,
                        "learn": [
                          0.6718644469,
                          0.6200645471
                        ]
                      },
                      {
                        "test": [
                          0.6853296253,
                          0.6167864178
                        ],
                        "passed_time": 1289.602441,
                        "iteration": 126,
                        "remaining_time": 1248.985041,
                        "learn": [
                          0.6720996033,
                          0.6199090055
                        ]
                      },
                      {
                        "test": [
                          0.6853802246,
                          0.6167321703
                        ],
                        "passed_time": 1299.993898,
                        "iteration": 127,
                        "remaining_time": 1239.056684,
                        "learn": [
                          0.672290093,
                          0.6198000559
                        ]
                      },
                      {
                        "test": [
                          0.6853265323,
                          0.6166726102
                        ],
                        "passed_time": 1310.637456,
                        "iteration": 128,
                        "remaining_time": 1229.357613,
                        "learn": [
                          0.6723013639,
                          0.619681995
                        ]
                      },
                      {
                        "test": [
                          0.6854344264,
                          0.6166015923
                        ],
                        "passed_time": 1321.113129,
                        "iteration": 129,
                        "remaining_time": 1219.489042,
                        "learn": [
                          0.6723984302,
                          0.6195589683
                        ]
                      },
                      {
                        "test": [
                          0.6855653487,
                          0.6163109304
                        ],
                        "passed_time": 1330.543126,
                        "iteration": 130,
                        "remaining_time": 1208.661313,
                        "learn": [
                          0.6726063502,
                          0.619359312
                        ]
                      },
                      {
                        "test": [
                          0.6857742821,
                          0.6162856738
                        ],
                        "passed_time": 1340.655901,
                        "iteration": 131,
                        "remaining_time": 1198.465123,
                        "learn": [
                          0.6727657114,
                          0.6191981234
                        ]
                      },
                      {
                        "test": [
                          0.6860462975,
                          0.616177777
                        ],
                        "passed_time": 1351.011863,
                        "iteration": 132,
                        "remaining_time": 1188.48412,
                        "learn": [
                          0.673078108,
                          0.6189909269
                        ]
                      },
                      {
                        "test": [
                          0.6859915837,
                          0.6161397398
                        ],
                        "passed_time": 1361.692528,
                        "iteration": 133,
                        "remaining_time": 1178.778607,
                        "learn": [
                          0.673143193,
                          0.6188685418
                        ]
                      },
                      {
                        "test": [
                          0.6862246777,
                          0.6160610707
                        ],
                        "passed_time": 1372.966676,
                        "iteration": 134,
                        "remaining_time": 1169.564206,
                        "learn": [
                          0.6733502081,
                          0.6187462188
                        ]
                      },
                      {
                        "test": [
                          0.6862356938,
                          0.6159708553
                        ],
                        "passed_time": 1383.676421,
                        "iteration": 135,
                        "remaining_time": 1159.846412,
                        "learn": [
                          0.6733001816,
                          0.6186302554
                        ]
                      },
                      {
                        "test": [
                          0.6863654774,
                          0.615762353
                        ],
                        "passed_time": 1392.920265,
                        "iteration": 136,
                        "remaining_time": 1148.905037,
                        "learn": [
                          0.6734227027,
                          0.6184616444
                        ]
                      },
                      {
                        "test": [
                          0.6862813691,
                          0.6157182927
                        ],
                        "passed_time": 1403.957168,
                        "iteration": 137,
                        "remaining_time": 1139.443499,
                        "learn": [
                          0.6736246753,
                          0.6183440142
                        ]
                      },
                      {
                        "test": [
                          0.686338979,
                          0.6155855328
                        ],
                        "passed_time": 1413.856145,
                        "iteration": 138,
                        "remaining_time": 1129.050591,
                        "learn": [
                          0.6737129542,
                          0.6182074061
                        ]
                      },
                      {
                        "test": [
                          0.6864084202,
                          0.6153782483
                        ],
                        "passed_time": 1424.297315,
                        "iteration": 139,
                        "remaining_time": 1119.090747,
                        "learn": [
                          0.6739728236,
                          0.6179717543
                        ]
                      },
                      {
                        "test": [
                          0.6866227363,
                          0.615135869
                        ],
                        "passed_time": 1433.851025,
                        "iteration": 140,
                        "remaining_time": 1108.438026,
                        "learn": [
                          0.6740332802,
                          0.6177991631
                        ]
                      },
                      {
                        "test": [
                          0.6868634734,
                          0.6150402223
                        ],
                        "passed_time": 1445.800926,
                        "iteration": 141,
                        "remaining_time": 1099.62324,
                        "learn": [
                          0.674253504,
                          0.6177003209
                        ]
                      },
                      {
                        "test": [
                          0.6867763109,
                          0.6149794494
                        ],
                        "passed_time": 1457.186505,
                        "iteration": 142,
                        "remaining_time": 1090.34235,
                        "learn": [
                          0.6742579209,
                          0.6175807626
                        ]
                      },
                      {
                        "test": [
                          0.6867718626,
                          0.6149410179
                        ],
                        "passed_time": 1467.517493,
                        "iteration": 143,
                        "remaining_time": 1080.255932,
                        "learn": [
                          0.6744634756,
                          0.617464776
                        ]
                      },
                      {
                        "test": [
                          0.6866695558,
                          0.6147870375
                        ],
                        "passed_time": 1478.597216,
                        "iteration": 144,
                        "remaining_time": 1070.708329,
                        "learn": [
                          0.6745790192,
                          0.6172770585
                        ]
                      },
                      {
                        "test": [
                          0.6869506673,
                          0.6145559136
                        ],
                        "passed_time": 1487.584469,
                        "iteration": 145,
                        "remaining_time": 1059.649211,
                        "learn": [
                          0.6745380071,
                          0.6171278315
                        ]
                      },
                      {
                        "test": [
                          0.6870510563,
                          0.6144752508
                        ],
                        "passed_time": 1491.026033,
                        "iteration": 146,
                        "remaining_time": 1044.732526,
                        "learn": [
                          0.674465583,
                          0.6170717201
                        ]
                      },
                      {
                        "test": [
                          0.6867483214,
                          0.6144262776
                        ],
                        "passed_time": 1501.682248,
                        "iteration": 147,
                        "remaining_time": 1034.943171,
                        "learn": [
                          0.6746133349,
                          0.6169220241
                        ]
                      },
                      {
                        "test": [
                          0.6866979713,
                          0.6142746899
                        ],
                        "passed_time": 1511.157614,
                        "iteration": 148,
                        "remaining_time": 1024.341738,
                        "learn": [
                          0.6747270723,
                          0.6167890813
                        ]
                      },
                      {
                        "test": [
                          0.6867043064,
                          0.6142389141
                        ],
                        "passed_time": 1521.933621,
                        "iteration": 149,
                        "remaining_time": 1014.622414,
                        "learn": [
                          0.6747868222,
                          0.6167034406
                        ]
                      },
                      {
                        "test": [
                          0.6867726723,
                          0.6140150995
                        ],
                        "passed_time": 1531.660927,
                        "iteration": 150,
                        "remaining_time": 1004.201535,
                        "learn": [
                          0.6749901015,
                          0.6165112351
                        ]
                      },
                      {
                        "test": [
                          0.6868032484,
                          0.6139580533
                        ],
                        "passed_time": 1541.656127,
                        "iteration": 151,
                        "remaining_time": 993.9625027,
                        "learn": [
                          0.6750037939,
                          0.6163902329
                        ]
                      },
                      {
                        "test": [
                          0.6869503428,
                          0.6139307932
                        ],
                        "passed_time": 1551.077021,
                        "iteration": 152,
                        "remaining_time": 983.3625556,
                        "learn": [
                          0.6751736453,
                          0.6162770718
                        ]
                      },
                      {
                        "test": [
                          0.6868765169,
                          0.6138800712
                        ],
                        "passed_time": 1561.506269,
                        "iteration": 153,
                        "remaining_time": 973.4065053,
                        "learn": [
                          0.675283779,
                          0.6161452294
                        ]
                      },
                      {
                        "test": [
                          0.6869861307,
                          0.6138075378
                        ],
                        "passed_time": 1571.605644,
                        "iteration": 154,
                        "remaining_time": 963.242169,
                        "learn": [
                          0.6755187076,
                          0.6160083574
                        ]
                      },
                      {
                        "test": [
                          0.6870853135,
                          0.6137839045
                        ],
                        "passed_time": 1581.969062,
                        "iteration": 155,
                        "remaining_time": 953.2377684,
                        "learn": [
                          0.675620805,
                          0.6159653425
                        ]
                      },
                      {
                        "test": [
                          0.6871603731,
                          0.6136382042
                        ],
                        "passed_time": 1592.060002,
                        "iteration": 156,
                        "remaining_time": 943.06739,
                        "learn": [
                          0.675684073,
                          0.6157591932
                        ]
                      },
                      {
                        "test": [
                          0.6871050179,
                          0.6136022558
                        ],
                        "passed_time": 1602.575315,
                        "iteration": 157,
                        "remaining_time": 933.1451203,
                        "learn": [
                          0.6758358652,
                          0.615653269
                        ]
                      },
                      {
                        "test": [
                          0.6871932996,
                          0.6135590781
                        ],
                        "passed_time": 1612.952258,
                        "iteration": 158,
                        "remaining_time": 923.1361979,
                        "learn": [
                          0.6760385023,
                          0.6155390424
                        ]
                      },
                      {
                        "test": [
                          0.6873155254,
                          0.6135324051
                        ],
                        "passed_time": 1623.81673,
                        "iteration": 159,
                        "remaining_time": 913.3969109,
                        "learn": [
                          0.6761334936,
                          0.6154497542
                        ]
                      },
                      {
                        "test": [
                          0.6876129699,
                          0.6133609176
                        ],
                        "passed_time": 1634.389653,
                        "iteration": 160,
                        "remaining_time": 903.482479,
                        "learn": [
                          0.6762238127,
                          0.6152579703
                        ]
                      },
                      {
                        "test": [
                          0.6874659928,
                          0.6133312875
                        ],
                        "passed_time": 1644.857286,
                        "iteration": 161,
                        "remaining_time": 893.5027235,
                        "learn": [
                          0.6762925321,
                          0.6151725044
                        ]
                      },
                      {
                        "test": [
                          0.6875397828,
                          0.6131334062
                        ],
                        "passed_time": 1654.077021,
                        "iteration": 162,
                        "remaining_time": 882.8509254,
                        "learn": [
                          0.6763762104,
                          0.6150249615
                        ]
                      },
                      {
                        "test": [
                          0.6877629345,
                          0.612956244
                        ],
                        "passed_time": 1664.359686,
                        "iteration": 163,
                        "remaining_time": 872.7739818,
                        "learn": [
                          0.6765638601,
                          0.6148667813
                        ]
                      },
                      {
                        "test": [
                          0.6877029221,
                          0.6129173258
                        ],
                        "passed_time": 1674.941083,
                        "iteration": 164,
                        "remaining_time": 862.8484367,
                        "learn": [
                          0.6766750386,
                          0.6147481984
                        ]
                      },
                      {
                        "test": [
                          0.6881159367,
                          0.6127618141
                        ],
                        "passed_time": 1685.2301,
                        "iteration": 165,
                        "remaining_time": 852.7670387,
                        "learn": [
                          0.6767947021,
                          0.614584356
                        ]
                      },
                      {
                        "test": [
                          0.6879691621,
                          0.6127320578
                        ],
                        "passed_time": 1695.1497,
                        "iteration": 166,
                        "remaining_time": 842.4995515,
                        "learn": [
                          0.6770210202,
                          0.6144602128
                        ]
                      },
                      {
                        "test": [
                          0.6881383141,
                          0.6124925317
                        ],
                        "passed_time": 1704.274219,
                        "iteration": 167,
                        "remaining_time": 831.8481309,
                        "learn": [
                          0.6770512373,
                          0.6142761068
                        ]
                      },
                      {
                        "test": [
                          0.6881859383,
                          0.6122678626
                        ],
                        "passed_time": 1712.53123,
                        "iteration": 168,
                        "remaining_time": 820.7989921,
                        "learn": [
                          0.677110886,
                          0.6141288274
                        ]
                      },
                      {
                        "test": [
                          0.6882228601,
                          0.6122419025
                        ],
                        "passed_time": 1722.359923,
                        "iteration": 169,
                        "remaining_time": 810.5223167,
                        "learn": [
                          0.6773500979,
                          0.6140370814
                        ]
                      },
                      {
                        "test": [
                          0.6880902486,
                          0.6122023404
                        ],
                        "passed_time": 1732.635131,
                        "iteration": 170,
                        "remaining_time": 800.4571659,
                        "learn": [
                          0.6775862437,
                          0.6139053096
                        ]
                      },
                      {
                        "test": [
                          0.6881098996,
                          0.6121835598
                        ],
                        "passed_time": 1742.80777,
                        "iteration": 171,
                        "remaining_time": 790.3430583,
                        "learn": [
                          0.6776826182,
                          0.6138158285
                        ]
                      },
                      {
                        "test": [
                          0.688085676,
                          0.6121409367
                        ],
                        "passed_time": 1753.295964,
                        "iteration": 172,
                        "remaining_time": 780.3687239,
                        "learn": [
                          0.6777824687,
                          0.6137172698
                        ]
                      },
                      {
                        "test": [
                          0.6881434494,
                          0.6120918029
                        ],
                        "passed_time": 1763.110141,
                        "iteration": 173,
                        "remaining_time": 770.0940848,
                        "learn": [
                          0.6778696204,
                          0.6135656921
                        ]
                      },
                      {
                        "test": [
                          0.6882466993,
                          0.6120713918
                        ],
                        "passed_time": 1774.454138,
                        "iteration": 174,
                        "remaining_time": 760.480345,
                        "learn": [
                          0.6779924758,
                          0.6134934484
                        ]
                      },
                      {
                        "test": [
                          0.6881400696,
                          0.6119858042
                        ],
                        "passed_time": 1784.541001,
                        "iteration": 175,
                        "remaining_time": 750.3183754,
                        "learn": [
                          0.6781112012,
                          0.6133977725
                        ]
                      },
                      {
                        "test": [
                          0.688191507,
                          0.6119620362
                        ],
                        "passed_time": 1795.374444,
                        "iteration": 176,
                        "remaining_time": 740.4651661,
                        "learn": [
                          0.6782806278,
                          0.6132642189
                        ]
                      },
                      {
                        "test": [
                          0.688062803,
                          0.6119336556
                        ],
                        "passed_time": 1806.708221,
                        "iteration": 177,
                        "remaining_time": 730.8033255,
                        "learn": [
                          0.6784384589,
                          0.613167506
                        ]
                      },
                      {
                        "test": [
                          0.6881891218,
                          0.6119027261
                        ],
                        "passed_time": 1817.34783,
                        "iteration": 178,
                        "remaining_time": 720.8474632,
                        "learn": [
                          0.6786388428,
                          0.6130821718
                        ]
                      },
                      {
                        "test": [
                          0.6880916101,
                          0.611877499
                        ],
                        "passed_time": 1828.189914,
                        "iteration": 179,
                        "remaining_time": 710.9627443,
                        "learn": [
                          0.6787572385,
                          0.6129954073
                        ]
                      },
                      {
                        "test": [
                          0.6881072893,
                          0.6118527008
                        ],
                        "passed_time": 1837.963649,
                        "iteration": 180,
                        "remaining_time": 700.6601756,
                        "learn": [
                          0.6787315079,
                          0.6128881571
                        ]
                      },
                      {
                        "test": [
                          0.6882950126,
                          0.611818014
                        ],
                        "passed_time": 1848.235433,
                        "iteration": 181,
                        "remaining_time": 690.5495023,
                        "learn": [
                          0.678892773,
                          0.6127856193
                        ]
                      },
                      {
                        "test": [
                          0.6882489352,
                          0.611779087
                        ],
                        "passed_time": 1858.277093,
                        "iteration": 182,
                        "remaining_time": 680.3528156,
                        "learn": [
                          0.6790857376,
                          0.6126945453
                        ]
                      },
                      {
                        "test": [
                          0.6881150154,
                          0.6116917497
                        ],
                        "passed_time": 1867.515074,
                        "iteration": 183,
                        "remaining_time": 669.8695373,
                        "learn": [
                          0.6792173639,
                          0.6125828336
                        ]
                      },
                      {
                        "test": [
                          0.6882986095,
                          0.6115863727
                        ],
                        "passed_time": 1875.481104,
                        "iteration": 184,
                        "remaining_time": 658.9528204,
                        "learn": [
                          0.6792072493,
                          0.6124985561
                        ]
                      },
                      {
                        "test": [
                          0.6884921735,
                          0.6115345232
                        ],
                        "passed_time": 1885.615948,
                        "iteration": 185,
                        "remaining_time": 648.8140896,
                        "learn": [
                          0.6793228829,
                          0.61236364
                        ]
                      },
                      {
                        "test": [
                          0.6884288355,
                          0.6115042374
                        ],
                        "passed_time": 1896.456352,
                        "iteration": 186,
                        "remaining_time": 638.9131027,
                        "learn": [
                          0.6794734345,
                          0.6122808968
                        ]
                      },
                      {
                        "test": [
                          0.6886697413,
                          0.611453825
                        ],
                        "passed_time": 1907.246647,
                        "iteration": 187,
                        "remaining_time": 628.9855963,
                        "learn": [
                          0.6795779326,
                          0.612141949
                        ]
                      },
                      {
                        "test": [
                          0.6884997319,
                          0.6113754526
                        ],
                        "passed_time": 1917.29809,
                        "iteration": 188,
                        "remaining_time": 618.8104946,
                        "learn": [
                          0.6796485959,
                          0.6120103254
                        ]
                      },
                      {
                        "test": [
                          0.6885085213,
                          0.6113430933
                        ],
                        "passed_time": 1926.955604,
                        "iteration": 189,
                        "remaining_time": 608.5122958,
                        "learn": [
                          0.679755556,
                          0.6118828083
                        ]
                      },
                      {
                        "test": [
                          0.688418735,
                          0.6111609558
                        ],
                        "passed_time": 1935.286017,
                        "iteration": 190,
                        "remaining_time": 597.8108639,
                        "learn": [
                          0.6798879355,
                          0.6117448227
                        ]
                      },
                      {
                        "test": [
                          0.6881350286,
                          0.6110955605
                        ],
                        "passed_time": 1945.146578,
                        "iteration": 191,
                        "remaining_time": 587.596362,
                        "learn": [
                          0.6799414543,
                          0.6116293422
                        ]
                      },
                      {
                        "test": [
                          0.6883859506,
                          0.6110656276
                        ],
                        "passed_time": 1954.222446,
                        "iteration": 192,
                        "remaining_time": 577.1537794,
                        "learn": [
                          0.6800825544,
                          0.6115241737
                        ]
                      },
                      {
                        "test": [
                          0.6882673501,
                          0.6110334118
                        ],
                        "passed_time": 1963.189857,
                        "iteration": 193,
                        "remaining_time": 566.6939793,
                        "learn": [
                          0.6801025843,
                          0.6114476009
                        ]
                      },
                      {
                        "test": [
                          0.6883747606,
                          0.6109891347
                        ],
                        "passed_time": 1974.858424,
                        "iteration": 194,
                        "remaining_time": 557.0113503,
                        "learn": [
                          0.6802048041,
                          0.6113339251
                        ]
                      },
                      {
                        "test": [
                          0.6884257075,
                          0.6109643362
                        ],
                        "passed_time": 1986.058105,
                        "iteration": 195,
                        "remaining_time": 547.1792737,
                        "learn": [
                          0.6804367784,
                          0.6112278123
                        ]
                      },
                      {
                        "test": [
                          0.6883871565,
                          0.6109168134
                        ],
                        "passed_time": 1997.496927,
                        "iteration": 196,
                        "remaining_time": 537.3976504,
                        "learn": [
                          0.6804832564,
                          0.6111055191
                        ]
                      },
                      {
                        "test": [
                          0.6885446166,
                          0.6107771195
                        ],
                        "passed_time": 2006.451416,
                        "iteration": 197,
                        "remaining_time": 526.9468366,
                        "learn": [
                          0.6806136879,
                          0.6109561241
                        ]
                      },
                      {
                        "test": [
                          0.6884584417,
                          0.6107536778
                        ],
                        "passed_time": 2017.477505,
                        "iteration": 198,
                        "remaining_time": 517.0419737,
                        "learn": [
                          0.680812189,
                          0.6108259879
                        ]
                      },
                      {
                        "test": [
                          0.6884493275,
                          0.6107262426
                        ],
                        "passed_time": 2027.826012,
                        "iteration": 199,
                        "remaining_time": 506.9565031,
                        "learn": [
                          0.6810681524,
                          0.6107376166
                        ]
                      },
                      {
                        "test": [
                          0.6883446259,
                          0.610707481
                        ],
                        "passed_time": 2038.751889,
                        "iteration": 200,
                        "remaining_time": 497.0091671,
                        "learn": [
                          0.681081902,
                          0.6106278833
                        ]
                      },
                      {
                        "test": [
                          0.6884323524,
                          0.6106746565
                        ],
                        "passed_time": 2049.222268,
                        "iteration": 201,
                        "remaining_time": 486.9439052,
                        "learn": [
                          0.6811868971,
                          0.6104985398
                        ]
                      },
                      {
                        "test": [
                          0.6886219788,
                          0.6106420418
                        ],
                        "passed_time": 2060.087435,
                        "iteration": 202,
                        "remaining_time": 476.9660564,
                        "learn": [
                          0.6812346652,
                          0.6104227416
                        ]
                      },
                      {
                        "test": [
                          0.6885634408,
                          0.6105110067
                        ],
                        "passed_time": 2069.151945,
                        "iteration": 203,
                        "remaining_time": 466.5734778,
                        "learn": [
                          0.6812992813,
                          0.6102784846
                        ]
                      },
                      {
                        "test": [
                          0.6885576745,
                          0.6104738193
                        ],
                        "passed_time": 2078.097609,
                        "iteration": 204,
                        "remaining_time": 456.1677679,
                        "learn": [
                          0.6813580557,
                          0.6101607219
                        ]
                      },
                      {
                        "test": [
                          0.6884444444,
                          0.6104657467
                        ],
                        "passed_time": 2087.740039,
                        "iteration": 205,
                        "remaining_time": 445.9250569,
                        "learn": [
                          0.6815154384,
                          0.6100768939
                        ]
                      },
                      {
                        "test": [
                          0.6884930188,
                          0.6104480655
                        ],
                        "passed_time": 2097.947685,
                        "iteration": 206,
                        "remaining_time": 435.8055577,
                        "learn": [
                          0.6815444411,
                          0.6100004974
                        ]
                      },
                      {
                        "test": [
                          0.6884559831,
                          0.6104096977
                        ],
                        "passed_time": 2109.42932,
                        "iteration": 207,
                        "remaining_time": 425.9424588,
                        "learn": [
                          0.6817330805,
                          0.6098774812
                        ]
                      },
                      {
                        "test": [
                          0.6883193837,
                          0.6103686661
                        ],
                        "passed_time": 2120.782921,
                        "iteration": 208,
                        "remaining_time": 416.0387549,
                        "learn": [
                          0.6819311012,
                          0.6097214736
                        ]
                      },
                      {
                        "test": [
                          0.6884061997,
                          0.6103300633
                        ],
                        "passed_time": 2132.389042,
                        "iteration": 209,
                        "remaining_time": 406.1693413,
                        "learn": [
                          0.6820485564,
                          0.6096035714
                        ]
                      },
                      {
                        "test": [
                          0.6884869365,
                          0.6101858829
                        ],
                        "passed_time": 2142.891977,
                        "iteration": 210,
                        "remaining_time": 396.0795597,
                        "learn": [
                          0.6820459766,
                          0.6094554859
                        ]
                      },
                      {
                        "test": [
                          0.6883967359,
                          0.6101437235
                        ],
                        "passed_time": 2153.438796,
                        "iteration": 211,
                        "remaining_time": 385.9937465,
                        "learn": [
                          0.6822068481,
                          0.6093789378
                        ]
                      },
                      {
                        "test": [
                          0.6883639059,
                          0.6101139264
                        ],
                        "passed_time": 2163.56137,
                        "iteration": 212,
                        "remaining_time": 375.8299093,
                        "learn": [
                          0.6824798381,
                          0.6092620753
                        ]
                      },
                      {
                        "test": [
                          0.6883639059,
                          0.6100972559
                        ],
                        "passed_time": 2173.337563,
                        "iteration": 213,
                        "remaining_time": 365.6081882,
                        "learn": [
                          0.6824915114,
                          0.6092047152
                        ]
                      },
                      {
                        "test": [
                          0.6884489611,
                          0.6100088392
                        ],
                        "passed_time": 2183.004946,
                        "iteration": 214,
                        "remaining_time": 355.3728982,
                        "learn": [
                          0.6824963277,
                          0.6091044667
                        ]
                      },
                      {
                        "test": [
                          0.6887135023,
                          0.609960793
                        ],
                        "passed_time": 2193.628309,
                        "iteration": 215,
                        "remaining_time": 345.2933449,
                        "learn": [
                          0.6827099,
                          0.608991532
                        ]
                      },
                      {
                        "test": [
                          0.688629689,
                          0.6098863165
                        ],
                        "passed_time": 2204.406196,
                        "iteration": 216,
                        "remaining_time": 335.2322787,
                        "learn": [
                          0.6826846166,
                          0.6088902225
                        ]
                      },
                      {
                        "test": [
                          0.6886150996,
                          0.6098616156
                        ],
                        "passed_time": 2212.941192,
                        "iteration": 217,
                        "remaining_time": 324.8354043,
                        "learn": [
                          0.6827288457,
                          0.6088293009
                        ]
                      },
                      {
                        "test": [
                          0.6888820952,
                          0.6097852182
                        ],
                        "passed_time": 2222.862611,
                        "iteration": 218,
                        "remaining_time": 314.6517851,
                        "learn": [
                          0.6828651059,
                          0.6086583542
                        ]
                      },
                      {
                        "test": [
                          0.6890002687,
                          0.6097480589
                        ],
                        "passed_time": 2233.656769,
                        "iteration": 219,
                        "remaining_time": 304.5895594,
                        "learn": [
                          0.6828644137,
                          0.6085510691
                        ]
                      },
                      {
                        "test": [
                          0.6888153688,
                          0.6097297256
                        ],
                        "passed_time": 2241.348556,
                        "iteration": 220,
                        "remaining_time": 294.1136114,
                        "learn": [
                          0.6830285074,
                          0.6084926884
                        ]
                      },
                      {
                        "test": [
                          0.6888897124,
                          0.6096464981
                        ],
                        "passed_time": 2253.60379,
                        "iteration": 221,
                        "remaining_time": 284.2383158,
                        "learn": [
                          0.6831625107,
                          0.6083353994
                        ]
                      },
                      {
                        "test": [
                          0.6889490168,
                          0.6096155713
                        ],
                        "passed_time": 2262.484018,
                        "iteration": 222,
                        "remaining_time": 273.9330425,
                        "learn": [
                          0.6832257437,
                          0.6082410674
                        ]
                      },
                      {
                        "test": [
                          0.6887004864,
                          0.6095942025
                        ],
                        "passed_time": 2272.647774,
                        "iteration": 223,
                        "remaining_time": 263.7894738,
                        "learn": [
                          0.683298035,
                          0.6081330703
                        ]
                      },
                      {
                        "test": [
                          0.6887801442,
                          0.6094909554
                        ],
                        "passed_time": 2282.942202,
                        "iteration": 224,
                        "remaining_time": 253.6602447,
                        "learn": [
                          0.6833301279,
                          0.6080208054
                        ]
                      },
                      {
                        "test": [
                          0.6889848412,
                          0.6094637817
                        ],
                        "passed_time": 2293.84553,
                        "iteration": 225,
                        "remaining_time": 243.5942156,
                        "learn": [
                          0.6834243873,
                          0.6079093716
                        ]
                      },
                      {
                        "test": [
                          0.6890904207,
                          0.6094288291
                        ],
                        "passed_time": 2305.243815,
                        "iteration": 226,
                        "remaining_time": 233.5709593,
                        "learn": [
                          0.683572436,
                          0.60779367
                        ]
                      },
                      {
                        "test": [
                          0.6891797993,
                          0.6094177609
                        ],
                        "passed_time": 2314.885903,
                        "iteration": 227,
                        "remaining_time": 223.3661836,
                        "learn": [
                          0.6837518758,
                          0.6076635586
                        ]
                      },
                      {
                        "test": [
                          0.6891888137,
                          0.6093824272
                        ],
                        "passed_time": 2325.594838,
                        "iteration": 228,
                        "remaining_time": 213.2641555,
                        "learn": [
                          0.6837804528,
                          0.6075724664
                        ]
                      },
                      {
                        "test": [
                          0.6890963309,
                          0.6093439336
                        ],
                        "passed_time": 2337.174905,
                        "iteration": 229,
                        "remaining_time": 203.2326004,
                        "learn": [
                          0.6839822933,
                          0.6074480486
                        ]
                      },
                      {
                        "test": [
                          0.6890880806,
                          0.609224607
                        ],
                        "passed_time": 2348.731363,
                        "iteration": 230,
                        "remaining_time": 193.1856965,
                        "learn": [
                          0.6840090069,
                          0.6073318114
                        ]
                      },
                      {
                        "test": [
                          0.6891090943,
                          0.609181418
                        ],
                        "passed_time": 2359.328345,
                        "iteration": 231,
                        "remaining_time": 183.0513371,
                        "learn": [
                          0.6841055072,
                          0.6072069107
                        ]
                      },
                      {
                        "test": [
                          0.6893006974,
                          0.6091444301
                        ],
                        "passed_time": 2369.187995,
                        "iteration": 232,
                        "remaining_time": 172.8592099,
                        "learn": [
                          0.6841948978,
                          0.6071164781
                        ]
                      },
                      {
                        "test": [
                          0.6892546521,
                          0.6091117774
                        ],
                        "passed_time": 2378.165973,
                        "iteration": 233,
                        "remaining_time": 162.6096392,
                        "learn": [
                          0.6842376573,
                          0.6070632682
                        ]
                      },
                      {
                        "test": [
                          0.6892264937,
                          0.6090919733
                        ],
                        "passed_time": 2389.481546,
                        "iteration": 234,
                        "remaining_time": 152.5200987,
                        "learn": [
                          0.684341047,
                          0.6069914331
                        ]
                      },
                      {
                        "test": [
                          0.6895019441,
                          0.6089499984
                        ],
                        "passed_time": 2399.278057,
                        "iteration": 235,
                        "remaining_time": 142.3300542,
                        "learn": [
                          0.684466423,
                          0.6068583789
                        ]
                      },
                      {
                        "test": [
                          0.6897075157,
                          0.6088415042
                        ],
                        "passed_time": 2409.564041,
                        "iteration": 236,
                        "remaining_time": 132.1701794,
                        "learn": [
                          0.6844943158,
                          0.6067443493
                        ]
                      },
                      {
                        "test": [
                          0.6897107449,
                          0.6087471973
                        ],
                        "passed_time": 2420.077104,
                        "iteration": 237,
                        "remaining_time": 122.0206943,
                        "learn": [
                          0.6844794777,
                          0.6066521276
                        ]
                      },
                      {
                        "test": [
                          0.6896379248,
                          0.6086712924
                        ],
                        "passed_time": 2431.374024,
                        "iteration": 238,
                        "remaining_time": 111.9042438,
                        "learn": [
                          0.6845590384,
                          0.6065608546
                        ]
                      },
                      {
                        "test": [
                          0.6896973516,
                          0.6085590989
                        ],
                        "passed_time": 2441.804834,
                        "iteration": 239,
                        "remaining_time": 101.7418681,
                        "learn": [
                          0.6846121681,
                          0.6064287209
                        ]
                      },
                      {
                        "test": [
                          0.6895829472,
                          0.6085343992
                        ],
                        "passed_time": 2452.037559,
                        "iteration": 240,
                        "remaining_time": 91.56986733,
                        "learn": [
                          0.6846788622,
                          0.6063076468
                        ]
                      },
                      {
                        "test": [
                          0.6894525094,
                          0.6084271585
                        ],
                        "passed_time": 2460.61551,
                        "iteration": 241,
                        "remaining_time": 81.34266147,
                        "learn": [
                          0.684787051,
                          0.6061940795
                        ]
                      },
                      {
                        "test": [
                          0.6894166945,
                          0.6083517081
                        ],
                        "passed_time": 2471.150851,
                        "iteration": 242,
                        "remaining_time": 71.18541545,
                        "learn": [
                          0.6849248022,
                          0.6060716752
                        ]
                      },
                      {
                        "test": [
                          0.6893789062,
                          0.6083316317
                        ],
                        "passed_time": 2481.891871,
                        "iteration": 243,
                        "remaining_time": 61.03012796,
                        "learn": [
                          0.6851106496,
                          0.6059556024
                        ]
                      },
                      {
                        "test": [
                          0.6894339098,
                          0.6082985403
                        ],
                        "passed_time": 2492.06206,
                        "iteration": 244,
                        "remaining_time": 50.85840938,
                        "learn": [
                          0.6851876491,
                          0.6058850344
                        ]
                      },
                      {
                        "test": [
                          0.6896065723,
                          0.6082621486
                        ],
                        "passed_time": 2501.834543,
                        "iteration": 245,
                        "remaining_time": 40.68023647,
                        "learn": [
                          0.685304152,
                          0.6057563243
                        ]
                      },
                      {
                        "test": [
                          0.6897216711,
                          0.6082240952
                        ],
                        "passed_time": 2512.203421,
                        "iteration": 246,
                        "remaining_time": 30.51259216,
                        "learn": [
                          0.6854795406,
                          0.6056456357
                        ]
                      },
                      {
                        "test": [
                          0.6898054157,
                          0.6082046295
                        ],
                        "passed_time": 2522.265538,
                        "iteration": 247,
                        "remaining_time": 20.34085112,
                        "learn": [
                          0.6854834686,
                          0.6055679703
                        ]
                      },
                      {
                        "test": [
                          0.6897824092,
                          0.6081916517
                        ],
                        "passed_time": 2532.488003,
                        "iteration": 248,
                        "remaining_time": 10.17063455,
                        "learn": [
                          0.6855945312,
                          0.6054840908
                        ]
                      },
                      {
                        "test": [
                          0.6898252445,
                          0.6081710606
                        ],
                        "passed_time": 2539.547282,
                        "iteration": 249,
                        "remaining_time": 0,
                        "learn": [
                          0.6857855658,
                          0.6054024619
                        ]
                      }
                    ]
                  },
                  "total_iterations": 250,
                  "passed_iterations": 249
                },
                "path": "catboost_info",
                "name": "catboost_info"
              }
            },
            "_view_module": "catboost-widget",
            "_model_module_version": "^1.0.0",
            "_view_count": null,
            "_view_module_version": "^1.0.0",
            "layout": "IPY_MODEL_72e0999df3c747bf8317e4820f3133df",
            "_model_module": "catboost-widget"
          }
        }
      }
    }
  },
  "nbformat": 4,
  "nbformat_minor": 0
}